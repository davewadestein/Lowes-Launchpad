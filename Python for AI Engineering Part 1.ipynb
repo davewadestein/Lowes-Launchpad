{
 "cells": [
  {
   "cell_type": "markdown",
   "id": "33dd06a1-dfb8-44bb-931f-210b9b4720ce",
   "metadata": {},
   "source": [
    "# Python for AI Engineering (and Beyond) Part 1"
   ]
  },
  {
   "cell_type": "markdown",
   "id": "7f7cce5f-167e-4f3c-aa75-f69d72a198f2",
   "metadata": {},
   "source": [
    "## Important topics (to be filled in as we progress thru the class)\n",
    "* scalars vs. containers\n",
    "* mutable vs. immutable objects\n",
    "* \"truthiness\""
   ]
  },
  {
   "cell_type": "markdown",
   "id": "8d506c49-9a0e-4d6f-8143-13aea351849c",
   "metadata": {},
   "source": [
    "## Programming \"Pythonically\" (ditto)"
   ]
  },
  {
   "cell_type": "code",
   "execution_count": null,
   "id": "9188c35e-52d1-4966-a8b5-472146ed4a87",
   "metadata": {},
   "outputs": [],
   "source": []
  },
  {
   "cell_type": "markdown",
   "id": "cb874cc9-3055-432e-8866-6e60f56f23e5",
   "metadata": {},
   "source": [
    "## Programming Wisdon–_not Python-specific_ (ditto)"
   ]
  },
  {
   "cell_type": "code",
   "execution_count": null,
   "id": "dc6cf4e0-7bec-4374-8087-31291cece1f4",
   "metadata": {},
   "outputs": [],
   "source": []
  },
  {
   "cell_type": "markdown",
   "id": "2e5c18fb-047a-4573-bb1b-5c06ac6ab635",
   "metadata": {},
   "source": [
    "## Potential Topics to Review (or Learn)\n",
    "* indexing/slicing (cf. __`range()`__)\n",
    "* tuples\n",
    "* sets\n",
    "* leveraging AI\n",
    "* __`sorted`__/__`.sort`__ (and built-in functions vs. methods)\n",
    "* __`enumerate`__/__`zip`__\n",
    "* \"truthiness\" (truthy/falsy values)\n",
    "* __`any`__/__`all`__ (might be better after comprehensions)"
   ]
  },
  {
   "cell_type": "code",
   "execution_count": null,
   "id": "7d1fbfcb-6d4e-46b4-95f2-2c3c48257440",
   "metadata": {
    "id": "-DvSKzI_5_fg"
   },
   "outputs": [],
   "source": [
    "alphabet = 'abcdefghijklmnopqrstuvwxyz'\n",
    "         #  01234567890123456789012345\n",
    "         #                         321-"
   ]
  },
  {
   "cell_type": "code",
   "execution_count": null,
   "id": "590be327-1282-4652-8e48-b1908db4acca",
   "metadata": {
    "colab": {
     "base_uri": "https://localhost:8080/",
     "height": 35
    },
    "id": "Ek0NrjeH5_fg",
    "outputId": "7fa061e3-42df-4a4d-e76e-3b3e1b0ab200"
   },
   "outputs": [],
   "source": [
    "alphabet[10:15]"
   ]
  },
  {
   "cell_type": "code",
   "execution_count": null,
   "id": "2a5e3923-2bbf-4bed-8fed-3dfc71d28756",
   "metadata": {
    "colab": {
     "base_uri": "https://localhost:8080/",
     "height": 35
    },
    "id": "HxS3UTt35_fg",
    "outputId": "80f0d4e2-a5ec-4d8b-a88e-f1c479d51ccf"
   },
   "outputs": [],
   "source": [
    "alphabet[:5]"
   ]
  },
  {
   "cell_type": "code",
   "execution_count": null,
   "id": "f2d9496b-4963-4c39-b7b3-ba1ddb44ba93",
   "metadata": {
    "colab": {
     "base_uri": "https://localhost:8080/",
     "height": 35
    },
    "id": "XgWuKItU5_fg",
    "outputId": "ca24798d-ca8c-4495-b199-73da4fb2291b"
   },
   "outputs": [],
   "source": [
    "alphabet[23:]"
   ]
  },
  {
   "cell_type": "code",
   "execution_count": null,
   "id": "bdd034d8-226d-4b6e-8d99-fb52db71f381",
   "metadata": {
    "colab": {
     "base_uri": "https://localhost:8080/",
     "height": 35
    },
    "id": "Uldse7u75_fg",
    "outputId": "a7183564-73b6-43dc-ae0c-d1fa029abd52"
   },
   "outputs": [],
   "source": [
    "alphabet[3:23:3]"
   ]
  },
  {
   "cell_type": "code",
   "execution_count": null,
   "id": "1c5b3a39-6f15-4070-ba0a-064314b2e521",
   "metadata": {
    "colab": {
     "base_uri": "https://localhost:8080/",
     "height": 35
    },
    "id": "Zs3-PEF65_fg",
    "outputId": "ea37626e-93e6-4f6c-863d-60155d8eb551"
   },
   "outputs": [],
   "source": [
    "alphabet[10:2:-1]"
   ]
  },
  {
   "cell_type": "code",
   "execution_count": null,
   "id": "ce0f0241-db12-4cef-be8a-28ecb6fef2b7",
   "metadata": {
    "colab": {
     "base_uri": "https://localhost:8080/",
     "height": 35
    },
    "id": "Y1F5VlVm5_fg",
    "outputId": "a2745b51-c5cc-4381-b8a9-319031dc03bc"
   },
   "outputs": [],
   "source": [
    "alphabet[-3:]"
   ]
  },
  {
   "cell_type": "code",
   "execution_count": null,
   "id": "573bb524-1684-42c7-a641-9c88175718cf",
   "metadata": {
    "colab": {
     "base_uri": "https://localhost:8080/",
     "height": 35
    },
    "id": "aEQqV8l85_fg",
    "outputId": "c8b7fb81-d873-4ab3-9362-54ebb2c11d57"
   },
   "outputs": [],
   "source": [
    "alphabet[::-1]"
   ]
  },
  {
   "cell_type": "markdown",
   "id": "b473ba0b-177c-4efc-bf82-bdf79ed0237c",
   "metadata": {
    "id": "jlf1ImkRljs3"
   },
   "source": [
    "## Tuples\n",
    "* immutable data type\n",
    "* typically heterogeneous (cf. lists)\n",
    "* generally imply some structure\n",
    " * tuples typically represent a single object, but multiple aspects/attributes of it\n",
    " * if lists are typically used like the __columns__ of a spreadsheet...\n",
    "   * then tuples are typically the __rows__..."
   ]
  },
  {
   "cell_type": "code",
   "execution_count": null,
   "id": "2906fdae-081f-430f-916d-e6cf1fca3c04",
   "metadata": {
    "id": "AoKF1lNhljs3"
   },
   "outputs": [],
   "source": [
    "t = () # empty tuple (cf. empty list...[])\n",
    "t"
   ]
  },
  {
   "cell_type": "code",
   "execution_count": null,
   "id": "238d2353-4bdd-4ab6-b2e2-cc864b681157",
   "metadata": {
    "id": "SAo-zcLLljs3"
   },
   "outputs": [],
   "source": [
    "type(t)"
   ]
  },
  {
   "cell_type": "code",
   "execution_count": null,
   "id": "f6710412-df5a-4c6a-bcef-83b6c26bff2f",
   "metadata": {
    "id": "3X-eSTPTljs3"
   },
   "outputs": [],
   "source": [
    "t = (3,) # \"singleton tuple\""
   ]
  },
  {
   "cell_type": "code",
   "execution_count": null,
   "id": "60a6f4d7-8a2a-4479-b010-f254751087f6",
   "metadata": {
    "id": "Zvt8Zxo_ljs3",
    "scrolled": true
   },
   "outputs": [],
   "source": [
    "t"
   ]
  },
  {
   "cell_type": "code",
   "execution_count": null,
   "id": "0b21b2fe-de26-4a50-8902-d3fe6fede296",
   "metadata": {
    "id": "B3noiW03ljs3"
   },
   "outputs": [],
   "source": [
    "t = 'Jones', 'John', 1023, True # no parens\n",
    "t"
   ]
  },
  {
   "cell_type": "code",
   "execution_count": null,
   "id": "00cff74e-701c-4ecf-9071-1f5f72d224bf",
   "metadata": {
    "id": "H6dhe5iVljs3"
   },
   "outputs": [],
   "source": [
    "# tuple unpacking\n",
    "last_name, first_name, employee_num, full_time = t"
   ]
  },
  {
   "cell_type": "code",
   "execution_count": null,
   "id": "ab759812-9c0d-4204-a944-776d2f5988f4",
   "metadata": {
    "id": "Ss8yPgealjs4"
   },
   "outputs": [],
   "source": [
    "employee_num # type(employee_num)"
   ]
  },
  {
   "cell_type": "code",
   "execution_count": null,
   "id": "dfb01e84-787a-4ad7-a329-551300e3c6e6",
   "metadata": {
    "id": "kNuaiiTVljs4"
   },
   "outputs": [],
   "source": [
    "something = input('Enter something: ')\n",
    "as_a_list = something.split() # split() always returns a list\n",
    "as_a_tuple = tuple(as_a_list) # tuple() always returns a tuple"
   ]
  },
  {
   "cell_type": "code",
   "execution_count": null,
   "id": "cd27c2c3-11d4-4460-bb54-7bb7fbd4e34f",
   "metadata": {
    "id": "U64QdmKgljs4"
   },
   "outputs": [],
   "source": [
    "print(as_a_list, as_a_tuple, sep='\\n')"
   ]
  },
  {
   "cell_type": "code",
   "execution_count": null,
   "id": "d4583ac5-b185-4fe9-96c0-36c99a8836ef",
   "metadata": {
    "id": "2B4c8UAVljs4"
   },
   "outputs": [],
   "source": [
    "person = 'Sara Breedlove', 1867, 'Louisiana'"
   ]
  },
  {
   "cell_type": "code",
   "execution_count": null,
   "id": "a6e551f6-1a3b-4c18-aa37-d27a86267b7c",
   "metadata": {
    "id": "vZHQ3jFtljs4"
   },
   "outputs": [],
   "source": [
    "person[-1]"
   ]
  },
  {
   "cell_type": "code",
   "execution_count": null,
   "id": "c8fa7642-9578-4a54-bb0c-26a390b7fdaf",
   "metadata": {
    "id": "prB-uDwtljs4"
   },
   "outputs": [],
   "source": [
    "person[1] = 1868"
   ]
  },
  {
   "cell_type": "markdown",
   "id": "aee09095-98e9-4eb6-996a-3c34524cfe97",
   "metadata": {
    "id": "jU1BahhZljs6"
   },
   "source": [
    "## Sets\n",
    "* unordered collection, no duplicates\n",
    "* kind of a one-trick pony–remove duplicates"
   ]
  },
  {
   "cell_type": "code",
   "execution_count": null,
   "id": "5a9c775c-296c-4fb8-8ee8-27cddc60d971",
   "metadata": {
    "colab": {
     "base_uri": "https://localhost:8080/"
    },
    "id": "qOPxwwuEljs6",
    "outputId": "8e0ee733-2bfa-4ef1-be68-843ac108ed35",
    "scrolled": true
   },
   "outputs": [],
   "source": [
    "s = { 'Annie', 'Betty', 'Cathy', 'Donna' }\n",
    "print(s)"
   ]
  },
  {
   "cell_type": "code",
   "execution_count": null,
   "id": "e823f1b4-8fa4-40cd-8450-2bc291db06f6",
   "metadata": {
    "colab": {
     "base_uri": "https://localhost:8080/"
    },
    "id": "41xIECoSljs6",
    "outputId": "1b855f49-3124-4163-df6a-98c3decf0bd1"
   },
   "outputs": [],
   "source": [
    "s.add('Ellen')\n",
    "print(s)"
   ]
  },
  {
   "cell_type": "code",
   "execution_count": null,
   "id": "0ff66ab7-a3ed-42a6-ab4e-6bef0eb42b12",
   "metadata": {
    "colab": {
     "base_uri": "https://localhost:8080/"
    },
    "id": "lT1DsLL3ljs6",
    "outputId": "9c7608e8-d6fd-42eb-db1b-46e724026858"
   },
   "outputs": [],
   "source": [
    "s.add('Annie')\n",
    "print(s)"
   ]
  },
  {
   "cell_type": "code",
   "execution_count": null,
   "id": "ef6e7ea0-9752-4679-87c8-9b07a8b6cf96",
   "metadata": {
    "id": "a-OfVrwgljs6"
   },
   "outputs": [],
   "source": [
    "# we can use the 'in' operator\n",
    "if 'Annie' in s:\n",
    "    print('Yep!')"
   ]
  },
  {
   "cell_type": "markdown",
   "id": "7feed971-f2a2-4845-b108-2be351066fee",
   "metadata": {
    "id": "muGBsKZhljs6"
   },
   "source": [
    "## Deleting from a Set\n",
    "* __`remove(item)`__: remove an item if it's in the set\n",
    "* __`discard(item)`__: remove an item whether or not it's in the set\n",
    "* __`pop()`__: pops a random element out of the set"
   ]
  },
  {
   "cell_type": "code",
   "execution_count": null,
   "id": "d56b98b0-79e5-4211-82f3-aeddd3f28e33",
   "metadata": {
    "colab": {
     "base_uri": "https://localhost:8080/"
    },
    "id": "-2gocQvhljs6",
    "outputId": "b1740820-9db1-4f71-95d7-11c29b7d9920"
   },
   "outputs": [],
   "source": [
    "print(s)"
   ]
  },
  {
   "cell_type": "code",
   "execution_count": null,
   "id": "dd44522a-d2a2-4117-b80b-ef05ec5fac8e",
   "metadata": {
    "colab": {
     "base_uri": "https://localhost:8080/",
     "height": 141
    },
    "id": "hyM-DVPTljs6",
    "outputId": "af39e4a5-d0ec-4610-d626-da20c7cdac4f"
   },
   "outputs": [],
   "source": [
    "s.remove('Betty')"
   ]
  },
  {
   "cell_type": "code",
   "execution_count": null,
   "id": "a45346f6-7679-43f5-8307-a9d354052f2b",
   "metadata": {
    "colab": {
     "base_uri": "https://localhost:8080/"
    },
    "id": "aVHhFGGgljs6",
    "outputId": "29b471cd-2cde-41ca-ad17-eb2dfe0f266b"
   },
   "outputs": [],
   "source": [
    "print(s)"
   ]
  },
  {
   "cell_type": "code",
   "execution_count": null,
   "id": "ce043cfc-18a5-448a-9804-fc20ae995f5b",
   "metadata": {
    "id": "N7wT57GGljs6"
   },
   "outputs": [],
   "source": [
    "s.discard('Loren')"
   ]
  },
  {
   "cell_type": "code",
   "execution_count": null,
   "id": "cec3ced8-d2c0-455d-bb76-63f963f0e798",
   "metadata": {
    "colab": {
     "base_uri": "https://localhost:8080/"
    },
    "id": "87bPo_u-ljs6",
    "outputId": "498c1415-31c8-4afc-8c42-993f632419a6"
   },
   "outputs": [],
   "source": [
    "print(s)"
   ]
  },
  {
   "cell_type": "code",
   "execution_count": null,
   "id": "586a84b1-ac7b-4f9e-9381-0628cad86a22",
   "metadata": {
    "colab": {
     "base_uri": "https://localhost:8080/"
    },
    "id": "hzemZqiVljs6",
    "outputId": "6d9363cd-56bf-44de-9e12-50ddab73685e"
   },
   "outputs": [],
   "source": [
    "print(s.pop())\n",
    "print(s)"
   ]
  },
  {
   "cell_type": "code",
   "execution_count": null,
   "id": "0db58550-a8d4-4efb-940e-216741baddc0",
   "metadata": {
    "colab": {
     "base_uri": "https://localhost:8080/"
    },
    "id": "lCQorLQTljs6",
    "outputId": "4933c4ec-4f1f-4c2c-ac37-0ab3622dac87"
   },
   "outputs": [],
   "source": [
    "while s: # while the set is non-empty\n",
    "    print(s.pop())"
   ]
  },
  {
   "cell_type": "markdown",
   "id": "7abb0f4f-441b-407b-9da1-1eb59bc89b6e",
   "metadata": {
    "id": "7PC3Bz74m1kg"
   },
   "source": [
    "## Quick Lab: Common elements between two sets\n",
    "* Write a program that asks the user to input two lists and then finds and prints the common elements between them\n",
    "<pre><b>\n",
    "Enter a list of items: apple cherry banana lemon\n",
    "Enter a second list of items: apple guava banana lime\n",
    "Common elements: apple banana\n",
    "</b></pre>\n",
    "\n",
    "* Note: this uses a set method we haven't yet learned...how will you find it?"
   ]
  },
  {
   "cell_type": "markdown",
   "id": "6ead3085-ef4f-4568-ac83-69e660004b38",
   "metadata": {
    "id": "GOx1iSVBljs6"
   },
   "source": [
    "## Quick Lab: Sets\n",
    "* Use a set to find all of the unique words in the input and print them out in sorted order\n",
    "* If the user entered __There is no there there__, your program should print out\n",
    "   <pre><b>\n",
    "   is\n",
    "   no\n",
    "   there\n",
    "   </b></pre>\n",
    "* Note that `There` and `there` should be counted as the same word."
   ]
  },
  {
   "cell_type": "markdown",
   "id": "12218f8d-cbf0-4576-a994-5f17b5e4f928",
   "metadata": {
    "id": "ZGWkRFL3ljs6"
   },
   "source": [
    "## Sets Recap\n",
    "* unordered\n",
    "* no duplicates\n",
    "* use __`in`__ to test for membership\n"
   ]
  },
  {
   "cell_type": "markdown",
   "id": "a77923c5-f95a-4686-9c89-1e3249fc9971",
   "metadata": {
    "id": "wrSmt5L55_fn"
   },
   "source": [
    "## Sorting\n",
    "* __`sorted()`__: _built-in function_ which returns a sorted list created\n",
    "from an iterable/sequence\n",
    "* __`sort()`__: _method_ to sort a list in place"
   ]
  },
  {
   "cell_type": "code",
   "execution_count": null,
   "id": "ba95ac86-ff0c-4094-b15c-fdcb1afe40c1",
   "metadata": {},
   "outputs": [],
   "source": [
    "cars = ['Tesla', 'Rivian', 'Lucid', 'Polestar', 'Aptera']"
   ]
  },
  {
   "cell_type": "code",
   "execution_count": null,
   "id": "d47a03f9-67d4-44e6-9bd0-c7c91bb1a366",
   "metadata": {
    "colab": {
     "base_uri": "https://localhost:8080/"
    },
    "id": "1Q554Xv95_fn",
    "outputId": "28684ae6-36e5-485d-f7c0-3447017e4de5"
   },
   "outputs": [],
   "source": [
    "sorted(cars) # what does this do?"
   ]
  },
  {
   "cell_type": "code",
   "execution_count": null,
   "id": "b06dc717-16e6-4b3e-811b-f3269bee453c",
   "metadata": {
    "colab": {
     "base_uri": "https://localhost:8080/"
    },
    "id": "uz98dYeM5_fn",
    "outputId": "f8500166-d41a-4f67-f76d-33efe01b9db0"
   },
   "outputs": [],
   "source": [
    "cars.sort() # vs. this\n",
    "cars"
   ]
  },
  {
   "cell_type": "code",
   "execution_count": null,
   "id": "3b521189-7a8d-4ce4-908d-68bef8b57d6e",
   "metadata": {
    "colab": {
     "base_uri": "https://localhost:8080/"
    },
    "id": "hzVpil8J5_fn",
    "outputId": "e25e6430-dbd1-4c0b-b494-d9493f7ecc72"
   },
   "outputs": [],
   "source": [
    "cars.sort(reverse=True)\n",
    "cars"
   ]
  },
  {
   "cell_type": "code",
   "execution_count": null,
   "id": "d1b376a2-5450-4556-a2f3-6d76b1504873",
   "metadata": {
    "colab": {
     "base_uri": "https://localhost:8080/"
    },
    "id": "FUu_pu5z5_fn",
    "outputId": "a1146d5c-eca4-44cb-b087-c4e7b0b208d6",
    "scrolled": true
   },
   "outputs": [],
   "source": [
    "# Is this correct?\n",
    "cars = sorted(cars) # cars.sort()\n",
    "print(cars)"
   ]
  },
  {
   "cell_type": "code",
   "execution_count": null,
   "id": "09a7c39f-db04-48da-9bff-1f23e6823582",
   "metadata": {
    "colab": {
     "base_uri": "https://localhost:8080/"
    },
    "id": "TRLqrsvT5_fn",
    "outputId": "d2473dcd-05f1-42fb-8def-148120081495"
   },
   "outputs": [],
   "source": [
    "cars"
   ]
  },
  {
   "cell_type": "code",
   "execution_count": null,
   "id": "f1961b13-cfb2-4f5b-941c-e31fc107fe50",
   "metadata": {
    "colab": {
     "base_uri": "https://localhost:8080/"
    },
    "id": "WBteym6w5_fn",
    "outputId": "6bd87312-7061-4bd6-907e-9839a3e278ea"
   },
   "outputs": [],
   "source": [
    "# What about this?\n",
    "cars = cars.sort() # cars.sort()\n",
    "print(cars)"
   ]
  },
  {
   "cell_type": "markdown",
   "id": "757fe847-a5a1-4013-b042-b0de00d656dd",
   "metadata": {},
   "source": [
    "## __`enumerate(iterable)`__"
   ]
  },
  {
   "cell_type": "code",
   "execution_count": null,
   "id": "ad983baf-b500-43c3-bcd8-81f7c0119d5d",
   "metadata": {},
   "outputs": [],
   "source": [
    "cars = ['Tesla', 'Rivian', 'Lucid', 'Polestar', 'Aptera']"
   ]
  },
  {
   "cell_type": "code",
   "execution_count": null,
   "id": "1bd42595-700c-48f8-9a56-2976287ab248",
   "metadata": {
    "id": "0CLdHbOiljs1",
    "tags": []
   },
   "outputs": [],
   "source": [
    "# print the carmakers and their indices\n",
    "# works, but what don't we like about it?\n",
    "\n",
    "index = 0\n",
    "for car in cars: # \"for thing in container\"\n",
    "    print('index', index, 'is', car)\n",
    "    index += 1"
   ]
  },
  {
   "cell_type": "code",
   "execution_count": null,
   "id": "fc407204-cb9f-452f-8d4c-13fe1d9b7cbf",
   "metadata": {},
   "outputs": [],
   "source": []
  },
  {
   "cell_type": "markdown",
   "id": "ab422f21-5797-407b-8dc0-e3dd6e0ab5b0",
   "metadata": {},
   "source": [
    "* what if we don't want the indices to start at 0?"
   ]
  },
  {
   "cell_type": "code",
   "execution_count": null,
   "id": "ae7ddc97-d4f6-42f9-917f-e3e0f0738b48",
   "metadata": {},
   "outputs": [],
   "source": []
  },
  {
   "cell_type": "markdown",
   "id": "9bf02a53-3b5c-4c4f-93c7-2957d4a1195f",
   "metadata": {},
   "source": [
    "## Quick Lab: Find index of all occurrences of a letter in a string\n",
    "* e.g., find the indices of all a's in \"bananas\""
   ]
  },
  {
   "cell_type": "markdown",
   "id": "0b980391-7417-460a-8287-7b0f16150189",
   "metadata": {
    "id": "4SoPZTtTljs1"
   },
   "source": [
    "## __`zip(*iterables)`__\n",
    "* builtin function which pair up each item in an iterable with the corresponding item in the other iterable(s)\n",
    "* what does the function return (or generate)?\n",
    "* why is it called __`zip`__?"
   ]
  },
  {
   "cell_type": "code",
   "execution_count": null,
   "id": "60743a72-fac7-4745-9b6e-126efe61bd2f",
   "metadata": {
    "id": "3mnkUerBljs1"
   },
   "outputs": [],
   "source": [
    "first_names = ['Katherine', 'Bruce', 'Taylor']\n",
    "last_names = ['Johnson', 'Lee', 'Swift']\n",
    "\n",
    "for first, last in zip(first_names, last_names):\n",
    "    print(first, last)"
   ]
  },
  {
   "cell_type": "code",
   "execution_count": null,
   "id": "88016e24-43cb-457f-a22d-c4c2c6d1d193",
   "metadata": {
    "id": "ABV9CGpVljs2",
    "tags": []
   },
   "outputs": [],
   "source": [
    "first_names = ['Katherine', 'Bruce', 'Taylor']\n",
    "last_names = ['Johnson', 'Lee', 'Swift', 'Frost']\n",
    "\n",
    "for first, last in zip(first_names, last_names):\n",
    "    print(first, last)"
   ]
  },
  {
   "cell_type": "code",
   "execution_count": null,
   "id": "a04c4b27-c144-44ce-b9d2-c2908cf8b321",
   "metadata": {},
   "outputs": [],
   "source": [
    "first_names = ['Katherine', 'Bruce', 'Taylor']\n",
    "last_names = ['Johnson', 'Lee', 'Swift']\n",
    "employee_nums = [3456, 1234, 2468]\n",
    "\n",
    "for first, last, num in zip(first_names, last_names, employee_nums):\n",
    "    print(first, last, num)"
   ]
  },
  {
   "cell_type": "code",
   "execution_count": null,
   "id": "68ec1e24-abcf-4295-b28b-de632a33a0b1",
   "metadata": {
    "id": "BI7zyOB4ljs2",
    "tags": []
   },
   "outputs": [],
   "source": [
    "import itertools # module that helps with iteration\n",
    "\n",
    "first_names = ['Katherine', 'Bruce', 'Taylor']\n",
    "last_names = ['Johnson', 'Lee', 'Swift', 'Frost']\n",
    "\n",
    "for first, last in itertools.zip_longest(first_names, last_names):\n",
    "    print(first, last)"
   ]
  },
  {
   "cell_type": "code",
   "execution_count": null,
   "id": "02430b9d-5beb-4bee-a746-5bf33745bc96",
   "metadata": {
    "id": "9Hy2MxMfljs2"
   },
   "outputs": [],
   "source": [
    "first_names = ['Katherine', 'Bruce', 'Taylor']\n",
    "last_names = ['Johnson', 'Lee', 'Swift', 'Frost']\n",
    "\n",
    "for first, last in zip(first_names, last_names, strict=True):\n",
    "    print(first, last)"
   ]
  },
  {
   "cell_type": "markdown",
   "id": "70f17539-27e0-4f33-bb54-e64cc346ae05",
   "metadata": {},
   "source": [
    "## Quick Lab:\n",
    "* Compare two lists and report the first index where they differ.\n",
    "* e.g.,\n",
    "<pre>\n",
    "    list1 = [1, 2, 3, 4, 5]\n",
    "    list2 = [1, 2, 0, 4, 5]\n",
    "</pre>"
   ]
  },
  {
   "cell_type": "code",
   "execution_count": null,
   "id": "0f239fb5-a3d8-41be-863f-c136821bd693",
   "metadata": {},
   "outputs": [],
   "source": [
    "list1 = [1, 2, 3, 4, 5]\n",
    "list2 = [1, 2, 0, 4, 5]\n",
    "for index, (first, second) in enumerate(zip(list1, list2)):\n",
    "    if first != second:\n",
    "        print(index)\n",
    "        break"
   ]
  },
  {
   "cell_type": "markdown",
   "id": "fab04d02-60fe-4cbe-9500-20a9eee43b9f",
   "metadata": {},
   "source": [
    "## Truthiness in Python\n",
    "* you can evaluate non-Boolean values in a Boolean context"
   ]
  },
  {
   "cell_type": "code",
   "execution_count": null,
   "id": "22d1be90-5bf8-43f2-a2ae-3322bff575f6",
   "metadata": {},
   "outputs": [],
   "source": [
    "number = 5\n",
    "\n",
    "if number > 0:\n",
    "    print('yep!')"
   ]
  },
  {
   "cell_type": "code",
   "execution_count": null,
   "id": "b1097256-9af7-41c6-96fb-d53b9bd5dade",
   "metadata": {},
   "outputs": [],
   "source": [
    "if number: # non-zero values are considered True\n",
    "    print('yep!')"
   ]
  },
  {
   "cell_type": "code",
   "execution_count": null,
   "id": "c1d8c785-2133-41c2-be34-f0e55a05418b",
   "metadata": {},
   "outputs": [],
   "source": [
    "if 0 or 0.0:\n",
    "    print('nope!')"
   ]
  },
  {
   "cell_type": "code",
   "execution_count": null,
   "id": "abdc9076-3dcd-4eea-a16b-184c6566c5a8",
   "metadata": {},
   "outputs": [],
   "source": [
    "name = 'Bruce Lee'\n",
    "\n",
    "if name: # non-empty containers are considered True\n",
    "    print('Yep!')"
   ]
  },
  {
   "cell_type": "code",
   "execution_count": null,
   "id": "43a1f5d2-2dc7-46a2-aab5-08d322ee8281",
   "metadata": {},
   "outputs": [],
   "source": [
    "if '':\n",
    "    print('nope!')"
   ]
  },
  {
   "cell_type": "code",
   "execution_count": null,
   "id": "629b98c5-5d83-4574-992e-56d732b08114",
   "metadata": {},
   "outputs": [],
   "source": [
    "fruits = input('Enter some fruits: ').split()"
   ]
  },
  {
   "cell_type": "code",
   "execution_count": null,
   "id": "cc0d6a6e-93b6-442b-b086-18b5d0ae114a",
   "metadata": {},
   "outputs": [],
   "source": [
    "if fruits:\n",
    "    print('yep!')"
   ]
  },
  {
   "cell_type": "code",
   "execution_count": null,
   "id": "e654d400-d906-42b5-827f-1b34ce64779f",
   "metadata": {},
   "outputs": [],
   "source": [
    "if not fruits:\n",
    "    print('nope!')"
   ]
  }
 ],
 "metadata": {
  "kernelspec": {
   "display_name": "Python 3 (ipykernel)",
   "language": "python",
   "name": "python3"
  },
  "language_info": {
   "codemirror_mode": {
    "name": "ipython",
    "version": 3
   },
   "file_extension": ".py",
   "mimetype": "text/x-python",
   "name": "python",
   "nbconvert_exporter": "python",
   "pygments_lexer": "ipython3",
   "version": "3.13.5"
  }
 },
 "nbformat": 4,
 "nbformat_minor": 5
}
