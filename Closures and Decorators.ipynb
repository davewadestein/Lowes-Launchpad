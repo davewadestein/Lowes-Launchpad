{
 "cells": [
  {
   "cell_type": "markdown",
   "metadata": {
    "slideshow": {
     "slide_type": "slide"
    }
   },
   "source": [
    "# Functional Closures and Decorators"
   ]
  },
  {
   "cell_type": "markdown",
   "metadata": {
    "slideshow": {
     "slide_type": "subslide"
    }
   },
   "source": [
    "##  Closures\n",
    "* In order to understand closures, let's be sure we understand Python's scoping rules: LEGB\n",
    "  * L = local\n",
    "  * E = enclosing\n",
    "  * G = global\n",
    "  * B = builtin (e.g., len() function)"
   ]
  },
  {
   "cell_type": "code",
   "execution_count": null,
   "metadata": {
    "slideshow": {
     "slide_type": "subslide"
    }
   },
   "outputs": [],
   "source": [
    "global_var = 'global var'\n",
    "   \n",
    "def outer_func():\n",
    "    enclosing_var = 'local to outer_func()'\n",
    "    \n",
    "    def inner_func():\n",
    "        local_var = 'local to inner_func()'\n",
    "        print(local_var)\n",
    "        print(enclosing_var, 'enclosing scope')\n",
    "        print(global_var, 'global scope')\n",
    "        \n",
    "    inner_func()"
   ]
  },
  {
   "cell_type": "code",
   "execution_count": null,
   "metadata": {},
   "outputs": [],
   "source": [
    "outer_func()"
   ]
  },
  {
   "cell_type": "markdown",
   "metadata": {
    "slideshow": {
     "slide_type": "subslide"
    }
   },
   "source": [
    "* When a function references a name that is not local, Python first attempts to resolve that name in the enclosing scope\n",
    "* A *closure* is a nested function that remembers a value or values from the enclosing lexical scope even when the program flow is no longer in the enclosing scope"
   ]
  },
  {
   "cell_type": "code",
   "execution_count": null,
   "metadata": {
    "slideshow": {
     "slide_type": "subslide"
    }
   },
   "outputs": [],
   "source": [
    "def make_adder(x):\n",
    "    # print x's address\n",
    "    print(f'id(x): 0x{id(x):x}') \n",
    "    # this is enclosing scope\n",
    "    \n",
    "    def adder(y):\n",
    "        print('in adder')\n",
    "        return x + y # Python uses LEGB to find 'x'\n",
    "    \n",
    "    print(f'id(adder): 0x{id(adder):x}')\n",
    "    return adder # we return the function adder (i.e., its address in memory) \n",
    "\n",
    "add1 = make_adder(1)\n",
    "print('about to call add1')\n",
    "add1(5)"
   ]
  },
  {
   "cell_type": "code",
   "execution_count": null,
   "metadata": {},
   "outputs": [],
   "source": [
    "# let's use repr so we can see the address of the function\n",
    "print(type(add1), repr(add1), sep='\\n')"
   ]
  },
  {
   "cell_type": "code",
   "execution_count": null,
   "metadata": {
    "scrolled": true
   },
   "outputs": [],
   "source": [
    "# all functions have a closure attribute\n",
    "add1.__closure__"
   ]
  },
  {
   "cell_type": "code",
   "execution_count": null,
   "metadata": {},
   "outputs": [],
   "source": [
    "# notice that the cell object has a reference to an int object\n",
    "add1.__closure__[0].cell_contents"
   ]
  },
  {
   "cell_type": "code",
   "execution_count": null,
   "metadata": {},
   "outputs": [],
   "source": [
    "print(make_adder.__closure__)"
   ]
  },
  {
   "cell_type": "markdown",
   "metadata": {
    "collapsed": true,
    "jupyter": {
     "outputs_hidden": true
    },
    "slideshow": {
     "slide_type": "subslide"
    }
   },
   "source": [
    "* One case where closures are frequently used is in building function wrappers\n",
    "* Suppose we want to log each invocation of a function:"
   ]
  },
  {
   "cell_type": "code",
   "execution_count": null,
   "metadata": {
    "slideshow": {
     "slide_type": "-"
    }
   },
   "outputs": [],
   "source": [
    "def logging(func):\n",
    "    def wrapper(*args, **kwargs):\n",
    "        print(f'Calling {func}({args}, {kwargs})')\n",
    "        return func(*args, **kwargs)\n",
    "        \n",
    "    return wrapper"
   ]
  },
  {
   "cell_type": "code",
   "execution_count": null,
   "metadata": {
    "slideshow": {
     "slide_type": "-"
    }
   },
   "outputs": [],
   "source": [
    "logging_add1 = logging(add1)"
   ]
  },
  {
   "cell_type": "code",
   "execution_count": null,
   "metadata": {
    "slideshow": {
     "slide_type": "-"
    }
   },
   "outputs": [],
   "source": [
    "print(add1(5))"
   ]
  },
  {
   "cell_type": "code",
   "execution_count": null,
   "metadata": {
    "slideshow": {
     "slide_type": "-"
    }
   },
   "outputs": [],
   "source": [
    "print(logging_add1(5))"
   ]
  },
  {
   "cell_type": "code",
   "execution_count": null,
   "metadata": {
    "slideshow": {
     "slide_type": "subslide"
    }
   },
   "outputs": [],
   "source": [
    "logging_add1.__closure__[0].cell_contents"
   ]
  },
  {
   "cell_type": "markdown",
   "metadata": {
    "slideshow": {
     "slide_type": "subslide"
    }
   },
   "source": [
    "## Decorators\n",
    "* Wrapper functions are so common, that Python has its own term for it–a *decorator*.\n",
    "* Why might you want to use a decorator?\n",
    "  * sometimes you want to modify a function’s behavior without explicitly modifying the function, e.g., pre/post actions, debugging, etc. \n",
    "  * suppose we have a set of tasks that need to be performed by many different functions, e.g.,\n",
    "   * access control\n",
    "   * cleanup\n",
    "   * error handling\n",
    "   * logging\n",
    " * ...in other words, there is some boilerplate code that needs to be executed before or after  every invocation of the function\n"
   ]
  },
  {
   "cell_type": "markdown",
   "metadata": {
    "slideshow": {
     "slide_type": "subslide"
    }
   },
   "source": [
    "## Decorators build on topics we already know...\n",
    "* nested functions\n",
    "* variable positional args (__`*args`__)\n",
    "* variable keyword args (__`**kwargs`__)\n",
    "* functions are objects (actually everything in Python is an object)"
   ]
  },
  {
   "cell_type": "code",
   "execution_count": null,
   "metadata": {},
   "outputs": [],
   "source": [
    "#from functools import wraps\n",
    "\n",
    "def document_it(func):\n",
    "    # below is a nested, or inner function\n",
    "    # the @wraps decorator is needed so metadata (like .__doc__) is not lost\n",
    "    #@wraps(func)\n",
    "    def wrapper(*args, **kwargs):\n",
    "        print(f'Running function: {func.__name__}')\n",
    "        print(f'Positional arguments: {args}')\n",
    "        print(f'Keyword arguments: {kwargs}')\n",
    "        # here we invoke the function passed in as an argument\n",
    "        result = func(*args, **kwargs)\n",
    "        print(f'Result: {result}')\n",
    "        return result\n",
    "    \n",
    "    # document_it() is returning a reference to the inner function\n",
    "    return new_function"
   ]
  },
  {
   "cell_type": "code",
   "execution_count": null,
   "metadata": {},
   "outputs": [],
   "source": [
    "def add_things(a, b):\n",
    "    \"\"\"Add 2 numbers.\"\"\"\n",
    "    return a + b\n",
    "\n",
    "print('Running plain old add_things()')\n",
    "print(add_things(13, 5))"
   ]
  },
  {
   "cell_type": "code",
   "execution_count": null,
   "metadata": {},
   "outputs": [],
   "source": [
    "# manual decorator assignment\n",
    "cooler_add_things = document_it(add_things) "
   ]
  },
  {
   "cell_type": "code",
   "execution_count": null,
   "metadata": {},
   "outputs": [],
   "source": [
    "#print('Running cooler_add_things()')\n",
    "cooler_add_things(13, 5)"
   ]
  },
  {
   "cell_type": "code",
   "execution_count": null,
   "metadata": {},
   "outputs": [],
   "source": [
    "# decorator shorthand for what we did above\n",
    "\n",
    "@document_it\n",
    "def add_things(a, b):\n",
    "    \"\"\"Add two numbers, a and b.\"\"\"\n",
    "    return a + b\n",
    "\n",
    "# add_things = document_it(add_things)\n",
    "\n",
    "print(add_things(13, -5))"
   ]
  },
  {
   "cell_type": "markdown",
   "metadata": {},
   "source": [
    "## Lab: Decorators\n",
    "1. Make a timer decorator that computes the elapsed time of the function wrapped by it\n",
    "2. Create some function which takes an integer as its parameter\n",
    "   * create a wrapper that ensures the parameter is positive\n",
    "   * use that wrapper to decorate your original function\n",
    "2. Make a \"call counter\" decorator that keeps track of how many times a function has been called\n",
    "2. Make a \"cache\" decorator that stores function results in a dictionary so repeated calls with the same arguments return instantly rather than re-computing a result that has been previously computed"
   ]
  },
  {
   "cell_type": "code",
   "execution_count": null,
   "metadata": {},
   "outputs": [],
   "source": []
  }
 ],
 "metadata": {
  "celltoolbar": "Slideshow",
  "kernelspec": {
   "display_name": "Python 3 (ipykernel)",
   "language": "python",
   "name": "python3"
  },
  "language_info": {
   "codemirror_mode": {
    "name": "ipython",
    "version": 3
   },
   "file_extension": ".py",
   "mimetype": "text/x-python",
   "name": "python",
   "nbconvert_exporter": "python",
   "pygments_lexer": "ipython3",
   "version": "3.14.0"
  }
 },
 "nbformat": 4,
 "nbformat_minor": 4
}
