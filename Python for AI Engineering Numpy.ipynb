{
 "cells": [
  {
   "cell_type": "markdown",
   "metadata": {},
   "source": [
    "# Fundamentals of NumPy\n",
    "* Understand why NumPy is essential for efficient data manipulation in Python\n",
    "* Practice NumPy fundamentals through hands-on exercises with real data"
   ]
  },
  {
   "cell_type": "markdown",
   "metadata": {},
   "source": [
    "## Why Learn NumPy?\n",
    "* foundation of the Python data science ecosystem\n",
    "* provides powerful tools for working w/large datasets and performing mathematical operations efficiently\n",
    "\n",
    "### Key Benefits\n",
    "\n",
    "* **Performance**: NumPy operations are 10-100x faster than pure Python\n",
    "* **Memory Efficiency**: Uses contiguous memory layout for better performance\n",
    "* **Foundation**: Required by Pandas, Scikit-learn, Matplotlib, and other libraries\n",
    "* **Vectorization**: Eliminates the need for explicit loops in mathematical operations"
   ]
  },
  {
   "cell_type": "code",
   "execution_count": null,
   "metadata": {},
   "outputs": [],
   "source": [
    "%pip install numpy"
   ]
  },
  {
   "cell_type": "code",
   "execution_count": null,
   "metadata": {},
   "outputs": [],
   "source": [
    "# Let's demonstrate the performance difference\n",
    "import numpy as np\n",
    "import time\n",
    "\n",
    "# Create large datasets\n",
    "size = 1_000_000\n",
    "python_list1 = list(range(size))\n",
    "python_list2 = list(range(size, 2 * size))\n",
    "numpy_array1 = np.arange(size)\n",
    "numpy_array2 = np.arange(size, 2 * size)"
   ]
  },
  {
   "cell_type": "code",
   "execution_count": null,
   "metadata": {},
   "outputs": [],
   "source": [
    "# Time Python list operation\n",
    "start_time = time.time()\n",
    "python_result = [a + b for a, b in zip(python_list1, python_list2)]\n",
    "python_time = time.time() - start_time\n",
    "\n",
    "# Time NumPy array operation\n",
    "start_time = time.time()\n",
    "numpy_result = numpy_array1 + numpy_array2\n",
    "numpy_time = time.time() - start_time\n",
    "\n",
    "print(f\"Python list operation time: {python_time:.4f} seconds\")\n",
    "print(f\"NumPy array operation time: {numpy_time:.4f} seconds\")\n",
    "print(f\"NumPy is {python_time/numpy_time:.1f}x faster!\")"
   ]
  },
  {
   "cell_type": "markdown",
   "metadata": {},
   "source": [
    "## Efficient Matrix Math\n",
    "\n",
    "### NumPy vs. Pure Python\n",
    "\n",
    "Let's compare how mathematical operations are performed in pure Python versus NumPy:"
   ]
  },
  {
   "cell_type": "code",
   "execution_count": null,
   "metadata": {},
   "outputs": [],
   "source": [
    "# Pure Python approach (slow)\n",
    "list1 = [1, 2, 3, 4, 5]\n",
    "list2 = [10, 20, 30, 40, 50]\n",
    "\n",
    "# Slow element-wise addition\n",
    "result_python = []\n",
    "for i in range(len(list1)):\n",
    "    result_python.append(list1[i] + list2[i])\n",
    "\n",
    "print(\"Pure Python result:\", result_python)"
   ]
  },
  {
   "cell_type": "code",
   "execution_count": null,
   "metadata": {},
   "outputs": [],
   "source": [
    "# NumPy approach (fast)\n",
    "array1 = np.array([1, 2, 3, 4, 5])\n",
    "array2 = np.array([10, 20, 30, 40, 50])\n",
    "\n",
    "# Fast vectorized addition\n",
    "result_numpy = array1 + array2\n",
    "\n",
    "print(\"NumPy result:\", result_numpy)\n",
    "print(\"\\nBoth produce the same result, but NumPy is much faster and cleaner!\")"
   ]
  },
  {
   "cell_type": "markdown",
   "metadata": {},
   "source": [
    "### Problems with Pure Python\n",
    "* explicit loops required\n",
    "* type checking for each element\n",
    "* Python object overhead\n",
    "\n",
    "### Benefits of NumPy\n",
    "* single operation on entire arrays\n",
    "* pre-compiled C code\n",
    "* homogeneous data types\n",
    "* optimized memory access"
   ]
  },
  {
   "cell_type": "markdown",
   "metadata": {},
   "source": [
    "## NumPy and C\n",
    "\n",
    "NumPy's performance advantage comes from its implementation in C and optimized algorithms\n",
    "\n",
    "### Key Performance Features\n",
    "\n",
    "* **Contiguous Memory Layout**: Arrays stored as continuous blocks in memory\n",
    "* **Single Data Type**: All elements are the same type (no type checking overhead)\n",
    "* **SIMD Instructions**: Modern processors can operate on multiple values simultaneously\n",
    "* **Optimized Libraries**: Uses highly optimized BLAS and LAPACK libraries"
   ]
  },
  {
   "cell_type": "code",
   "execution_count": null,
   "metadata": {},
   "outputs": [],
   "source": [
    "# Demonstrate memory efficiency\n",
    "import sys\n",
    "\n",
    "# Python list\n",
    "python_list = [1, 2, 3, 4, 5] * 1000\n",
    "python_memory = sys.getsizeof(python_list) + sum(sys.getsizeof(item) for item in python_list)\n",
    "\n",
    "# NumPy array\n",
    "numpy_array = np.array([1, 2, 3, 4, 5] * 1000)\n",
    "numpy_memory = numpy_array.nbytes\n",
    "\n",
    "print(f\"Python list memory usage: {python_memory:,} bytes\")\n",
    "print(f\"NumPy array memory usage: {numpy_memory:,} bytes\")\n",
    "print(f\"NumPy uses {python_memory/numpy_memory:.1f}x less memory!\")"
   ]
  },
  {
   "cell_type": "code",
   "execution_count": null,
   "metadata": {},
   "outputs": [],
   "source": [
    "# Show array properties\n",
    "print(f\"Array dtype: {numpy_array.dtype}\")\n",
    "print(f\"Array shape: {numpy_array.shape}\")\n",
    "print(f\"Array size: {numpy_array.size} elements\")"
   ]
  },
  {
   "cell_type": "markdown",
   "metadata": {},
   "source": [
    "## NumPy Array Basics\n",
    "\n",
    "* NumPy arrays (ndarrays) are the fundamental data structure for numerical computing in Python"
   ]
  },
  {
   "cell_type": "markdown",
   "metadata": {},
   "source": [
    "### Creating Arrays"
   ]
  },
  {
   "cell_type": "code",
   "execution_count": null,
   "metadata": {},
   "outputs": [],
   "source": [
    "import numpy as np\n",
    "\n",
    "# From Lists\n",
    "# 1D array\n",
    "arr_1d = np.array([1, 2, 3, 4])\n",
    "print(\"1D array:\", arr_1d)\n",
    "\n",
    "# 2D array\n",
    "arr_2d = np.array([[1, 2], [3, 4]])\n",
    "print(\"\\n2D array:\")\n",
    "print(arr_2d)\n",
    "\n",
    "# Specify data type\n",
    "arr_float = np.array([1, 2, 3], dtype=float)\n",
    "print(\"\\nFloat array:\", arr_float)\n",
    "print(\"Data type:\", arr_float.dtype)"
   ]
  },
  {
   "cell_type": "code",
   "execution_count": null,
   "metadata": {},
   "outputs": [],
   "source": [
    "# Using Functions\n",
    "\n",
    "# Array of zeros\n",
    "zeros = np.zeros((3, 4))\n",
    "print(\"Array of zeros:\")\n",
    "print(zeros)"
   ]
  },
  {
   "cell_type": "code",
   "execution_count": null,
   "metadata": {},
   "outputs": [],
   "source": [
    "# Array of ones\n",
    "ones = np.ones((2, 3))\n",
    "print(\"Array of ones:\")\n",
    "print(ones)"
   ]
  },
  {
   "cell_type": "code",
   "execution_count": null,
   "metadata": {},
   "outputs": [],
   "source": [
    "# Range of values\n",
    "range_arr = np.arange(0, 10, 2)\n",
    "print(\"Range array:\", range_arr)"
   ]
  },
  {
   "cell_type": "code",
   "execution_count": null,
   "metadata": {},
   "outputs": [],
   "source": [
    "# Evenly spaced values\n",
    "linspace_arr = np.linspace(0, 1, 5)\n",
    "print(\"Linspace array:\", linspace_arr)"
   ]
  },
  {
   "cell_type": "code",
   "execution_count": null,
   "metadata": {},
   "outputs": [],
   "source": [
    "# Random values\n",
    "np.random.seed(42)  # For reproducible results\n",
    "random_arr = np.random.random((2, 3))\n",
    "print(\"Random array:\")\n",
    "print(random_arr)"
   ]
  },
  {
   "cell_type": "markdown",
   "metadata": {},
   "source": [
    "## Basic Array Operations\n",
    "* NumPy provides a rich set of operations for manipulating and analyzing arrays"
   ]
  },
  {
   "cell_type": "code",
   "execution_count": null,
   "metadata": {},
   "outputs": [],
   "source": [
    "# Create a sample array\n",
    "arr = np.array([[1, 2, 3],\n",
    "                [4, 5, 6]])\n",
    "\n",
    "print(\"Sample array:\")\n",
    "print(arr)"
   ]
  },
  {
   "cell_type": "code",
   "execution_count": null,
   "metadata": {},
   "outputs": [],
   "source": [
    "# Array properties\n",
    "print(f\"Shape: {arr.shape}\")        # (2, 3)\n",
    "print(f\"Data type: {arr.dtype}\")    # int64 (or int32)\n",
    "print(f\"Dimensions: {arr.ndim}\")    # 2\n",
    "print(f\"Size: {arr.size}\")          # 6\n",
    "print(f\"Item size: {arr.itemsize} bytes\")  # 8 bytes for int64"
   ]
  },
  {
   "cell_type": "code",
   "execution_count": null,
   "metadata": {},
   "outputs": [],
   "source": [
    "# Mathematical operations\n",
    "print(f\"Sum: {arr.sum()}\")          # 21\n",
    "print(f\"Mean: {arr.mean()}\")        # 3.5\n",
    "print(f\"Standard deviation: {arr.std():.2f}\")  # 1.71\n",
    "print(f\"Max: {arr.max()}\")          # 6\n",
    "print(f\"Min: {arr.min()}\")          # 1\n",
    "print(f\"Argmax (index of max): {arr.argmax()}\")  # 5\n",
    "print(f\"Argmin (index of min): {arr.argmin()}\")  # 0"
   ]
  },
  {
   "cell_type": "code",
   "execution_count": null,
   "metadata": {},
   "outputs": [],
   "source": [
    "# Operations along specific axes\n",
    "print(\"Operations along axes:\")\n",
    "print(\"\\nOriginal array:\")\n",
    "print(arr)\n",
    "\n",
    "# axis=0 operates along rows (down columns)\n",
    "print(f\"\\nSum along axis=0 (column sums): {arr.sum(axis=0)}\")\n",
    "print(f\"Mean along axis=0 (column means): {arr.mean(axis=0)}\")\n",
    "\n",
    "# axis=1 operates along columns (across rows)\n",
    "print(f\"\\nSum along axis=1 (row sums): {arr.sum(axis=1)}\")\n",
    "print(f\"Mean along axis=1 (row means): {arr.mean(axis=1)}\")"
   ]
  },
  {
   "cell_type": "markdown",
   "metadata": {},
   "source": [
    "## Vectorized (Broadcast) Operations\n",
    "\n",
    "**Vectorization** perform operations on entire arrays without explicit loops\n",
    "\n",
    "**Broadcasting** enables operations between arrays of different shapes"
   ]
  },
  {
   "cell_type": "code",
   "execution_count": null,
   "metadata": {},
   "outputs": [],
   "source": [
    "# Vectorized operations\n",
    "arr = np.array([1, 2, 3, 4, 5])\n",
    "print(\"Original array:\", arr)"
   ]
  },
  {
   "cell_type": "code",
   "execution_count": null,
   "metadata": {},
   "outputs": [],
   "source": [
    "# Scalar operations (broadcasting)\n",
    "result = arr * 2  # Multiplies every element by 2\n",
    "print(\"Multiplied by 2:\", result)"
   ]
  },
  {
   "cell_type": "code",
   "execution_count": null,
   "metadata": {},
   "outputs": [],
   "source": [
    "result = arr + 10  # Adds 10 to every element\n",
    "print(\"Added 10:\", result)"
   ]
  },
  {
   "cell_type": "code",
   "execution_count": null,
   "metadata": {},
   "outputs": [],
   "source": [
    "result = arr ** 2  # Squares every element\n",
    "print(\"Squared:\", result)"
   ]
  },
  {
   "cell_type": "code",
   "execution_count": null,
   "metadata": {},
   "outputs": [],
   "source": [
    "# Mathematical functions\n",
    "result = np.sqrt(arr)  # Square root of every element\n",
    "print(\"Square root:\", result)"
   ]
  },
  {
   "cell_type": "code",
   "execution_count": null,
   "metadata": {},
   "outputs": [],
   "source": [
    "result = np.sin(arr)  # Sine of every element\n",
    "print(\"Sine values:\", result)"
   ]
  },
  {
   "cell_type": "code",
   "execution_count": null,
   "metadata": {},
   "outputs": [],
   "source": [
    "# Broadcasting example\n",
    "matrix = np.array([[1, 2, 3],\n",
    "                   [4, 5, 6]])\n",
    "vector = np.array([10, 20, 30])\n",
    "\n",
    "print(\"Matrix:\")\n",
    "print(matrix)\n",
    "print(\"\\nVector:\")\n",
    "print(vector)"
   ]
  },
  {
   "cell_type": "code",
   "execution_count": null,
   "metadata": {},
   "outputs": [],
   "source": [
    "# Broadcasting: adds vector to each row of matrix\n",
    "result = matrix + vector\n",
    "print(\"Matrix + Vector (broadcasting):\")\n",
    "print(result)"
   ]
  },
  {
   "cell_type": "code",
   "execution_count": null,
   "metadata": {},
   "outputs": [],
   "source": [
    "# More broadcasting examples\n",
    "column_vector = np.array([[100], [200]])\n",
    "print(\"Column vector:\")\n",
    "print(column_vector)"
   ]
  },
  {
   "cell_type": "code",
   "execution_count": null,
   "metadata": {},
   "outputs": [],
   "source": [
    "result = matrix + column_vector\n",
    "print(\"Matrix + Column vector (broadcasting):\")\n",
    "print(result)"
   ]
  },
  {
   "cell_type": "markdown",
   "metadata": {},
   "source": [
    "### Broadcasting Rules\n",
    "* NumPy follows these rules for broadcasting:\n",
    "  1. Arrays are aligned from the rightmost dimension\n",
    "  2. Dimensions of size 1 can be \"stretched\" to match\n",
    "  3. Missing dimensions are assumed to be size 1\n",
    "  4. Arrays are compatible if dimensions are equal or one is 1"
   ]
  },
  {
   "cell_type": "code",
   "execution_count": null,
   "metadata": {},
   "outputs": [],
   "source": [
    "# Broadcasting rules demonstration\n",
    "print(\"Broadcasting examples:\")\n",
    "\n",
    "# Example 1: (3,) + (3,) = (3,)\n",
    "a = np.array([1, 2, 3])\n",
    "b = np.array([10, 20, 30])\n",
    "print(f\"\\n{a.shape} + {b.shape} = {(a + b).shape}\")\n",
    "print(f\"{a} + {b} = {a + b}\")"
   ]
  },
  {
   "cell_type": "code",
   "execution_count": null,
   "metadata": {},
   "outputs": [],
   "source": [
    "# Example 2: (3,) + scalar = (3,)\n",
    "c = 100\n",
    "print(f\"{a.shape} + scalar = {(a + c).shape}\")\n",
    "print(f\"{a} + {c} = {a + c}\")"
   ]
  },
  {
   "cell_type": "code",
   "execution_count": null,
   "metadata": {},
   "outputs": [],
   "source": [
    "# Example 3: (2,3) + (3,) = (2,3)\n",
    "d = np.array([[1, 2, 3], [4, 5, 6]])\n",
    "e = np.array([10, 20, 30])\n",
    "print(f\"{d.shape} + {e.shape} = {(d + e).shape}\")\n",
    "print(f\"{d} + {e} =\\n{d + e}\")"
   ]
  },
  {
   "cell_type": "code",
   "execution_count": null,
   "metadata": {},
   "outputs": [],
   "source": [
    "# Example 4: (2,3) + (2,1) = (2,3)\n",
    "f = np.array([[100], [200]])\n",
    "print(f\"{d.shape} + {f.shape} = {(d + f).shape}\")\n",
    "print(f\"{d} +\\n{f} =\\n{d + f}\")"
   ]
  },
  {
   "cell_type": "markdown",
   "metadata": {},
   "source": [
    "## Array Indexing and Slicing\n",
    "\n",
    "### Basic Array Indexing"
   ]
  },
  {
   "cell_type": "code",
   "execution_count": null,
   "metadata": {},
   "outputs": [],
   "source": [
    "arr = np.array([[1, 2, 3],\n",
    "                [4, 5, 6],\n",
    "                [7, 8, 9]])\n",
    "\n",
    "print(\"Sample 3x3 array:\")\n",
    "print(arr)"
   ]
  },
  {
   "cell_type": "code",
   "execution_count": null,
   "metadata": {},
   "outputs": [],
   "source": [
    "# Single element access\n",
    "print(f\"Element at [0, 1]: {arr[0, 1]}\")    # 2\n",
    "print(f\"Element at [1, 2]: {arr[1, 2]}\")    # 6\n",
    "print(f\"Element at [-1, -1]: {arr[-1, -1]}\")"
   ]
  },
  {
   "cell_type": "code",
   "execution_count": null,
   "metadata": {},
   "outputs": [],
   "source": [
    "# Entire row selection\n",
    "print(f\"First row [0, :]: {arr[0, :]}\")\n",
    "print(f\"Second row [1, :]: {arr[1, :]}\")\n",
    "print(f\"Last row [-1, :]: {arr[-1, :]}\")"
   ]
  },
  {
   "cell_type": "code",
   "execution_count": null,
   "metadata": {},
   "outputs": [],
   "source": [
    "# Entire column selection\n",
    "print(f\"First column [:, 0]: {arr[:, 0]}\")\n",
    "print(f\"Second column [:, 1]: {arr[:, 1]}\")\n",
    "print(f\"Last column [:, -1]: {arr[:, -1]}\")"
   ]
  },
  {
   "cell_type": "code",
   "execution_count": null,
   "metadata": {},
   "outputs": [],
   "source": [
    "# Slicing\n",
    "print(\"Slice [0:2, 1:3]:\")\n",
    "print(arr[0:2, 1:3])"
   ]
  },
  {
   "cell_type": "code",
   "execution_count": null,
   "metadata": {},
   "outputs": [],
   "source": [
    "print(\"Slice [1:, :2]:\")\n",
    "print(arr[1:, :2])"
   ]
  },
  {
   "cell_type": "markdown",
   "metadata": {},
   "source": [
    "### Array Indexing Key Points:\n",
    "\n",
    "* Access elements using zero-based indices: `arr[row, column]`\n",
    "* Use `:` to select entire rows or columns: `arr[:, 0]` for first column\n",
    "* Slicing works like Python lists: `arr[1:3, 0:2]` selects a subarray\n",
    "* Negative indices count from the end: `arr[-1, :]` for last row"
   ]
  },
  {
   "cell_type": "markdown",
   "metadata": {},
   "source": [
    "### Boolean Array Indexing"
   ]
  },
  {
   "cell_type": "code",
   "execution_count": null,
   "metadata": {},
   "outputs": [],
   "source": [
    "# Boolean indexing\n",
    "arr = np.array([[1, 2, 3],\n",
    "                [4, 5, 6],\n",
    "                [7, 8, 9]])\n",
    "\n",
    "print(\"Original array:\")\n",
    "print(arr)"
   ]
  },
  {
   "cell_type": "code",
   "execution_count": null,
   "metadata": {},
   "outputs": [],
   "source": [
    "# Create boolean mask\n",
    "mask = arr > 5\n",
    "print(\"Boolean mask (arr > 5):\")\n",
    "print(mask)"
   ]
  },
  {
   "cell_type": "code",
   "execution_count": null,
   "metadata": {},
   "outputs": [],
   "source": [
    "# Select elements using the mask\n",
    "print(\"Elements where arr > 5:\")\n",
    "print(arr[mask]) "
   ]
  },
  {
   "cell_type": "code",
   "execution_count": null,
   "metadata": {},
   "outputs": [],
   "source": [
    "# Multiple conditions\n",
    "mask_complex = (arr > 3) & (arr < 8)\n",
    "print(\"Elements where 3 < arr < 8:\")\n",
    "print(arr[mask_complex])"
   ]
  },
  {
   "cell_type": "code",
   "execution_count": null,
   "metadata": {},
   "outputs": [],
   "source": [
    "# Conditional modification\n",
    "arr_copy = arr.copy()\n",
    "arr_copy[arr_copy > 5] = 0\n",
    "print(\"Array after setting values > 5 to 0:\")\n",
    "print(arr_copy)"
   ]
  },
  {
   "cell_type": "code",
   "execution_count": null,
   "metadata": {},
   "outputs": [],
   "source": [
    "# More advanced boolean indexing examples\n",
    "data = np.random.randint(1, 20, (5, 4))\n",
    "print(\"Random data array:\")\n",
    "print(data)"
   ]
  },
  {
   "cell_type": "code",
   "execution_count": null,
   "metadata": {},
   "outputs": [],
   "source": [
    "# Find elements divisible by 3\n",
    "divisible_by_3 = data % 3 == 0\n",
    "print(\"Elements divisible by 3:\")\n",
    "print(data[divisible_by_3])"
   ]
  },
  {
   "cell_type": "code",
   "execution_count": null,
   "metadata": {},
   "outputs": [],
   "source": [
    "# Replace even numbers with -1\n",
    "data_modified = data.copy()\n",
    "data_modified[data_modified % 2 == 0] = -1\n",
    "print(\"\\nArray with even numbers replaced by -1:\")\n",
    "print(data_modified)"
   ]
  },
  {
   "cell_type": "code",
   "execution_count": null,
   "metadata": {},
   "outputs": [],
   "source": [
    "# Count elements meeting condition\n",
    "count_greater_than_10 = np.sum(data > 10)\n",
    "print(f\"Number of elements > 10: {count_greater_than_10}\")"
   ]
  },
  {
   "cell_type": "code",
   "execution_count": null,
   "metadata": {},
   "outputs": [],
   "source": [
    "# Get indices of elements meeting condition\n",
    "indices = np.where(data > 15)\n",
    "print(f\"Indices where data > 15:\\n{list(zip(indices[0], indices[1]))}\")"
   ]
  },
  {
   "cell_type": "markdown",
   "metadata": {},
   "source": [
    "### Boolean Indexing Key Points:\n",
    "\n",
    "* Create boolean masks to filter arrays: `mask = arr > value`\n",
    "* Use masks to select elements: `arr[mask]` returns elements where mask is True\n",
    "* Modify elements conditionally: `arr[arr > value] = new_value`\n",
    "* Combine conditions with `&` (and), `|` (or), `~` (not)\n",
    "* Use parentheses with multiple conditions: `(arr > 3) & (arr < 8)`"
   ]
  },
  {
   "cell_type": "markdown",
   "metadata": {},
   "source": [
    "## NumPy Aggregation Functions\n",
    "\n",
    "NumPy provides many functions for computing summary statistics and aggregations."
   ]
  },
  {
   "cell_type": "code",
   "execution_count": null,
   "metadata": {},
   "outputs": [],
   "source": [
    "# Create sample data for aggregation\n",
    "np.random.seed(42)\n",
    "data = np.random.randint(1, 100, (4, 5))\n",
    "print(\"Sample data:\")\n",
    "print(data)"
   ]
  },
  {
   "cell_type": "code",
   "execution_count": null,
   "metadata": {},
   "outputs": [],
   "source": [
    "# Basic aggregations\n",
    "print(f\"Sum of all elements: {np.sum(data)}\")\n",
    "print(f\"Mean of all elements: {np.mean(data):.2f}\")\n",
    "print(f\"Median of all elements: {np.median(data):.2f}\")\n",
    "print(f\"Variance: {np.var(data):.2f}\")\n",
    "print(f\"Standard deviation: {np.std(data):.2f}\")\n",
    "print(f\"Minimum value: {np.min(data)}\")\n",
    "print(f\"Maximum value: {np.max(data)}\")\n",
    "print(f\"Range (max - min): {np.max(data) - np.min(data)}\")"
   ]
  },
  {
   "cell_type": "code",
   "execution_count": null,
   "metadata": {},
   "outputs": [],
   "source": [
    "# Percentiles\n",
    "print(f\"25th percentile: {np.percentile(data, 25):.2f}\")\n",
    "print(f\"50th percentile (median): {np.percentile(data, 50):.2f}\")\n",
    "print(f\"75th percentile: {np.percentile(data, 75):.2f}\")"
   ]
  },
  {
   "cell_type": "code",
   "execution_count": null,
   "metadata": {},
   "outputs": [],
   "source": [
    "# Aggregations along axes\n",
    "print(\"Sum along axis=0 (column sums):\")\n",
    "print(np.sum(data, axis=0))"
   ]
  },
  {
   "cell_type": "code",
   "execution_count": null,
   "metadata": {},
   "outputs": [],
   "source": [
    "print(\"Sum along axis=1 (row sums):\")\n",
    "print(np.sum(data, axis=1))"
   ]
  },
  {
   "cell_type": "code",
   "execution_count": null,
   "metadata": {},
   "outputs": [],
   "source": [
    "print(\"Mean along axis=0 (column means):\")\n",
    "print(np.mean(data, axis=0))"
   ]
  },
  {
   "cell_type": "code",
   "execution_count": null,
   "metadata": {},
   "outputs": [],
   "source": [
    "print(\"Mean along axis=1 (row means):\")\n",
    "print(np.mean(data, axis=1))"
   ]
  },
  {
   "cell_type": "code",
   "execution_count": null,
   "metadata": {},
   "outputs": [],
   "source": [
    "# More advanced aggregations\n",
    "print(\"Advanced aggregation functions:\")\n",
    "\n",
    "# Cumulative operations\n",
    "arr = np.array([1, 2, 3, 4, 5])\n",
    "print(f\"\\nOriginal array: {arr}\")\n",
    "print(f\"Cumulative sum: {np.cumsum(arr)}\")\n",
    "print(f\"Cumulative product: {np.cumprod(arr)}\")"
   ]
  },
  {
   "cell_type": "code",
   "execution_count": null,
   "metadata": {},
   "outputs": [],
   "source": [
    "# Unique values\n",
    "arr_with_duplicates = np.array([1, 2, 2, 3, 3, 3, 4, 5, 5])\n",
    "unique_vals, counts = np.unique(arr_with_duplicates, return_counts=True)\n",
    "print(f\"Array with duplicates: {arr_with_duplicates}\")\n",
    "print(f\"Unique values: {unique_vals}\")\n",
    "print(f\"Counts: {counts}\")"
   ]
  },
  {
   "cell_type": "code",
   "execution_count": null,
   "metadata": {},
   "outputs": [],
   "source": [
    "# Sorting\n",
    "unsorted_arr = np.array([64, 34, 25, 12, 22, 11, 90])\n",
    "print(f\"Unsorted array: {unsorted_arr}\")\n",
    "print(f\"Sorted array: {np.sort(unsorted_arr)}\")\n",
    "print(f\"Indices that would sort the array: {np.argsort(unsorted_arr)}\")"
   ]
  },
  {
   "cell_type": "code",
   "execution_count": null,
   "metadata": {},
   "outputs": [],
   "source": [
    "# Conditional aggregations\n",
    "print(f\"Count of elements > 50: {np.sum(unsorted_arr > 50)}\")\n",
    "print(f\"Any element > 80: {np.any(unsorted_arr > 80)}\")\n",
    "print(f\"All elements > 10: {np.all(unsorted_arr > 10)}\")"
   ]
  },
  {
   "cell_type": "markdown",
   "metadata": {},
   "source": [
    "## Practical Exercise: Data Analysis with NumPy\n",
    "\n",
    "Let's put everything together with a practical data analysis example."
   ]
  },
  {
   "cell_type": "code",
   "execution_count": null,
   "metadata": {},
   "outputs": [],
   "source": [
    "# Simulate sales data for a retail company\n",
    "np.random.seed(42)\n",
    "\n",
    "# Generate data for 12 months, 4 product categories, 5 stores\n",
    "months = 12\n",
    "categories = 4\n",
    "stores = 5\n",
    "\n",
    "# Sales data: shape (months, categories, stores)\n",
    "sales_data = np.random.normal(1000, 200, (months, categories, stores))\n",
    "sales_data = np.abs(sales_data)  # Ensure positive sales\n",
    "\n",
    "print(f\"Sales data shape: {sales_data.shape}\")\n",
    "print(f\"Total data points: {sales_data.size}\")\n",
    "print(f\"Memory usage: {sales_data.nbytes} bytes\")\n",
    "\n",
    "print(\"\\nFirst month's data (categories × stores):\")\n",
    "print(sales_data[0])"
   ]
  },
  {
   "cell_type": "code",
   "execution_count": null,
   "metadata": {},
   "outputs": [],
   "source": [
    "# Analyze the sales data–total sales across all dimensions\n",
    "total_sales = np.sum(sales_data)\n",
    "print(f\"Total sales across all months/categories/stores: ${total_sales:,.2f}\")"
   ]
  },
  {
   "cell_type": "code",
   "execution_count": null,
   "metadata": {},
   "outputs": [],
   "source": [
    "# Monthly sales (sum across categories and stores)\n",
    "monthly_sales = np.sum(sales_data, axis=(1, 2))\n",
    "print(f\"Monthly sales: {monthly_sales}\")\n",
    "print(f\"Best month: Month {np.argmax(monthly_sales) + 1} (${monthly_sales.max():,.2f})\")\n",
    "print(f\"Worst month: Month {np.argmin(monthly_sales) + 1} (${monthly_sales.min():,.2f})\")"
   ]
  },
  {
   "cell_type": "code",
   "execution_count": null,
   "metadata": {},
   "outputs": [],
   "source": [
    "# Category performance (sum across months and stores)\n",
    "category_sales = np.sum(sales_data, axis=(0, 2))\n",
    "print(f\"Category sales: {category_sales}\")\n",
    "print(f\"Best category: Category {np.argmax(category_sales) + 1} (${category_sales.max():,.2f})\")"
   ]
  },
  {
   "cell_type": "code",
   "execution_count": null,
   "metadata": {},
   "outputs": [],
   "source": [
    "# Store performance (sum across months and categories)\n",
    "store_sales = np.sum(sales_data, axis=(0, 1))\n",
    "print(f\"Store sales: {store_sales}\")\n",
    "print(f\"Best store: Store {np.argmax(store_sales) + 1} (${store_sales.max():,.2f})\")"
   ]
  },
  {
   "cell_type": "code",
   "execution_count": null,
   "metadata": {},
   "outputs": [],
   "source": [
    "# Statistical analysis\n",
    "print(f\"Statistical Summary:\")\n",
    "print(f\"Mean daily sales: ${np.mean(sales_data):,.2f}\")\n",
    "print(f\"Median daily sales: ${np.median(sales_data):,.2f}\")\n",
    "print(f\"Standard deviation: ${np.std(sales_data):,.2f}\")\n",
    "print(f\"Coefficient of variation: {np.std(sales_data)/np.mean(sales_data):.2%}\")"
   ]
  },
  {
   "cell_type": "code",
   "execution_count": null,
   "metadata": {},
   "outputs": [],
   "source": [
    "# Advanced analysis with boolean indexing\n",
    "\n",
    "# Find high-performing periods (sales > 1.5 * mean)\n",
    "threshold = 1.5 * np.mean(sales_data)\n",
    "high_sales_mask = sales_data > threshold\n",
    "high_sales_count = np.sum(high_sales_mask)\n",
    "high_sales_percentage = (high_sales_count / sales_data.size) * 100\n",
    "\n",
    "print(f\"High Performance Analysis (sales > ${threshold:,.2f}):\")\n",
    "print(f\"Number of high-sales periods: {high_sales_count}\")\n",
    "print(f\"Percentage of high-sales periods: {high_sales_percentage:.1f}%\")"
   ]
  },
  {
   "cell_type": "code",
   "execution_count": null,
   "metadata": {},
   "outputs": [],
   "source": [
    "# Identify underperforming areas (sales < 0.5 * mean)\n",
    "low_threshold = 0.5 * np.mean(sales_data)\n",
    "low_sales_mask = sales_data < low_threshold\n",
    "low_sales_count = np.sum(low_sales_mask)\n",
    "\n",
    "print(f\"Underperforming periods (sales < ${low_threshold:,.2f}):\")\n",
    "print(f\"Number of low-sales periods: {low_sales_count}\")\n",
    "print(f\"Percentage of low-sales periods: {(low_sales_count / sales_data.size) * 100:.1f}%\")"
   ]
  },
  {
   "cell_type": "code",
   "execution_count": null,
   "metadata": {},
   "outputs": [],
   "source": [
    "# Growth analysis (month-over-month)\n",
    "monthly_growth = np.diff(monthly_sales) / monthly_sales[:-1] * 100\n",
    "print(f\"Month-over-Month Growth Rates:\")\n",
    "\n",
    "for index, growth in enumerate(monthly_growth):\n",
    "    print(f\"Month {index +1} to {index +2}: {growth:+.1f}%\")\n",
    "\n",
    "print(f\"\\nAverage monthly growth: {np.mean(monthly_growth):+.1f}%\")\n",
    "print(f\"Most volatile month transition: Month {np.argmax(np.abs(monthly_growth))+1} to {np.argmax(np.abs(monthly_growth))+2}\")"
   ]
  },
  {
   "cell_type": "markdown",
   "metadata": {},
   "source": [
    "## Reflection Questions\n",
    "* Why is NumPy significantly faster than pure Python for numerical operations?\n",
    "* When would you choose to use broadcasting instead of explicit loops?\n",
    "* How do vectorized operations change the way you think about solving problems?\n",
    "* What are the key benefits of using homogeneous arrays versus Python lists?"
   ]
  },
  {
   "cell_type": "markdown",
   "metadata": {},
   "source": [
    "## Additional Resources\n",
    "\n",
    "### Core Documentation\n",
    "* [NumPy Documentation](https://numpy.org/doc/stable/)\n",
    "* [NumPy Quickstart Tutorial](https://numpy.org/doc/stable/user/quickstart.html)\n",
    "* [From Python to NumPy](https://www.labri.fr/perso/nrougier/from-python-to-numpy/)\n",
    "\n",
    "### More Practice (if you want it)\n",
    "* [100 NumPy Exercises](https://github.com/rougier/numpy-100)\n",
    "* [NumPy Tutorial on Real Python](https://realpython.com/numpy-tutorial/)\n"
   ]
  },
  {
   "cell_type": "code",
   "execution_count": null,
   "metadata": {},
   "outputs": [],
   "source": []
  }
 ],
 "metadata": {
  "kernelspec": {
   "display_name": "Python 3 (ipykernel)",
   "language": "python",
   "name": "python3"
  },
  "language_info": {
   "codemirror_mode": {
    "name": "ipython",
    "version": 3
   },
   "file_extension": ".py",
   "mimetype": "text/x-python",
   "name": "python",
   "nbconvert_exporter": "python",
   "pygments_lexer": "ipython3",
   "version": "3.14.0"
  }
 },
 "nbformat": 4,
 "nbformat_minor": 4
}
