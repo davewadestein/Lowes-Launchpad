{
 "cells": [
  {
   "cell_type": "markdown",
   "id": "cd2324ce-9369-4bf9-aea0-990ae3909807",
   "metadata": {},
   "source": [
    "# Python for AI Engineering (and Beyond) Additional Topics"
   ]
  },
  {
   "cell_type": "markdown",
   "id": "5ff6446d-5e2c-4bf6-a11d-db8af170541e",
   "metadata": {},
   "source": [
    "## lambda functions\n",
    "* \"anonymous\" (no name) functions, typically used in the context of an argument list, i.e., a call to another function"
   ]
  },
  {
   "cell_type": "code",
   "execution_count": null,
   "id": "5d065557-26a4-4db6-a194-289f59d1dff9",
   "metadata": {},
   "outputs": [],
   "source": [
    "fruits = 'lemon apple banana cherry plum date elderberry'.split()\n",
    "sorted(fruits)"
   ]
  },
  {
   "cell_type": "code",
   "execution_count": null,
   "id": "115347fc-21f1-41df-9344-f3bff114e7fd",
   "metadata": {},
   "outputs": [],
   "source": [
    "sorted(fruits, key=len)"
   ]
  },
  {
   "cell_type": "code",
   "execution_count": null,
   "id": "40d1f0b3-ac7e-4eaa-be19-05f6c5ea7d97",
   "metadata": {},
   "outputs": [],
   "source": [
    "sorted(fruits, key=lambda w: (len(w), w))"
   ]
  },
  {
   "cell_type": "code",
   "execution_count": null,
   "id": "a9fc4e5d-c83a-4e87-bd88-6f2861db9001",
   "metadata": {},
   "outputs": [],
   "source": [
    "# \"reverse\" sort\n",
    "sorted(fruits, key=lambda w: w[::-1])"
   ]
  },
  {
   "cell_type": "code",
   "execution_count": null,
   "id": "95557173-595a-48c2-b73c-d1d1ef4f3547",
   "metadata": {},
   "outputs": [],
   "source": [
    "# a lambda can be assigned to a variable (remember, everything is an object)\n",
    "f = lambda x: x ** 2\n",
    "f(5)"
   ]
  },
  {
   "cell_type": "code",
   "execution_count": null,
   "id": "3d98f654-8623-4709-9486-e4bc16559fe6",
   "metadata": {},
   "outputs": [],
   "source": [
    "# but at that point, you basically have a named function, so why use a lambda?"
   ]
  },
  {
   "cell_type": "code",
   "execution_count": null,
   "id": "71c474ac-6af9-4c7d-b74d-2caa7c5eaad3",
   "metadata": {},
   "outputs": [],
   "source": [
    "import pandas as pd\n",
    "import numpy as np\n",
    "\n",
    "scores = np.random.randint(50, 100, (50,))\n",
    "df = pd.DataFrame({\"score\": scores})\n",
    "df.head()"
   ]
  },
  {
   "cell_type": "code",
   "execution_count": null,
   "id": "9b28b287-24e3-4e2e-ad18-3b6aed83d16a",
   "metadata": {},
   "outputs": [],
   "source": [
    "df"
   ]
  },
  {
   "cell_type": "code",
   "execution_count": null,
   "id": "1694a7d4-0a58-4b09-adb2-9c5260c2075f",
   "metadata": {},
   "outputs": [],
   "source": [
    "# Create a grade column\n",
    "df[\"grade\"] = df[\"score\"].apply(lambda s: \"Pass\" if s >= 70 else \"Fail\")\n",
    "df.head()"
   ]
  },
  {
   "cell_type": "code",
   "execution_count": null,
   "id": "12505873-9cac-4a1a-a116-2ca36b7ee47a",
   "metadata": {},
   "outputs": [],
   "source": [
    "df[\"grade\"].value_counts()"
   ]
  },
  {
   "cell_type": "markdown",
   "id": "7ee371d8-d389-4d42-b68c-800b02fe85ed",
   "metadata": {},
   "source": [
    "## match (switch) statement\n",
    "* cleaner than if statements since you don't repeat the test over and over\n",
    "* __`|`__ allows for either/or, cleaner than using Python's __`or`__ operator "
   ]
  },
  {
   "cell_type": "code",
   "execution_count": null,
   "id": "3b79a859-eabe-4032-9e91-b8bca97f6841",
   "metadata": {},
   "outputs": [],
   "source": [
    "status = 404\n",
    "\n",
    "if status == 200:\n",
    "    print(\"OK\")\n",
    "elif status == 404:\n",
    "    print(\"Not Found\")\n",
    "elif status == 500:\n",
    "    print(\"Server Error\")\n",
    "else:\n",
    "    print(\"Unknown\")"
   ]
  },
  {
   "cell_type": "code",
   "execution_count": null,
   "id": "7a0f5aa0-5372-4d2f-af48-7f3ded710358",
   "metadata": {},
   "outputs": [],
   "source": [
    "status = 404\n",
    "\n",
    "match status:\n",
    "    case 200:\n",
    "        print(\"OK\")\n",
    "    case 404:\n",
    "        print(\"Not Found\")\n",
    "    case 500:\n",
    "        print(\"Server Error\")\n",
    "    case _:\n",
    "        print(\"Unknown\")"
   ]
  },
  {
   "cell_type": "code",
   "execution_count": null,
   "id": "e6a4a44a-ead3-461d-b1a0-c39b27df4ca9",
   "metadata": {},
   "outputs": [],
   "source": [
    "# range or condition checks\n",
    "num = 42\n",
    "\n",
    "if num < 0:\n",
    "    print(\"Negative\")\n",
    "elif num == 0:\n",
    "    print(\"Zero\")\n",
    "elif num % 2 == 0:\n",
    "    print(\"Even\")\n",
    "else:\n",
    "    print(\"Odd\")"
   ]
  },
  {
   "cell_type": "code",
   "execution_count": null,
   "id": "e5a67abe-1895-4fb6-ae2d-69b27b24a1a9",
   "metadata": {},
   "outputs": [],
   "source": [
    "num = 42\n",
    "\n",
    "match num:\n",
    "    case n if n < 0:\n",
    "        print(\"Negative\")\n",
    "    case 0:\n",
    "        print(\"Zero\")\n",
    "    case n if n % 2 == 0:\n",
    "        print(\"Even\")\n",
    "    case _:\n",
    "        print(\"Odd\")"
   ]
  },
  {
   "cell_type": "code",
   "execution_count": null,
   "id": "ce7e6360-042c-4ff9-b1ee-3605f1c4b157",
   "metadata": {},
   "outputs": [],
   "source": [
    "# matching complex structures\n",
    "coords = (0, 5)\n",
    "\n",
    "if coords == (0, 0):\n",
    "    print(\"Origin\")\n",
    "elif coords[0] == 0:\n",
    "    print(\"Y-axis\")\n",
    "elif coords[1] == 0:\n",
    "    print(\"X-axis\")\n",
    "else:\n",
    "    print(\"Quadrant\")"
   ]
  },
  {
   "cell_type": "code",
   "execution_count": null,
   "id": "d71df87e-cacd-4ef3-ae37-698c28dc0bf7",
   "metadata": {},
   "outputs": [],
   "source": [
    "coords = (0, 5)\n",
    "\n",
    "match coords:\n",
    "    case (0, 0):\n",
    "        print(\"Origin\")\n",
    "    case (0, y):\n",
    "        print(f\"Y-axis at {y}\")\n",
    "    case (x, 0):\n",
    "        print(f\"X-axis at {x}\")\n",
    "    case (x, y):\n",
    "        print(f\"Quadrant (x={x}, y={y})\")"
   ]
  },
  {
   "cell_type": "code",
   "execution_count": null,
   "id": "3df1ab3d-0bfc-48b9-ac09-4f0475ec7ecd",
   "metadata": {},
   "outputs": [],
   "source": [
    "# nested dicts or JSON-like data\n",
    "message = {\"type\": \"email\", \"status\": \"sent\"}\n",
    "\n",
    "if message.get(\"type\") == \"email\":\n",
    "    print(\"Email message\")\n",
    "elif message.get(\"type\") == \"sms\":\n",
    "    print(\"Text message\")\n",
    "else:\n",
    "    print(\"Other\")"
   ]
  },
  {
   "cell_type": "code",
   "execution_count": null,
   "id": "e48ba298-da6c-4ba7-962b-eb5a6602a310",
   "metadata": {},
   "outputs": [],
   "source": [
    "message = {\"type\": \"email\", \"status\": \"sent\"}\n",
    "\n",
    "match message:\n",
    "    case {\"type\": \"email\", \"status\": \"sent\"}:\n",
    "        print(\"Email was sent\")\n",
    "    case {\"type\": \"email\"}:\n",
    "        print(\"Email not sent yet\")\n",
    "    case {\"type\": \"sms\"}:\n",
    "        print(\"Text message\")\n",
    "    case _:\n",
    "        print(\"Other\")"
   ]
  },
  {
   "cell_type": "code",
   "execution_count": null,
   "id": "1b51d228-e003-4d83-a952-1e319a5340b8",
   "metadata": {},
   "outputs": [],
   "source": []
  }
 ],
 "metadata": {
  "kernelspec": {
   "display_name": "Python 3 (ipykernel)",
   "language": "python",
   "name": "python3"
  },
  "language_info": {
   "codemirror_mode": {
    "name": "ipython",
    "version": 3
   },
   "file_extension": ".py",
   "mimetype": "text/x-python",
   "name": "python",
   "nbconvert_exporter": "python",
   "pygments_lexer": "ipython3",
   "version": "3.14.0"
  }
 },
 "nbformat": 4,
 "nbformat_minor": 5
}
