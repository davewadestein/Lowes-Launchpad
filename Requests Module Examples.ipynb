{
 "cells": [
  {
   "cell_type": "markdown",
   "id": "664b05cf",
   "metadata": {},
   "source": [
    "# 🌐 Python `requests` Module — Examples + Short Exercises\n",
    "\n",
    "* This notebook demonstrates how to use the **`requests`** library to interact with HTTP endpoints and APIs\n",
    "\n",
    "We’ll cover\n",
    "- Basic GET and POST requests  \n",
    "- Query parameters and headers  \n",
    "- JSON responses  \n",
    "- Error handling  \n",
    "- Timeouts  \n",
    "- Sessions (persistent headers/cookies)\n",
    "\n",
    "> **Install** (if needed): `pip install requests`"
   ]
  },
  {
   "cell_type": "markdown",
   "id": "a9c021c9",
   "metadata": {},
   "source": [
    "## 📦 Imports\n",
    "\n",
    "We import `requests` for HTTP calls and `json` for optional formatting."
   ]
  },
  {
   "cell_type": "code",
   "execution_count": null,
   "id": "0721906a",
   "metadata": {},
   "outputs": [],
   "source": [
    "import requests\n",
    "import json"
   ]
  },
  {
   "cell_type": "markdown",
   "id": "00a2f638",
   "metadata": {},
   "source": [
    "## 1️⃣ Basic GET Request\n",
    "* sends an HTTP **GET** request to a test endpoint (`https://httpbin.org/get`),   \n",
    "prints the status code and parses the JSON response\n",
    "* a GET request is used to retrieve data from a server, without changing anything on the server (it’s the most common and safest type of HTTP request)"
   ]
  },
  {
   "cell_type": "code",
   "execution_count": null,
   "id": "85afe3a5",
   "metadata": {},
   "outputs": [],
   "source": [
    "url = \"https://httpbin.org/get\"\n",
    "response = requests.get(url)\n",
    "\n",
    "print(\"Status code:\", response.status_code)\n",
    "print(\"Response JSON:\")\n",
    "print(json.dumps(response.json(), indent=4))"
   ]
  },
  {
   "cell_type": "markdown",
   "id": "4a9bbb14",
   "metadata": {},
   "source": [
    "**Exercise 1**  \n",
    "- change `url` to `https://httpbin.org/uuid` and print the JSON  \n"
   ]
  },
  {
   "cell_type": "markdown",
   "id": "fa877f2e",
   "metadata": {},
   "source": [
    "## 2️⃣ Query Parameters\n",
    "* passes query parameters via __`params`__\n",
    "* __`requests`__ encodes and appends them to the URL"
   ]
  },
  {
   "cell_type": "code",
   "execution_count": null,
   "id": "a455b85f",
   "metadata": {},
   "outputs": [],
   "source": [
    "params = {\"name\": \"Alice\", \"city\": \"Boston\"}\n",
    "response = requests.get(\"https://httpbin.org/get\", params=params)\n",
    "\n",
    "print(\"Requested URL:\", response.url)\n",
    "print(\"JSON response:\")\n",
    "print(json.dumps(response.json(), indent=4))"
   ]
  },
  {
   "cell_type": "markdown",
   "id": "d4302073",
   "metadata": {},
   "source": [
    "**Exercise 2**  \n",
    "- Add a parameter with a **space** in it (e.g., `\"favorite movie\": \"The Matrix\"`).  \n",
    "- Verify that `response.url` shows the parameter URL-encoded\n",
    "- Access the echoed params in `response.json()[\"args\"]`"
   ]
  },
  {
   "cell_type": "markdown",
   "id": "70a35502",
   "metadata": {},
   "source": [
    "## 3️⃣ Custom Headers\n",
    "* sends a custom `User-Agent` header\n",
    "* useful for auth tokens, content types, and polite identification"
   ]
  },
  {
   "cell_type": "code",
   "execution_count": null,
   "id": "abac9d74",
   "metadata": {},
   "outputs": [],
   "source": [
    "headers = {\"User-Agent\": \"Jupyter-Demo/1.0\"}\n",
    "response = requests.get(\"https://httpbin.org/headers\", headers=headers)\n",
    "\n",
    "print(\"Response JSON:\")\n",
    "print(json.dumps(response.json(), indent=4))"
   ]
  },
  {
   "cell_type": "markdown",
   "id": "23c7a66e",
   "metadata": {},
   "source": [
    "**Exercise 3**  \n",
    "- Add a fake API token header, e.g., `{\"Authorization\": \"Bearer MYTOKEN\"}`\n",
    "- Confirm it appears under `response.json()[\"headers\"]`"
   ]
  },
  {
   "cell_type": "markdown",
   "id": "59e05f83",
   "metadata": {},
   "source": [
    "## 4️⃣ POST Request (Form Data and JSON)\n",
    "* sends data with **POST** in two ways: form data (like a web form, i.e., key=value pairs separated by &) and JSON"
   ]
  },
  {
   "cell_type": "code",
   "execution_count": null,
   "id": "a5f7ec9f",
   "metadata": {},
   "outputs": [],
   "source": [
    "# Form data\n",
    "data = {\"username\": \"dave\", \"password\": \"secret\"}\n",
    "response = requests.post(\"https://httpbin.org/post\", data=data)\n",
    "print(\"Form POST:\")\n",
    "print(response.json()[\"form\"])\n",
    "\n",
    "# JSON data\n",
    "json_data = {\"course\": \"Python\", \"level\": \"AI Engineering\", \n",
    "                \"meta\": {\n",
    "                    \"instructor\": \"Dave\",\n",
    "                    \"duration_days\": 5\n",
    "                }\n",
    "            }\n",
    "response = requests.post(\"https://httpbin.org/post\", json=json_data)\n",
    "print(\"\\nJSON POST:\")\n",
    "print(json.dumps(response.json()[\"json\"], indent=4))"
   ]
  },
  {
   "cell_type": "markdown",
   "id": "c5a91d24",
   "metadata": {},
   "source": [
    "**Exercise 4**  \n",
    "- Change the form keys/values and verify they echo back under `\"form\"`.  \n",
    "- Add a nested object to `json_data` (e.g., `{\"meta\": {\"instructor\": \"Dave\"}}`) and confirm it appears under `\"json\"`."
   ]
  },
  {
   "cell_type": "markdown",
   "id": "83dce967",
   "metadata": {},
   "source": [
    "## 5️⃣ Handling Errors\n",
    "\n",
    "**What this does:**  \n",
    "Requests a `404` endpoint and uses `.raise_for_status()` to throw `HTTPError` for 4xx/5xx codes."
   ]
  },
  {
   "cell_type": "code",
   "execution_count": null,
   "id": "6dede972",
   "metadata": {},
   "outputs": [],
   "source": [
    "try:\n",
    "    bad_response = requests.get(\"https://httpbin.org/status/404\")\n",
    "    bad_response.raise_for_status()\n",
    "except requests.exceptions.HTTPError as e:\n",
    "    print(\"Caught an HTTPError:\", e)"
   ]
  },
  {
   "cell_type": "markdown",
   "id": "d5e2a301",
   "metadata": {},
   "source": [
    "**Exercise 5**  \n",
    "- Try other status endpoints like `https://httpbin.org/status/500` and `418`.  \n",
    "- Wrap them with `try/except` and print a custom message depending on the status code."
   ]
  },
  {
   "cell_type": "markdown",
   "id": "e95aaabd",
   "metadata": {},
   "source": [
    "## 6️⃣ JSON Response Handling (Real API Example)\n",
    "* calls the GitHub API for the `psf/requests` repository and prints a few fields  \n",
    "* public APIs can rate-limit; if you see errors, try later"
   ]
  },
  {
   "cell_type": "code",
   "execution_count": null,
   "id": "6a5e6643",
   "metadata": {},
   "outputs": [],
   "source": [
    "response = requests.get(\"https://api.github.com/repos/psf/requests\")\n",
    "data = response.json()\n",
    "\n",
    "print(\"Repository name:\", data.get(\"name\"))\n",
    "print(\"Stars:\", data.get(\"stargazers_count\"))\n",
    "print(\"Open issues:\", data.get(\"open_issues_count\"))"
   ]
  },
  {
   "cell_type": "markdown",
   "id": "46e9fa86",
   "metadata": {},
   "source": [
    "**Exercise 6**  \n",
    "- Print the repo `license` name if present (nested under `data[\"license\"][\"name\"]`).  \n",
    "- Fetch and print the top 3 open issues titles from `https://api.github.com/repos/psf/requests/issues` (hint: it's a list of JSON objects)."
   ]
  },
  {
   "cell_type": "code",
   "execution_count": null,
   "id": "6a92f04f-ae41-4436-855b-31212a599700",
   "metadata": {},
   "outputs": [],
   "source": [
    "# License (may be None if not provided)\n",
    "license_info = data.get(\"license\")\n",
    "\n",
    "if license_info:\n",
    "    print(\"License:\", license_info.get(\"name\"))\n",
    "else:\n",
    "    print(\"License: None\")\n",
    "\n",
    "# --- Part 2: Get top 3 open issues ---\n",
    "issues_url = \"https://api.github.com/repos/psf/requests/issues\"\n",
    "issues_response = requests.get(issues_url)\n",
    "issues = issues_response.json()\n",
    "\n",
    "print(\"\\nTop 3 open issue titles:\")\n",
    "for issue in issues[:3]:\n",
    "    print(\"-\", issue[\"title\"])"
   ]
  },
  {
   "cell_type": "markdown",
   "id": "08b12a47",
   "metadata": {},
   "source": [
    "## 7️⃣ Timeouts\n",
    "\n",
    "**What this does:**  \n",
    "Requests a slow endpoint and enforces `timeout=2` seconds to avoid hanging."
   ]
  },
  {
   "cell_type": "code",
   "execution_count": null,
   "id": "89850b0b",
   "metadata": {},
   "outputs": [],
   "source": [
    "try:\n",
    "    response = requests.get(\"https://httpbin.org/delay/3\", timeout=2)\n",
    "    print(\"Status:\", response.status_code)\n",
    "except requests.exceptions.Timeout:\n",
    "    print(\"Request timed out!\")"
   ]
  },
  {
   "cell_type": "markdown",
   "id": "1729324d",
   "metadata": {},
   "source": [
    "**Exercise 7**  \n",
    "- Increase the timeout to `5` and confirm the call succeeds"
   ]
  },
  {
   "cell_type": "markdown",
   "id": "85012fb6",
   "metadata": {},
   "source": [
    "## 8️⃣ Using a Session\n",
    "\n",
    "**What this does:**  \n",
    "Uses a `Session` to persist headers and cookies across requests (e.g., staying “logged in”)."
   ]
  },
  {
   "cell_type": "code",
   "execution_count": null,
   "id": "eaa99da2",
   "metadata": {},
   "outputs": [],
   "source": [
    "with requests.Session() as session:\n",
    "    session.headers.update({\"User-Agent\": \"SessionExample/1.0\"})\n",
    "    r1 = session.get(\"https://httpbin.org/cookies/set/demo_cookie/value123\")\n",
    "    r2 = session.get(\"https://httpbin.org/cookies\")\n",
    "    print(\"Session cookies:\", r2.json())"
   ]
  },
  {
   "cell_type": "markdown",
   "id": "33edae2b",
   "metadata": {},
   "source": [
    "**Exercise 8**  \n",
    "- Add another cookie via `https://httpbin.org/cookies/set/another_cookie/xyz` and verify it appears"
   ]
  },
  {
   "cell_type": "code",
   "execution_count": null,
   "id": "6db7210e-3c4d-411b-9c57-193a1351e8b5",
   "metadata": {},
   "outputs": [],
   "source": [
    "# %% [markdown]\n",
    "# ## 9️⃣ HTTP Methods Overview\n",
    "# \n",
    "# These are the main HTTP verbs you’ll use when working with web APIs:\n",
    "# \n",
    "# | Method | Typical Use | Description |\n",
    "# |---------|--------------|-------------|\n",
    "# | **GET** | Retrieve data | Fetches information without changing it |\n",
    "# | **POST** | Create data | Sends new data to the server |\n",
    "# | **PUT** | Replace data | Updates or replaces an existing resource |\n",
    "# | **PATCH** | Modify data | Partially updates an existing resource |\n",
    "# | **DELETE** | Remove data | Deletes a resource |\n",
    "# \n",
    "# Let’s try each method using the https://httpbin.org endpoints.\n",
    "\n",
    "# %%\n",
    "import requests\n",
    "\n",
    "# 1️⃣ GET — retrieve data\n",
    "r_get = requests.get(\"https://httpbin.org/get\", params={\"demo\": \"true\"})\n",
    "print(\"GET:\", r_get.status_code)\n",
    "print(r_get.json()[\"args\"])\n",
    "\n",
    "# %%\n",
    "# 2️⃣ POST — send data (create new resource)\n",
    "r_post = requests.post(\"https://httpbin.org/post\", json={\"name\": \"Alice\", \"role\": \"Instructor\"})\n",
    "print(\"POST:\", r_post.status_code)\n",
    "print(r_post.json()[\"json\"])\n",
    "\n",
    "# %%\n",
    "# 3️⃣ PUT — replace existing resource\n",
    "r_put = requests.put(\"https://httpbin.org/put\", json={\"name\": \"Alice\", \"role\": \"Admin\"})\n",
    "print(\"PUT:\", r_put.status_code)\n",
    "print(r_put.json()[\"json\"])\n",
    "\n",
    "# %%\n",
    "# 4️⃣ PATCH — partially update existing resource\n",
    "r_patch = requests.patch(\"https://httpbin.org/patch\", json={\"role\": \"Lead Instructor\"})\n",
    "print(\"PATCH:\", r_patch.status_code)\n",
    "print(r_patch.json()[\"json\"])\n",
    "\n",
    "# %%\n",
    "# 5️⃣ DELETE — delete a resource\n",
    "r_delete = requests.delete(\"https://httpbin.org/delete\")\n",
    "print(\"DELETE:\", r_delete.status_code)\n",
    "print(r_delete.json()[\"url\"])"
   ]
  }
 ],
 "metadata": {
  "kernelspec": {
   "display_name": "Python 3 (ipykernel)",
   "language": "python",
   "name": "python3"
  },
  "language_info": {
   "codemirror_mode": {
    "name": "ipython",
    "version": 3
   },
   "file_extension": ".py",
   "mimetype": "text/x-python",
   "name": "python",
   "nbconvert_exporter": "python",
   "pygments_lexer": "ipython3",
   "version": "3.14.0"
  }
 },
 "nbformat": 4,
 "nbformat_minor": 5
}
