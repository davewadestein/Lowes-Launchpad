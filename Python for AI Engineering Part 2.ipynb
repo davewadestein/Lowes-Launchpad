{
 "cells": [
  {
   "cell_type": "markdown",
   "id": "33dd06a1-dfb8-44bb-931f-210b9b4720ce",
   "metadata": {},
   "source": [
    "# Python for AI Engineering (and Beyond) Part 2"
   ]
  },
  {
   "cell_type": "markdown",
   "id": "015b8d6a-4e05-41fe-812b-098bb56a1823",
   "metadata": {
    "id": "2SFPtbYxrWjn"
   },
   "source": [
    "## Functions\n",
    "* what's a function?"
   ]
  },
  {
   "cell_type": "markdown",
   "id": "522c9919-ca3b-4c73-81e5-0bdf90e94c08",
   "metadata": {
    "id": "2SFPtbYxrWjn"
   },
   "source": [
    "### How to write a function\n",
    "* __`def`__ introduces a function\n",
    "  * followed by function name, parenthesized list of args and then a colon\n",
    "* body of function is indented"
   ]
  },
  {
   "cell_type": "code",
   "execution_count": null,
   "id": "d5b10a8a-fbe1-4a3a-bdc2-655be174f42b",
   "metadata": {
    "id": "MOXUTJ7WrWjn"
   },
   "outputs": [],
   "source": [
    "# a \"do nothing\" function\n",
    "def noop():\n",
    "    pass # Python statement that does nothing"
   ]
  },
  {
   "cell_type": "code",
   "execution_count": null,
   "id": "331765e2-9733-48b1-a95c-2f515adbb7ce",
   "metadata": {
    "id": "30_i2VRrrWjo"
   },
   "outputs": [],
   "source": [
    "noop()"
   ]
  },
  {
   "cell_type": "code",
   "execution_count": null,
   "id": "1a9391bf-204d-45d3-bc6d-87d780edf2ac",
   "metadata": {
    "id": "vfdwJr2lrWjo"
   },
   "outputs": [],
   "source": [
    "noop(1, 3, 5) # number of arguments needs to be correct!"
   ]
  },
  {
   "cell_type": "code",
   "execution_count": null,
   "id": "a1da2839-ec8b-44bd-b8f4-e33c7578b449",
   "metadata": {
    "id": "uC9P94ttrWjo"
   },
   "outputs": [],
   "source": [
    "# Silly function which does not return anything, but rather, prints something\n",
    "# based on the value of its argument\n",
    "def simpfunc(thing):\n",
    "    if thing == 1:\n",
    "        print('Hey, 1')\n",
    "    elif thing < 10:\n",
    "        print('< 10 and not 1')\n",
    "    else:\n",
    "        print('>= 10')"
   ]
  },
  {
   "cell_type": "code",
   "execution_count": null,
   "id": "dd7949d5-1d86-41fd-a7c3-9b32303e0b1a",
   "metadata": {
    "colab": {
     "base_uri": "https://localhost:8080/"
    },
    "id": "vzhwS5iYrWjo",
    "outputId": "3a947524-18dd-4a8f-e197-9825928bcb8c"
   },
   "outputs": [],
   "source": [
    "simpfunc(1)"
   ]
  },
  {
   "cell_type": "code",
   "execution_count": null,
   "id": "fb15f854-1dc3-4cd7-9f65-74afc67ce285",
   "metadata": {
    "id": "K7CI3P0VrWjo"
   },
   "outputs": [],
   "source": [
    "simpfunc(5)"
   ]
  },
  {
   "cell_type": "code",
   "execution_count": null,
   "id": "623bed5f-9409-465b-a15f-eaafbb25635b",
   "metadata": {
    "id": "OM71gboBrWjo"
   },
   "outputs": [],
   "source": [
    "simpfunc(15)"
   ]
  },
  {
   "cell_type": "code",
   "execution_count": null,
   "id": "b9866730-bf4e-40e4-aec3-4325ed43d4f0",
   "metadata": {
    "id": "Seqs6JkgrWjo"
   },
   "outputs": [],
   "source": [
    "simpfunc([1, 2, 3])"
   ]
  },
  {
   "cell_type": "markdown",
   "id": "9bfd30b9-1153-4290-909b-ab51e7f2a337",
   "metadata": {
    "id": "bl3nXq0erWjo"
   },
   "source": [
    "## docstring\n",
    "* a triple-quoted string (comment) which follows the function header\n",
    "* has some special properties...\n",
    "* every function you write should have a docstring"
   ]
  },
  {
   "cell_type": "code",
   "execution_count": null,
   "id": "cb2a4121-1eeb-43d3-89de-43cc3869371e",
   "metadata": {
    "id": "2xZN6frWrWjo"
   },
   "outputs": [],
   "source": [
    "def rounder25(amount):\n",
    "    \"\"\"Return amount rounded UP to nearest\n",
    "       quarter dollar.\n",
    "\n",
    "           ...$1.89 becomes $2.00\n",
    "           ...but $1.00/$1.25/$1.75/etc.\n",
    "           remain unchanged\n",
    "    \"\"\"\n",
    "    dollars = int(amount) # 1\n",
    "    cents = round((amount - dollars) * 100) # 89\n",
    "    quarters = cents // 25 # 3\n",
    "    if cents % 25: # 14\n",
    "        quarters += 1 # 4\n",
    "    amount = dollars + 0.25 * quarters # 2.00\n",
    "\n",
    "    return amount"
   ]
  },
  {
   "cell_type": "markdown",
   "id": "24b2bab5-5702-4017-bb6b-976ee2e0cb36",
   "metadata": {
    "id": "rqKXrYnXrWjo"
   },
   "source": [
    "## Functions (cont'd)\n",
    "* __`help(func)`__ prints out formatted docstring\n",
    "* _`func.__doc__`_ prints out raw docstring"
   ]
  },
  {
   "cell_type": "code",
   "execution_count": null,
   "id": "8e885f03-9bc8-46ed-8c8f-a8ea32f5e138",
   "metadata": {
    "id": "zmuNJxpBrWjo"
   },
   "outputs": [],
   "source": [
    "help(rounder25)"
   ]
  },
  {
   "cell_type": "code",
   "execution_count": null,
   "id": "b5c1bc1b-88f0-4821-b0e7-ef68572c9a64",
   "metadata": {
    "id": "gXEfVhMTrWjo"
   },
   "outputs": [],
   "source": [
    "print(rounder25.__doc__)"
   ]
  },
  {
   "cell_type": "code",
   "execution_count": null,
   "id": "27ba0dc9-690e-4bd1-ba82-207634a37f86",
   "metadata": {
    "id": "U5ixZDtXrWjp"
   },
   "outputs": [],
   "source": [
    "rounder25(1.49)"
   ]
  },
  {
   "cell_type": "code",
   "execution_count": null,
   "id": "7dae4680-d367-48ca-b031-fd363d8dbd59",
   "metadata": {
    "colab": {
     "base_uri": "https://localhost:8080/"
    },
    "id": "fbG7JtJkrWjp",
    "outputId": "8cc03d5a-82db-452e-ed78-310f8e9de8c8"
   },
   "outputs": [],
   "source": [
    "rounder25(1.75)"
   ]
  },
  {
   "cell_type": "markdown",
   "id": "6c580499-80d6-451a-b846-e43b962850bf",
   "metadata": {
    "id": "FAw_0hRBrWjp"
   },
   "source": [
    "## Functions (cont'd)\n",
    "* if a function doesn’t call return explicitly, the special value __`None`__ is returned\n",
    "* __`None`__ is like __`NULL`__ or __`nil`__ in other languages\n",
    "* acts like __`False`__...but not the same as __`False`__"
   ]
  },
  {
   "cell_type": "code",
   "execution_count": null,
   "id": "cf6639d8-7ce6-4357-b56a-1a77be60ae5a",
   "metadata": {
    "id": "M03dUJyVrWjp"
   },
   "outputs": [],
   "source": [
    "retval = noonp()\n",
    "print(retval)"
   ]
  },
  {
   "cell_type": "code",
   "execution_count": null,
   "id": "272dfa09-ce0a-4d2d-9921-1047b468a6b0",
   "metadata": {
    "id": "uA29CyHUrWjp"
   },
   "outputs": [],
   "source": [
    "# None acts like False...\n",
    "if retval:\n",
    "    print('something')\n",
    "else:\n",
    "    print('nothing')"
   ]
  },
  {
   "cell_type": "markdown",
   "id": "ffea917f-560a-4d10-adc5-a769d279ec1b",
   "metadata": {
    "id": "NpJF2ULPrWjp"
   },
   "source": [
    "## Functions: positional arguments\n",
    "* arguments are passed to functions in order written"
   ]
  },
  {
   "cell_type": "code",
   "execution_count": null,
   "id": "17a225d4-5471-41f3-8527-e6e1335c34da",
   "metadata": {
    "id": "njFZFMbMrWjp"
   },
   "outputs": [],
   "source": [
    "def menu(wine, entree, dessert):\n",
    "    return { 'wine': wine, 'entree': entree, 'dessert': dessert }"
   ]
  },
  {
   "cell_type": "markdown",
   "id": "9b5ec441-8378-4cae-958c-4b63bba511aa",
   "metadata": {
    "id": "f1AQFxFcrWjp"
   },
   "source": [
    "## Your IDE will tell you the order of the arguments\n",
    "* ...but outside an IDE, it can be difficult to remember\n",
    "* if you pass args in wrong order, bad things can happen!"
   ]
  },
  {
   "cell_type": "code",
   "execution_count": null,
   "id": "aa816043-5a9c-4a94-aaa0-86bbebaba66e",
   "metadata": {
    "id": "ZSZPSRo5rWjp"
   },
   "outputs": [],
   "source": [
    "menu('chianti', 'tartuffo', 'polenta')"
   ]
  },
  {
   "cell_type": "markdown",
   "id": "a9d8ceb8-be8a-4e1c-a9d1-1f49e94eaf0a",
   "metadata": {
    "id": "Fbgfu41arWjp"
   },
   "source": [
    "## Functions: keyword arguments\n",
    "* you may specify arguments by name, in any order\n",
    "* once you specify a keyword argument, all arguments following it must be keyword arguments"
   ]
  },
  {
   "cell_type": "code",
   "execution_count": null,
   "id": "7b0be6a1-49ba-4c7f-b015-603cdf67ced2",
   "metadata": {
    "id": "qiqZU9marWjp"
   },
   "outputs": [],
   "source": [
    "# passing some arguments by keyword\n",
    "menu('chianti', dessert='tartufo', entree='polenta')"
   ]
  },
  {
   "cell_type": "code",
   "execution_count": null,
   "id": "0b05a4d7-53db-468e-b6d9-6e0fdc49c055",
   "metadata": {
    "id": "z-w_CBKorWjp"
   },
   "outputs": [],
   "source": [
    "# passing all arguments by keyword\n",
    "menu(dessert='tartufo', entree='polenta', wine='chianti')"
   ]
  },
  {
   "cell_type": "code",
   "execution_count": null,
   "id": "70fcbe11-ad9e-4eb3-856c-f990c17f5eeb",
   "metadata": {
    "id": "C6TuGgpzrWjp"
   },
   "outputs": [],
   "source": [
    "# once you start passing arguments by keyword, the rest must be passed by keyword\n",
    "menu('chianti', dessert='tartufo', 'polenta')"
   ]
  },
  {
   "cell_type": "markdown",
   "id": "47348b9c-b705-42ba-9017-bf39fab5f89a",
   "metadata": {
    "id": "5rOj29_yrWjp"
   },
   "source": [
    "## Functions: default arguments"
   ]
  },
  {
   "cell_type": "code",
   "execution_count": null,
   "id": "39698799-4ee1-4100-9ded-300415c117c7",
   "metadata": {
    "id": "G1iXsiwXrWjp"
   },
   "outputs": [],
   "source": [
    "def menu(wine, entree, dessert='tartufo'):\n",
    "    return { 'wine': wine, 'entree': entree, 'dessert': dessert }"
   ]
  },
  {
   "cell_type": "code",
   "execution_count": null,
   "id": "6b9e5788-adb1-473c-b168-56a446fc02ba",
   "metadata": {
    "id": "rt4Gld1trWjp"
   },
   "outputs": [],
   "source": [
    "menu('chardonnay', 'braised tofu')"
   ]
  },
  {
   "cell_type": "code",
   "execution_count": null,
   "id": "bd16bc33-15b5-42b4-a16f-38eeb97db917",
   "metadata": {
    "id": "W127k6UXrWjq"
   },
   "outputs": [],
   "source": [
    "menu('chardonnay', dessert='canoli', entree='fagioli')"
   ]
  },
  {
   "attachments": {},
   "cell_type": "markdown",
   "id": "6f1258d4-cad2-4c38-a991-e3e466336053",
   "metadata": {
    "id": "AsmZ0SbErWjq"
   },
   "source": [
    "## Lab: functions\n",
    "* let's write some functions–every function should have a docstring\n",
    "* __`calculate`__ which is passed two operands and an operator ('+', '-', '*', or '/') and returns the calculated result\n",
    "  * e.g., __`calculate(2, 4, '+')`__ would return 6\n",
    "* Given a string, return __`True`__  if the string is a pangram, or __`False`__ if it is not\n",
    "  * a pangram is a phrase which contains every letter of the alphabet\n",
    "    * e.g., _Pack my box with five dozen liquor jugs_\n",
    "* Given an integer as a parameter, the function sums up its digits\n",
    "  * if the resulting sum contains more than 1 digit, the function should sum the digits again, e.g., __`sumdigits(1235)`__ should compute the sum of 1, 2, 3, and 5 (11), then compute the sum of 1 and 1, returning 2\n",
    "* Given a number as a parameter and returns a string version of the number with commas representing thousands, e.g., __`add_commas(12345)`__ would return \"12,345\"\n",
    "* Demonstrate the Collatz Conjecture:\n",
    "  * for any integer n > 1\n",
    "    * if n is even, then multiply n by 2\n",
    "    * if n is odd, then multiply n by 3 and add 1\n",
    "  * \"repeatedly doing the above will sooner or later converge to 1\"\n",
    "  * your function should take n and keep printing new value of n until n is 1 and then return\n",
    "* given a 4-digit number where not all digits are the same, demonstrate __Kaprekar's Constant__ (6174)</pre>\n",
    "  * sort the digits of the number into descending and ascending order...\n",
    "  * then calculate the difference between the two new numbers\n",
    "  * keep doing the above until you get to 6174 (you always will)\n",
    "  * e.g., starting with the number 8991:\n",
    "    <br/>\n",
    "    <pre>\n",
    "      9981 – 1899 = 8082\n",
    "      8820 – 0288 = 8532\n",
    "      8532 – 2358 = 6174\n",
    "      7641 – 1467 = 6174\n",
    "    </pre>"
   ]
  },
  {
   "cell_type": "markdown",
   "id": "a3fdc724-a1ee-4f62-9a54-6395fd3ccd78",
   "metadata": {
    "id": "_Jnhxm0OrWjq"
   },
   "source": [
    "## Variable Positional Arguments\n",
    "* sometimes we want a function which takes a variable number of arguments (e.g., builtin __`print()`__ function)"
   ]
  },
  {
   "cell_type": "code",
   "execution_count": null,
   "id": "dc69c52e-f66a-49f6-852d-969bdc2cc217",
   "metadata": {
    "id": "mwScYoNtrWjq"
   },
   "outputs": [],
   "source": [
    "def func(*args): # func takes 0 or more arguments\n",
    "    print(args)"
   ]
  },
  {
   "cell_type": "code",
   "execution_count": null,
   "id": "03d5276e-b481-4ff8-b396-ab716d6fa4ba",
   "metadata": {
    "id": "7kVOVDvYrWjq"
   },
   "outputs": [],
   "source": [
    "def func(*args): # func takes 0 or more arguments\n",
    "    print(args)\n",
    "    for index, arg in enumerate(args):\n",
    "        print('arg', index, 'is', arg)"
   ]
  },
  {
   "cell_type": "code",
   "execution_count": null,
   "id": "3aaebb0a-0a01-43d9-8915-3b59576744f8",
   "metadata": {
    "id": "OysnhAvqrWjq"
   },
   "outputs": [],
   "source": [
    "func()"
   ]
  },
  {
   "cell_type": "code",
   "execution_count": null,
   "id": "948d4706-64f1-4777-811b-fc33344fcd0a",
   "metadata": {
    "id": "FaL57L2urWjq"
   },
   "outputs": [],
   "source": [
    "func(3, 4, 5, [2, 2, 3], {}, 'string')"
   ]
  },
  {
   "cell_type": "code",
   "execution_count": null,
   "id": "aa8cda0a-c260-4683-adcf-99c9f3283901",
   "metadata": {
    "id": "SOYZQMbqrWjt"
   },
   "outputs": [],
   "source": [
    "func({ 'a': 'b'}, [1, 2, 3], 'this', True)"
   ]
  },
  {
   "cell_type": "markdown",
   "id": "ae6905ef-7d96-4690-883a-29657a41af83",
   "metadata": {
    "id": "AeHwA37BrWjt"
   },
   "source": [
    "## Lab: Variable Positional Arguments\n",
    "* write a function called __`product`__ which accepts a variable number of arguments and returns the product of all of its args. With no args, __`product()`__ should return 1    \n",
    "\n",
    "<pre><b>\n",
    ">>> product(3, 5)\n",
    "15\n",
    ">>> product(1, 2, 3)\n",
    "6\n",
    ">>> product(63, 12, 3, 0, 9)\n",
    "0\n",
    ">>> product()\n",
    "1\n",
    "</b></pre>"
   ]
  },
  {
   "cell_type": "markdown",
   "id": "10eab39b-098e-4c67-938d-e2e83b644a97",
   "metadata": {
    "id": "IDPx8BITrWjt"
   },
   "source": [
    "## Variable Keyword Arguments\n",
    "* what if a function needs a bunch of configuration options, having default values which typically aren't overridden?\n",
    "  * one way to do this would be to have the function accept a dict in which these value(s) can be specified\n",
    "  * better way is to use variable keywords arguments"
   ]
  },
  {
   "cell_type": "code",
   "execution_count": null,
   "id": "a87a96fa-b056-44dc-b761-3434eed88bbc",
   "metadata": {
    "id": "B3mILcxtrWjt"
   },
   "outputs": [],
   "source": [
    "def vka(**kwargs):\n",
    "    print(kwargs)\n",
    "    for key in kwargs:\n",
    "        print(key, '=>', kwargs[key])"
   ]
  },
  {
   "cell_type": "code",
   "execution_count": null,
   "id": "c78ce281-1e4c-4480-8966-23b9c8c87f1a",
   "metadata": {
    "id": "tvsbHUoUrWjt"
   },
   "outputs": [],
   "source": [
    "vka(sep='+', foo='bar', whizbang='rotunda', x=5, debug='hello', color='pink')"
   ]
  },
  {
   "cell_type": "code",
   "execution_count": null,
   "id": "8b87dfd2-ad52-4c65-83ba-75240c20f566",
   "metadata": {
    "id": "QpztbCK_rWjt"
   },
   "outputs": [],
   "source": [
    "def weird_func(x, y, z, *args, **kwargs):\n",
    "    print('req args:', x, y, z)\n",
    "    print('var pos args', args)\n",
    "    print('var keywd args', kwargs)\n",
    "    if 'debug' in kwargs:\n",
    "        if kwargs['debug'] == True: # because it could be false\n",
    "            turn_on_debugging = True\n",
    "            # utilize some of *args..."
   ]
  },
  {
   "cell_type": "code",
   "execution_count": null,
   "id": "7d760e4c-3b9e-4129-b12d-17b24d46c88b",
   "metadata": {
    "id": "w0MQ2BOFrWjt"
   },
   "outputs": [],
   "source": [
    "def weird_func(x, y, z, debug_file=None, debug=False):\n",
    "    print('req args:', x, y, z)\n",
    "    print('var pos args', args)\n",
    "    print('var keywd args', kwargs)"
   ]
  },
  {
   "cell_type": "markdown",
   "id": "fe3e012b-44b5-4cd4-b3f5-9deb3a6855a3",
   "metadata": {
    "id": "LDEOm0HurWjt"
   },
   "source": [
    "## Lab: Variable Keyword Arguments\n",
    "* modify the function (or functions) you wrote by adding variable keywords arguments to it/them\n",
    "  * e.g., for __calculate__, you could add __`float=True`__, which causes the calculation to be done as floating point, rather than integer\n",
    "<pre><b>\n",
    "calculate(2, 4, '+') = 6\n",
    "calculate(3, 2, '/', float=True) = 1.5\n",
    "</b></pre>\n",
    "  * e.g., for __Kaprekar__ you might have a keyword argument __`return_vals=True`__ which returns the intermediate values, rather than printing them (__`[8991, 8082, 8532, 6174]`__)"
   ]
  },
  {
   "cell_type": "markdown",
   "id": "d30b0e9c-db16-40e7-8689-bbc32e6f03f0",
   "metadata": {
    "id": "NhRQWIZaljs2"
   },
   "source": [
    "## List Comprehensions (\"listcomps\")\n",
    "* quick/compact way to build a list\n",
    "* \"more readable\"\n",
    "* there are 4 types of list comprehensions"
   ]
  },
  {
   "cell_type": "code",
   "execution_count": null,
   "id": "8b273368-03c8-4d32-8a5d-93466efce745",
   "metadata": {
    "id": "djcpogveljs2"
   },
   "outputs": [],
   "source": [
    "# suppose we have a list of fruits\n",
    "fruits = 'apple lemon cherry fig lime watermelon'.split()\n",
    "fruits"
   ]
  },
  {
   "cell_type": "markdown",
   "id": "72018a57-89ea-4540-8e15-19a3c67f369d",
   "metadata": {
    "id": "2AuqhNu7ljs2"
   },
   "source": [
    "#### Now suppose we want a \"parallel\" list containing the lengths of each fruit string\n",
    "* first we'll create that list the standard way..."
   ]
  },
  {
   "cell_type": "code",
   "execution_count": null,
   "id": "16d3d314-603b-41e3-8ac4-5770f8786f10",
   "metadata": {
    "id": "0LvPT0FKljs2"
   },
   "outputs": [],
   "source": [
    "fruit_lengths = []\n",
    "\n",
    "for fruit in fruits:\n",
    "    fruit_lengths.append()\n",
    "\n",
    "print(fruit_lengths)"
   ]
  },
  {
   "cell_type": "markdown",
   "id": "ccfa34de-3708-4dcc-95cb-141ffca0e138",
   "metadata": {
    "id": "hhdXCDZiljs2"
   },
   "source": [
    "* and now with a list comprehension..."
   ]
  },
  {
   "cell_type": "code",
   "execution_count": null,
   "id": "ee6ae586-ff71-4630-ad50-0d2438824251",
   "metadata": {
    "id": "T8Cih6scljs2",
    "scrolled": true
   },
   "outputs": [],
   "source": [
    "fruit_lengths = [len(fruit) for fruit in fruits]\n",
    "\n",
    "print(fruit_lengths)"
   ]
  },
  {
   "cell_type": "markdown",
   "id": "7e5ea4f5-01a6-4ebc-946f-d8fb614c9b8a",
   "metadata": {},
   "source": [
    "* the above is what I would call a \"standard\" or \"straight up\" list comprehension"
   ]
  },
  {
   "cell_type": "markdown",
   "id": "5efb678f-5ca3-4756-9d9d-eae3b5d25d41",
   "metadata": {},
   "source": [
    "### list comprehension type 2: filters\n",
    "* we can use list comprehensions to *filter* one list into another"
   ]
  },
  {
   "cell_type": "code",
   "execution_count": null,
   "id": "75f9fd4d-3fb5-4fc0-9b99-df02842c0bd1",
   "metadata": {
    "id": "QtBvwR7-ljs3"
   },
   "outputs": [],
   "source": [
    "string = 'alphabet soup tastes great!'"
   ]
  },
  {
   "cell_type": "code",
   "execution_count": null,
   "id": "fa3efaff-e7eb-4079-9f1b-800723499e47",
   "metadata": {
    "id": "0_jAHk0Jljs3"
   },
   "outputs": [],
   "source": [
    "print(list(string))"
   ]
  },
  {
   "cell_type": "markdown",
   "id": "cd51d984-9de9-43f8-9b68-f22f17526eda",
   "metadata": {
    "id": "_Ryl2chWljs3"
   },
   "source": [
    "#### suppose we wanted to generate a list of all the consonants in a string, discarding vowels and spaces..."
   ]
  },
  {
   "cell_type": "code",
   "execution_count": null,
   "id": "ce813aae-74b6-4fd0-a566-87a275043f07",
   "metadata": {
    "id": "uGEdPCZPljs3"
   },
   "outputs": [],
   "source": [
    "consonants = [char for char in string\n",
    "                          if char not in 'aeiou! ']\n",
    "print(consonants)"
   ]
  },
  {
   "cell_type": "markdown",
   "id": "f4cfcd6f-c78d-4105-9d3b-5c4a4815e166",
   "metadata": {},
   "source": [
    "### list comprehension type 3: Cartesian products\n",
    "* listcomps can generate a list from the Cartesian product of two or more iterables"
   ]
  },
  {
   "cell_type": "code",
   "execution_count": null,
   "id": "34ed2b53-8a03-45fa-b3fc-7986ea4eadd3",
   "metadata": {
    "id": "GFyBKPwVljs2"
   },
   "outputs": [],
   "source": [
    "colors = ['black', 'white']\n",
    "sizes = ['S', 'M', 'L', 'XL']"
   ]
  },
  {
   "cell_type": "code",
   "execution_count": null,
   "id": "d2247729-407a-43dc-97a8-bef6d82a083e",
   "metadata": {
    "id": "Zis07REzljs2"
   },
   "outputs": [],
   "source": [
    "tshirts = [[color, size] for size in sizes\n",
    "                             for color in colors]\n",
    "tshirts"
   ]
  },
  {
   "cell_type": "markdown",
   "id": "5e0cbad5-1e93-4503-bb8a-29242ca241b1",
   "metadata": {},
   "source": [
    "## Lab: List Comprehensions\n",
    "* Use a list comprehension to create a list of the squares of the integers from 1 to 25 (i.e, 1, 4, 9, 16, …, 625)\n",
    "* Given a list of words, create a second list which contains all the words from the first list which do not end with a vowel\n",
    "* Use a list comprehension to create a list of the integers from 1 to 100 which are not divisible by 5\n",
    "* Start with Cartesian product example (colors x sizes of t-shirts) and\n",
    "  * add a third list, __`sleeves = ['short', 'long']`__ then write a new listcomp which generates the Cartesian product __`colors x sizes x sleeves`__. __`tshirts`__ should look like this:<pre><b>\n",
    "    [['black', 'S', 'short'],\n",
    "     ['black', 'S', 'long'],\n",
    "     ['black', 'M', 'short'],\n",
    "     ['black', 'M', 'long'],\n",
    "     ['black', 'L', 'short'],\n",
    "     ['black', 'L', 'long'],\n",
    "     ['black', 'XL', 'short'],\n",
    "     ['black', 'XL', 'long'],\n",
    "     ['white', 'S', 'short'],\n",
    "     ['white', 'S', 'long'],\n",
    "     ['white', 'M', 'short'],\n",
    "     ['white', 'M', 'long'],\n",
    "     ['white', 'L', 'short'],\n",
    "     ['white', 'L', 'long'],\n",
    "     ['white', 'XL', 'short'],\n",
    "     ['white', 'XL', 'long']]\n",
    "     \n",
    " </b></pre>\n",
    " * Use a list comprehension and __`zip()`__ (this is the fourth kind of list comprehension) to create a list of lists, where the list items are name and ID number that you grabbed from separate lists of names and ID numbers\n",
    "   * start with a list of, say, 5 names ['John', 'Mary', 'Edward', 'Linda', 'Dinesh']\n",
    "   * and a list of, say, 5 ID numbers [1003, 2043, 8762, 7862, 1093]\n",
    "   * additional wrinkle: do not include any names whose corresponding ID is -1"
   ]
  },
  {
   "cell_type": "code",
   "execution_count": null,
   "id": "dba52cc2-d07c-48e5-87f8-d0063a10a5c1",
   "metadata": {},
   "outputs": [],
   "source": []
  },
  {
   "cell_type": "markdown",
   "id": "806ef770-e82b-462d-a337-493e4232109a",
   "metadata": {},
   "source": [
    "## Dict Comprehensions\n",
    "* same thing, except with dict instead of list"
   ]
  },
  {
   "cell_type": "code",
   "execution_count": null,
   "id": "7d4d6230-3f4d-4b0a-9052-6f17f4651be8",
   "metadata": {},
   "outputs": [],
   "source": [
    "digits = list(range(10))\n",
    "digit_names = 'zero one two three four five six seven eight nine'.split()"
   ]
  },
  {
   "cell_type": "code",
   "execution_count": null,
   "id": "2bbe3ea3-c77b-436e-8bbb-78c1d6e6d107",
   "metadata": {},
   "outputs": [],
   "source": [
    "digit_to_name = { digit: name for digit, name in zip(digits, digit_names) }\n",
    "digit_to_name"
   ]
  },
  {
   "cell_type": "code",
   "execution_count": null,
   "id": "695f7e33-69f2-4b20-a65a-2a92df9ad648",
   "metadata": {},
   "outputs": [],
   "source": [
    "# use a dict comprehension to invert a dict\n",
    "name_to_digit = { name: digit for digit, name in digit_to_name.items() }\n",
    "name_to_digit"
   ]
  },
  {
   "cell_type": "markdown",
   "id": "eb9c3bba-8077-4379-a8d4-e52a08b0d7ee",
   "metadata": {},
   "source": [
    "* can any dict be inverted?\n",
    "  * what are requirements for dict keys?\n",
    "  * ...dict values?"
   ]
  },
  {
   "cell_type": "code",
   "execution_count": null,
   "id": "b435ee66-e334-4546-a61d-77559716e7d4",
   "metadata": {},
   "outputs": [],
   "source": []
  },
  {
   "cell_type": "markdown",
   "id": "77542f7f-4cbf-4439-beea-c7a4f8472585",
   "metadata": {},
   "source": [
    "## Lab: Dict Comprehensions\n",
    "* start with this list of numbers: __`[1, 2, 2, 3, 3, 3, 4, 5, 5]`__\n",
    "  * use a dict comp to create a dict where the keys are the numbers in the list, and the values are the _count_ of that number\n",
    "  * the result should be __`{ 1: 1, 2: 2, 3: 3, 4: 1, 5: 2 }`__\n",
    "* start with the dict: __`{'Alice': 85, 'Bob': 72, 'Cara': 95, 'Dan': 60}`__\n",
    "  * use a dict comp to create a new dict containing only the students who scored 80 or above\n",
    "* start with this code:\n",
    "<pre>\n",
    "    students = ['Alice', 'Bob']\n",
    "    subjects = ['Math', 'English', 'Science']\n",
    "    scores = {\n",
    "        'Alice': [90, 85, 92],\n",
    "        'Bob': [78, 81, 69]\n",
    "    }\n",
    "</pre>\n",
    "  * Create a dictionary of dictionaries where each student maps to {subject: score}\n",
    "  * ...result should be\n",
    "<pre>\n",
    "    {\n",
    "      'Alice': {'Math': 90, 'English': 85, 'Science': 92},\n",
    "      'Bob': {'Math': 78, 'English': 81, 'Science': 69}\n",
    "    }\n",
    "</pre>"
   ]
  },
  {
   "cell_type": "markdown",
   "id": "86ac55dc-c4f6-463e-8e79-06e1466f1e6d",
   "metadata": {},
   "source": [
    "## Set Comprehensions\n",
    "* same thing with sets!"
   ]
  },
  {
   "cell_type": "code",
   "execution_count": null,
   "id": "e4e4486a-4fa9-4f7f-bae5-f0820d930aa3",
   "metadata": {},
   "outputs": [],
   "source": [
    "phrase = 'The wizards quickly jinxed the gnomes before they vaporized!'\n",
    "\n",
    "letters = { char for char in phrase.lower() if char in 'abcdefghijklmnopqrstuvwxyz' }\n",
    "len(letters)"
   ]
  },
  {
   "cell_type": "code",
   "execution_count": null,
   "id": "c70cc1ca-b977-4103-b589-a8dbeef24e5f",
   "metadata": {},
   "outputs": [],
   "source": [
    "# BTW, we can get the letters of the alphabet easier...\n",
    "from string import ascii_lowercase\n",
    "\n",
    "letters = { char for char in phrase.lower() if char in ascii_lowercase }\n",
    "len(letters)"
   ]
  },
  {
   "cell_type": "markdown",
   "id": "f4f8bb2e-b224-435f-907d-cfa7bec20b3f",
   "metadata": {
    "id": "z_d5qF2qrWjt"
   },
   "source": [
    "## Error Handling \n",
    "* errors detected during execution are called _exceptions_\n",
    "* exceptions are \"thrown\" and either \"caught\" by an exception handler, or propagated upward\n",
    "* \"…exceptions create hidden control-flow paths that are difficult for programmers to reason about\" –Weimer & Necula, \"Exceptional Situations and Program Reliability\"\n",
    "  * ...but they are also Pythonic\n",
    "* LBYL vs. EAFP"
   ]
  },
  {
   "cell_type": "code",
   "execution_count": null,
   "id": "faaa3d77-49a1-46f1-93ef-e80418382aec",
   "metadata": {
    "id": "L6LbK5lArWjt"
   },
   "outputs": [],
   "source": [
    "mylist = [1, 5, 10]\n",
    "mylist[1]"
   ]
  },
  {
   "cell_type": "code",
   "execution_count": null,
   "id": "e5bb3371-b947-463a-909a-dc1598b3b0a7",
   "metadata": {
    "id": "bvMZBCRDrWjt"
   },
   "outputs": [],
   "source": [
    "mylist[5]"
   ]
  },
  {
   "cell_type": "code",
   "execution_count": null,
   "id": "285d15b6-3faa-4a13-ac9c-abc292338e43",
   "metadata": {
    "id": "4UNOOsdwrWjt"
   },
   "outputs": [],
   "source": [
    "int('x')"
   ]
  },
  {
   "cell_type": "markdown",
   "id": "a25c8f42-2704-472f-81ef-70ef856c0e4c",
   "metadata": {
    "id": "akKpjIy_rWjt"
   },
   "source": [
    "https://w3.cs.jmu.edu/spragunr/CS240_F14/activities/exceptions/exceptions.shtml"
   ]
  },
  {
   "cell_type": "markdown",
   "id": "73643119-5b34-4e44-8b63-fc1628d2a458",
   "metadata": {
    "id": "Ewie9nz2rWjt"
   },
   "source": [
    "## Exceptions: __`try/except`__\n",
    "* __`try`__ block wraps code which may throw an exception, and __`except`__ block catches exception"
   ]
  },
  {
   "cell_type": "code",
   "execution_count": null,
   "id": "3deaa24c-3cee-48b7-8e11-d543dacc3910",
   "metadata": {
    "id": "61KYCr6CrWju"
   },
   "outputs": [],
   "source": [
    "try:\n",
    "    mylist[5] # could throw an IndexError\n",
    "except:\n",
    "    print('no element at offset 5')\n",
    "    # cleanup, reset, ...\n",
    "\n",
    "print('rest of program')"
   ]
  },
  {
   "cell_type": "markdown",
   "id": "dffbbbf2-d637-452f-bd56-3709c1f5ade0",
   "metadata": {
    "id": "aeqNHCAzrWju"
   },
   "source": [
    "* problem? above example catches ALL exceptions, not just __`IndexError`__ we are expecting\n",
    "* best practice is to catch expected exceptions and let unexpected ones through, so as to avoid hidden errors"
   ]
  },
  {
   "cell_type": "code",
   "execution_count": null,
   "id": "7d086264-247e-497e-8cf3-f22443738a6c",
   "metadata": {
    "id": "89LX5rlfrWju"
   },
   "outputs": [],
   "source": [
    "try:\n",
    "    print(mylist[1]) # could throw an IndexError\n",
    "    int('a')\n",
    "except IndexError:\n",
    "    print('Bad index! Try again!')\n",
    "except Exception as uhoh: # put the exception into the variable uhoh\n",
    "    print('Some other exception:', uhoh, type(uhoh))"
   ]
  },
  {
   "cell_type": "code",
   "execution_count": null,
   "id": "8a983071-0322-42d1-b722-445f67d9e83d",
   "metadata": {
    "id": "0E4lmVdmrWju"
   },
   "outputs": [],
   "source": [
    "short_list = ['zero', 'one', 'two']\n",
    "\n",
    "while (value := input('Enter numeric index [q to quit]? ')) != 'q':\n",
    "    try:\n",
    "        position = int(value) # they could enter a non-int\n",
    "        print(short_list[position]) # fall off the list...\n",
    "    except IndexError:\n",
    "        print('Bad index:', value)\n",
    "    except ValueError:\n",
    "        print(\"Hey that's not a number!\")\n",
    "    except Exception as other:\n",
    "        print('Something else broke:', other, type(other))"
   ]
  },
  {
   "cell_type": "markdown",
   "id": "60908f20-f006-4765-8b85-05d5037191d8",
   "metadata": {
    "id": "fDeLZHDHrWju"
   },
   "source": [
    "## Lab: Exceptions\n",
    "* modify all of your functions to include exception handlers as needed, e.g.,\n",
    "  * __`calculate()`__ should catch the __`ZeroDivisionError`__ exception and print a message if the user tries to divide by zero\n",
    "  * __`sumdigits()`__ should not crash due to non-digits\n",
    "  * also take this time to add _docstrings_ if you haven't already"
   ]
  },
  {
   "cell_type": "markdown",
   "id": "14d840f0-f750-4f6b-b673-81dc358dd118",
   "metadata": {
    "id": "C1QVCfR2rWju"
   },
   "source": [
    "## Exceptions (cont'd)\n",
    "* important to minimize size of try block\n"
   ]
  },
  {
   "cell_type": "code",
   "execution_count": null,
   "id": "0d080fc5-61cc-4a89-a70f-3e981ce1f592",
   "metadata": {
    "id": "hRYG9Oh9rWju"
   },
   "outputs": [],
   "source": [
    "# pseudocode, not actual Python code\n",
    "try:\n",
    "    dangerous_call()\n",
    "    after_call() # this can't throw an exception\n",
    "except OS_Error:\n",
    "    log('...')"
   ]
  },
  {
   "cell_type": "markdown",
   "id": "e4fc2076-849c-4968-8315-f119c1d2ca97",
   "metadata": {
    "id": "Pn1SbSw5rWju"
   },
   "source": [
    "* __`after_call()`__ will only run if __`dangerous_call()`__ doesn't throw an exception…So what's the problem?"
   ]
  },
  {
   "cell_type": "code",
   "execution_count": null,
   "id": "9dccf647-aeba-4605-b881-b1e67abb5483",
   "metadata": {
    "id": "MwGmJHwKrWju"
   },
   "outputs": [],
   "source": [
    "# pseudocode\n",
    "try:\n",
    "    dangerous_call()\n",
    "except OS_Error:\n",
    "    log('...')\n",
    "else:\n",
    "    after_call() # implied: can't throw an exception"
   ]
  },
  {
   "cell_type": "markdown",
   "id": "d0ef105f-78ab-4d7b-b8f5-6384a3caf8e7",
   "metadata": {
    "id": "wt6XHox4rWju"
   },
   "source": [
    "* now it’s clear that try block is guarding against possible errors in __`dangerous_call()`__, not in __`after_call()`__ it’s also more obvious that __`after_call()`__ will only execute if no exceptions are raised in the try block"
   ]
  },
  {
   "cell_type": "markdown",
   "id": "854cd133-5b63-407e-bad8-c7f1577336be",
   "metadata": {
    "id": "I0qDUHXKrWju"
   },
   "source": [
    "## __The `finally` Block__\n",
    "* code in the finally block will be executed whether or not an exception is thrown"
   ]
  },
  {
   "cell_type": "code",
   "execution_count": null,
   "id": "c31945ba-22bf-43af-a36e-31b4c47c9b50",
   "metadata": {
    "id": "J1v0keklrWju"
   },
   "outputs": [],
   "source": [
    "def func():\n",
    "    try:\n",
    "        i = int(input('\\nEnter a number: ')) # ValueError?\n",
    "        x = 1 / i # ZeroDivisionError?\n",
    "    except ValueError:\n",
    "        print('Not a number!')\n",
    "    except ZeroDivisionError:\n",
    "        print('Cannot divide by 0')\n",
    "        return\n",
    "    else:\n",
    "        print('Everything OK')\n",
    "    finally:\n",
    "        print('FINALLY: DO this either way!')\n",
    "\n",
    "func(), func(), func()"
   ]
  },
  {
   "cell_type": "markdown",
   "id": "8c8dcd52-d1fe-4a58-bb7e-8a1be9d87e32",
   "metadata": {
    "id": "B1pudeNKrWju"
   },
   "source": [
    "## Lab: Exceptions\n",
    "* extend any __`try/except`__ to __`try/except/else`__\n",
    "* if you can use a __`finally`__ block, even better"
   ]
  },
  {
   "cell_type": "markdown",
   "id": "26ccf7f1-987a-485b-8143-ec7f9005f37c",
   "metadata": {
    "id": "z6bCBRXprWju"
   },
   "source": [
    "# Modules\n",
    "* files of Python code which define or \"expose\" functions, data, and possibly classes (types)\n",
    "* we already know and use a few of them"
   ]
  },
  {
   "cell_type": "code",
   "execution_count": null,
   "id": "b4910cc4-04a8-47bf-aa98-cc8ee5326f76",
   "metadata": {},
   "outputs": [],
   "source": [
    "import math"
   ]
  },
  {
   "cell_type": "code",
   "execution_count": null,
   "id": "9fa0b9ce-40f6-4c47-9d3e-7ea88e13463e",
   "metadata": {},
   "outputs": [],
   "source": [
    "dir(math)"
   ]
  },
  {
   "cell_type": "code",
   "execution_count": null,
   "id": "52646f64-8097-4f47-af41-00889883d406",
   "metadata": {},
   "outputs": [],
   "source": [
    "import random\n",
    "random.randint(1, 10)"
   ]
  },
  {
   "cell_type": "code",
   "execution_count": null,
   "id": "e3335ab5-cc7b-4a00-b3f7-83d3cb808b43",
   "metadata": {},
   "outputs": [],
   "source": [
    "# This code lives in module.py\n",
    "#\n",
    "# Simple example of a Python module that exports functions\n",
    "# to be used by other modules.\n",
    "# \n",
    "# A possible use case is to package up a bunch of functions\n",
    "# which are often used by your scripts.\n",
    "#\n",
    "# Inside your scripts you presumably have written\n",
    "#\n",
    "# import module\n",
    "\n",
    "def doubler(x):\n",
    "    return x * 2\n",
    "\n",
    "# What follows is a straightforward testing capability for this\n",
    "# function. We notice that __name__ is set to \"__main__\" when we\n",
    "# *run* this script, but it's set to the name of this module when\n",
    "# we import the module.\n",
    "\n",
    "if __name__ == '__main__':\n",
    "    # We ran this script, rather than importing it\n",
    "    print('Running unit tests...')\n",
    "    assert doubler(2) == 4\n",
    "    assert doubler('two') == 'twotwo'\n",
    "    print('All tests passed!')"
   ]
  },
  {
   "cell_type": "code",
   "execution_count": null,
   "id": "77a8dd6a-ddac-472e-94d2-ada9f160af4c",
   "metadata": {},
   "outputs": [],
   "source": [
    "import module"
   ]
  },
  {
   "cell_type": "code",
   "execution_count": null,
   "id": "c7e5617e-8b09-4500-b414-75346ea645af",
   "metadata": {},
   "outputs": [],
   "source": [
    "module.doubler(3.2)"
   ]
  },
  {
   "cell_type": "markdown",
   "id": "40665742-d5c6-45f5-8b44-bad107448cb4",
   "metadata": {
    "slideshow": {
     "slide_type": "slide"
    }
   },
   "source": [
    "# __`PyTest`__\n",
    "* commonly-used testing framework for Python code\n",
    "* no boilerplate code needed\n",
    "* outputs detailed info on failing __`assert`__ statements\n",
    "* auto-discovers test modules and functions\n",
    "* __`pip install pytest`__"
   ]
  },
  {
   "cell_type": "markdown",
   "id": "fe0ffffb-ede0-41b5-a86b-ab52a8b9c49c",
   "metadata": {},
   "source": [
    "#### If we name a file __`test_*.py`__, __`pytest`__ will discover it automatically, and run any tests inside which begin with the name __`test_`__"
   ]
  },
  {
   "cell_type": "code",
   "execution_count": null,
   "id": "b45ed107-dd47-4e0c-a168-5e34e265f200",
   "metadata": {},
   "outputs": [],
   "source": [
    "# content of test_sample.py\n",
    "def inc(x):\n",
    "    return x + 1\n",
    "\n",
    "def test_answer():\n",
    "    assert inc(3) == 4"
   ]
  },
  {
   "cell_type": "code",
   "execution_count": null,
   "id": "3a4316b4-61de-4e5b-b5f9-4b65975e6651",
   "metadata": {
    "scrolled": true
   },
   "outputs": [],
   "source": [
    "!pytest"
   ]
  },
  {
   "cell_type": "markdown",
   "id": "221275f2-f3a5-440a-8e01-20146f242c3c",
   "metadata": {},
   "source": [
    "#### A more likely scenario would be to have our code in a separate module, and we will import the module in the test file...\n",
    "* let's check out the file __`mean.py`__ which is contains a single function __`mean`__"
   ]
  },
  {
   "cell_type": "code",
   "execution_count": null,
   "id": "a55d0fe3-ea7c-4ca3-8df8-e3d653cb4f4f",
   "metadata": {},
   "outputs": [],
   "source": [
    "# t_mean.py (we can rename this test_mean.py to demonstrate that pytest will \"find\" it\n",
    "from mean import mean # import function mean\n",
    "\n",
    "def test_int():\n",
    "    num_list = [1, 2, 3, 4, 5]\n",
    "    assert mean(num_list) == 3\n",
    "\n",
    "def test_zero():\n",
    "    num_list = [0, 2, 4, 6]\n",
    "    obs = mean(num_list)\n",
    "    exp = 3\n",
    "    assert obs == exp\n",
    "\n",
    "def test_double():\n",
    "    num_list = [1, 2, 3, 4]\n",
    "    obs = mean(num_list)\n",
    "    exp = 2.5\n",
    "    assert obs == exp\n",
    "\n",
    "def test_long():\n",
    "    big = 100_000_000 # Python 3.6-ism\n",
    "    obs = mean(range(1, big))\n",
    "    exp = big/2.0\n",
    "    assert obs == exp\n",
    "\n",
    "def test_complex():\n",
    "    # given that complex numbers are an unordered field\n",
    "    # the arithmetic mean of complex numbers is meaningless\n",
    "    num_list = [2 + 3j,  3 + 4j,  -32 - 2j]\n",
    "    obs = mean(num_list)\n",
    "    exp = -9+1.6666666666666667j\n",
    "    assert obs == exp"
   ]
  },
  {
   "cell_type": "markdown",
   "id": "40e4423e-8bc5-41e9-b3fb-dd3a902bd584",
   "metadata": {},
   "source": [
    "# Lab\n",
    "* create a module called __`string_tools.py`__\n",
    "  * add these functions:\n",
    "    * __`count_vowels`__ (returns number of vowels in a string)\n",
    "    * __`is_palindrome`__ (returns True if a word is the same backwards and forward, e.g., 'radar')\n",
    "      * your function should ignore case and spaces so that \"Radar\" and \"Never odd or even\" will return True\n",
    "    * __`is_pangram`__ (you can use the one you already wrote)\n",
    "    * __`is_anagram`__ (return True if one word has the same letter as another, e.g., \"listen\", \"silent\")\n",
    "      * could also ignore spaces, e.g., \"anagram\", \"nag a ram\"\n",
    "    * any others you wish to write\n",
    "* create __`test_string_tools.py`__ which contains tests for each of the functions above\n",
    "  * be sure to check \"corner cases\", e.g., empty strings\n",
    "  * e.g,. __`count_vowels(\"b/c/d\")`__ should return 0, but so should __`count_vowels(\"\")`__\n",
    "* stretch challenge\n",
    "  * have the functions ensure that the arguments sent to it are strings, and if not, they should raise a __`ValueError`__ exception\n",
    "  * have your tests ensure that a __`ValueError`__ exception is raised when a non-string is passed"
   ]
  },
  {
   "cell_type": "code",
   "execution_count": null,
   "id": "1ce4a972-1a59-4b7f-8e78-e986da368d19",
   "metadata": {},
   "outputs": [],
   "source": []
  }
 ],
 "metadata": {
  "kernelspec": {
   "display_name": "Python 3 (ipykernel)",
   "language": "python",
   "name": "python3"
  },
  "language_info": {
   "codemirror_mode": {
    "name": "ipython",
    "version": 3
   },
   "file_extension": ".py",
   "mimetype": "text/x-python",
   "name": "python",
   "nbconvert_exporter": "python",
   "pygments_lexer": "ipython3",
   "version": "3.13.5"
  }
 },
 "nbformat": 4,
 "nbformat_minor": 5
}
