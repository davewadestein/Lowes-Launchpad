{
 "cells": [
  {
   "cell_type": "markdown",
   "id": "7e91bcd1-cfca-4fb0-aeba-9c77f59fbc6f",
   "metadata": {},
   "source": [
    "# Important Things To Know About Python\n",
    "* scalars vs. containers\n",
    "   * scalars = single values (int, float, bool)\n",
    "   * containers = objects which hold 0+ other objects (str, list, dict, tuple, set)\n",
    "* mutable vs. immutable objects\n",
    "  * mutable = list, dict, set\n",
    "  * immutable = str, tuple, frozenset\n",
    "* \"truthiness\"\n",
    "  * 0 and 0.0 are considered False\n",
    "  * non-zero values (including negatives) are considered True\n",
    "  * empty container considered False\n",
    "  * non-empty container considered True\n",
    "* Python's built-in functions do not change the objects that are passed into them\n",
    "  * if you want to change an object you have to call/apply/invoke a method on/to that object\n",
    "* \"duck typing\"\n",
    "  * if it walks like a duck, and it quacks like a duck, I'm going to call it a duck\n",
    "  * meaning that a \"duck typed\" function is one that doesn't expect/require a certain datatype is passed to it, but rather expects/requires certain _behavior_ (or attributes) from its arguments (e.g., must be iterable) "
   ]
  },
  {
   "cell_type": "markdown",
   "id": "b87500d0-76e8-432d-aa1b-61f349c7caba",
   "metadata": {
    "editable": true,
    "slideshow": {
     "slide_type": ""
    },
    "tags": []
   },
   "source": [
    "# Pythonic\n",
    "* __`container[-n]`__ means nth from the end\n",
    "* __`container[::-1]`__ means generate a reversed version\n",
    "* __`for _ in range(n)`__ means \"do this n times\"\n",
    "* prefer __`'fig apple pear lemon guava cherry'.split()`__ to manually creating a list\n",
    "* if an object is difficult to work with, consider changing its type (e.g., Kaprekar)\n",
    "* truthy/falsy"
   ]
  },
  {
   "cell_type": "markdown",
   "id": "39e3f6ba-d8b6-4e74-9cc6-204835d50f6b",
   "metadata": {},
   "source": [
    "## DWS's Two Patented Ways to Get Better at Coding\n",
    "1. when your code works, try to solve it another way (Note that you can't know what the \"best\" way is until you try a few ways first)\n",
    "2. when your code works, add more features to it (other people are going to ask you to add more features, so you might as well do it and learn from it)"
   ]
  },
  {
   "cell_type": "markdown",
   "id": "958e1712-534b-4667-905f-f38c33b85821",
   "metadata": {},
   "source": [
    "## Important Things to Know About Programming\n",
    "* \"Efficiency doesn't matter until it matters, and it rarely matters.\" –DWS\n",
    "  * (reframing of \"We should forget about small efficiencies, say about 97% of the time: premature optimization is the root of all evil. Yet we should not pass up our opportunities in that critical 3%\" –Donald Knuth)"
   ]
  },
  {
   "cell_type": "code",
   "execution_count": null,
   "id": "a04788a4-651e-46a9-bb1d-b2768edb5ebc",
   "metadata": {
    "editable": true,
    "slideshow": {
     "slide_type": ""
    },
    "tags": []
   },
   "outputs": [],
   "source": [
    "# docstrings\n",
    "import math"
   ]
  },
  {
   "cell_type": "code",
   "execution_count": null,
   "id": "b873fe4e-43ea-4e0b-ad0c-83c8740f85aa",
   "metadata": {},
   "outputs": [],
   "source": [
    "help(math.sin)"
   ]
  },
  {
   "cell_type": "code",
   "execution_count": null,
   "id": "1bfcb630-46a0-4da4-a103-d0b976f9b5de",
   "metadata": {},
   "outputs": [],
   "source": [
    "help(math.sqrt)"
   ]
  },
  {
   "cell_type": "code",
   "execution_count": null,
   "id": "13f1616a-3cc8-49d3-800c-4e140e505034",
   "metadata": {},
   "outputs": [],
   "source": [
    "sum('123')"
   ]
  },
  {
   "cell_type": "code",
   "execution_count": null,
   "id": "b7d8948f-80d4-4fc3-8844-add00339faad",
   "metadata": {},
   "outputs": [],
   "source": [
    "sum([['1', '2'], ['3', '4']], [])\n",
    "# → [1, 2, 3, 4]"
   ]
  },
  {
   "cell_type": "code",
   "execution_count": null,
   "id": "c18518e3-0abc-47e8-a285-e195de40e00b",
   "metadata": {},
   "outputs": [],
   "source": [
    "import math"
   ]
  },
  {
   "cell_type": "code",
   "execution_count": null,
   "id": "d59cb39a-a6ef-410e-9f1f-8a804e6c419e",
   "metadata": {
    "scrolled": true
   },
   "outputs": [],
   "source": [
    "dir(math)"
   ]
  },
  {
   "cell_type": "code",
   "execution_count": null,
   "id": "17021085-7b9c-4897-98d9-5ba37a5d0f9a",
   "metadata": {},
   "outputs": [],
   "source": [
    "math.__doc__"
   ]
  },
  {
   "cell_type": "code",
   "execution_count": null,
   "id": "e5d4fcc3-3414-44ca-9b76-1c5de1717a98",
   "metadata": {},
   "outputs": [],
   "source": [
    "help(math)"
   ]
  },
  {
   "cell_type": "markdown",
   "id": "5402f0d2-0a6a-4a93-9673-f6c831673b4e",
   "metadata": {},
   "source": [
    "# truthy/falsy rules\n",
    "* 0/0.0/None are considered False \n",
    "  * non-zero numbers are considered True\n",
    "* empty containers considered False\n",
    "  * non-empty containers considered True"
   ]
  },
  {
   "cell_type": "code",
   "execution_count": null,
   "id": "39e50864-2b4b-4d2c-b405-0b59c5fb4aaf",
   "metadata": {},
   "outputs": [],
   "source": [
    "numbers = list(range(10))"
   ]
  },
  {
   "cell_type": "code",
   "execution_count": null,
   "id": "97f9665b-721e-40b3-a9b9-f7b44ed816bd",
   "metadata": {},
   "outputs": [],
   "source": [
    "numbers"
   ]
  },
  {
   "cell_type": "code",
   "execution_count": null,
   "id": "e3b46d73-35d8-4d9d-9338-8d8fa646d0f2",
   "metadata": {},
   "outputs": [],
   "source": [
    "ones = [1] * 100"
   ]
  },
  {
   "cell_type": "code",
   "execution_count": null,
   "id": "f9f04a8b-e1e5-4956-aead-3b77143ba40f",
   "metadata": {},
   "outputs": [],
   "source": [
    "print(ones)"
   ]
  },
  {
   "cell_type": "code",
   "execution_count": null,
   "id": "a41bec87-0ea6-4710-af51-f3084b8ab3fe",
   "metadata": {},
   "outputs": [],
   "source": [
    "2 * 2 # multiplication"
   ]
  },
  {
   "cell_type": "code",
   "execution_count": null,
   "id": "f1abf475-e7da-406b-a5eb-f4ee527963ba",
   "metadata": {},
   "outputs": [],
   "source": [
    "'2' * 2 # replication"
   ]
  },
  {
   "cell_type": "code",
   "execution_count": null,
   "id": "18284950-be7d-4a1b-8305-93b77b932241",
   "metadata": {},
   "outputs": [],
   "source": [
    "[2] * 2"
   ]
  },
  {
   "cell_type": "code",
   "execution_count": null,
   "id": "d553745a-2d6f-4f0d-bc81-fcbdd703bfb2",
   "metadata": {},
   "outputs": [],
   "source": [
    "if numbers: # if the numbers list is non-empty\n",
    "    print('we got some numbers')"
   ]
  },
  {
   "cell_type": "markdown",
   "id": "6e9c370d-4a90-4153-a718-d6bbc70f5903",
   "metadata": {},
   "source": [
    "* Given a string, return __`True`__  if the string is a pangram, or __`False`__ if it is not\n",
    "  * a pangram is a phrase which contains every letter of the alphabet\n",
    "    * e.g., _Pack my box with five dozen liquor jugs_"
   ]
  },
  {
   "cell_type": "code",
   "execution_count": null,
   "id": "1b4dd734-2c3d-413b-8458-249eb6ae499f",
   "metadata": {},
   "outputs": [],
   "source": [
    "def is_pangram(phrase):\n",
    "    \"\"\"Return True if phrase is a pangram, False otherwise.\"\"\"\n",
    "    # note: we need to ignore case...'The' should be considered 'the'\n",
    "    # also note: we should ignore non-letters\n",
    "    # algorithm:\n",
    "    #     for each letter:\n",
    "    #        add (or subtract) it to a set/list/dict/... to indicate\n",
    "    #            we have seen it\n",
    "    #     if container has 26 entries (assuming unique letters) \n",
    "    #       ... or if container has 0 entries (assuming we were removing)\n",
    "    #       then it's a pangram\n",
    "\n",
    "    letters_seen = set() # start w/an empty set\n",
    "    for char in phrase.lower(): # make it lower to avoid T/t, H/h, E/e, etc.\n",
    "        if char.isalpha(): # is it a letter?\n",
    "            letters_seen.add(char)\n",
    "\n",
    "    return len(letters_seen) == 26 # did we see all 26?"
   ]
  },
  {
   "cell_type": "code",
   "execution_count": null,
   "id": "09b074db-8e8f-4896-9ff8-f1282b44e910",
   "metadata": {},
   "outputs": [],
   "source": [
    "is_pangram('The wizard quickly jinxed the gnomes before they vaporized.')"
   ]
  },
  {
   "cell_type": "code",
   "execution_count": null,
   "id": "086268bd-d49f-4912-8a66-cdc64f83da30",
   "metadata": {},
   "outputs": [],
   "source": [
    "# same as above, except subtracting rather than adding\n",
    "def is_pangram2(phrase):\n",
    "    \"\"\"Return True if phrase is a pangram, False otherwise.\"\"\"\n",
    "    # start w/all 26 letters\n",
    "    letters_remaining = set('abcdefghijklmnopqrstuvwxyz') # we can do this better\n",
    "\n",
    "    for char in phrase.lower(): # for every character, even non-letters\n",
    "        letters_remaining.discard(char) # works even if non-letter\n",
    "\n",
    "    return not letters_remaining"
   ]
  },
  {
   "cell_type": "code",
   "execution_count": null,
   "id": "60bfc98f-02f7-411b-befb-5b0ba187bb97",
   "metadata": {},
   "outputs": [],
   "source": [
    "import string"
   ]
  },
  {
   "cell_type": "code",
   "execution_count": null,
   "id": "77238ace-acc6-4f47-a495-e3a3a935178b",
   "metadata": {},
   "outputs": [],
   "source": [
    "dir(string)"
   ]
  },
  {
   "cell_type": "code",
   "execution_count": null,
   "id": "f95cc194-6492-41c1-8662-92e78ae63ef0",
   "metadata": {},
   "outputs": [],
   "source": [
    "# same as above, except subtracting rather than adding\n",
    "def is_pangram2(phrase):\n",
    "    \"\"\"Return True if phrase is a pangram, False otherwise.\"\"\"\n",
    "\n",
    "    from string import ascii_lowercase\n",
    "    \n",
    "    # start w/all 26 letters\n",
    "    letters_remaining = set(ascii_lowercase) # we can do this better\n",
    "\n",
    "    for char in phrase.lower(): # for every character, even non-letters\n",
    "        letters_remaining.discard(char) # works even if non-letter\n",
    "\n",
    "    return not letters_remaining"
   ]
  },
  {
   "cell_type": "code",
   "execution_count": null,
   "id": "d124e318-33fd-4ff3-9477-933c53eb644b",
   "metadata": {},
   "outputs": [],
   "source": [
    "is_pangram2('the quick BROWN fox jumps over the lazy dog')"
   ]
  },
  {
   "cell_type": "markdown",
   "id": "75210bf8-e8a4-4de6-b532-9754d69ed1a4",
   "metadata": {},
   "source": [
    "* given a 4-digit number where not all digits are the same, demonstrate __Kaprekar's Constant__ (6174)</pre>\n",
    "  * sort the digits of the number into descending and ascending order...\n",
    "  * then calculate the difference between the two new numbers\n",
    "  * keep doing the above until you get to 6174 (you always will)\n",
    "  * e.g., starting with the number 8991:\n",
    "    <br/>\n",
    "    <pre>\n",
    "      9981 – 1899 = 8082\n",
    "      8820 – 0288 = 8532\n",
    "      8532 – 2358 = 6174\n",
    "      7641 – 1467 = 6174\n",
    "    </pre>"
   ]
  },
  {
   "cell_type": "code",
   "execution_count": 1,
   "id": "d4fc3b27-3d4e-4c20-b0c7-5df17ae9f9a4",
   "metadata": {},
   "outputs": [],
   "source": [
    "def kaprekar_routine(number):\n",
    "    \"\"\"Demonstrate Kaprekar genius.\"\"\"\n",
    "    # first let's check that the number is 4 digits not all of which are the same\n",
    "    if len(str(number)) != 4 or len(set(str(number))) == 1:\n",
    "        print('I only accept 4-digit numbers where all digits are not the same.')\n",
    "        return\n",
    "\n",
    "    KAPREKAR_CONSTANT = '6174'\n",
    "    \n",
    "    # with that out of the way, let's follow Kaprekar's routine\n",
    "    while number != KAPREKAR_CONSTANT:\n",
    "        ascending_digits = sorted(str(number))\n",
    "        descending_digits = sorted(str(number), reverse=True)\n",
    "        print(' ascending:', ascending_digits)\n",
    "        print('descending:', descending_digits)\n",
    "        # turn the digits into integers \n",
    "        ascending = int(''.join(ascending_digits))\n",
    "        descending = int(''.join(descending_digits))\n",
    "        print(descending, '-', str(ascending).zfill(4), '=', \n",
    "              str(descending - ascending).zfill(4))\n",
    "        number = descending - ascending\n",
    "        number = str(number).zfill(4)"
   ]
  },
  {
   "cell_type": "code",
   "execution_count": 2,
   "id": "e4d6437b-9901-4e5c-89ef-56a598cd21f9",
   "metadata": {},
   "outputs": [
    {
     "name": "stdout",
     "output_type": "stream",
     "text": [
      " ascending: ['5', '6', '6', '6']\n",
      "descending: ['6', '6', '6', '5']\n",
      "6665 - 5666 = 0999\n",
      " ascending: ['0', '9', '9', '9']\n",
      "descending: ['9', '9', '9', '0']\n",
      "9990 - 0999 = 8991\n",
      " ascending: ['1', '8', '9', '9']\n",
      "descending: ['9', '9', '8', '1']\n",
      "9981 - 1899 = 8082\n",
      " ascending: ['0', '2', '8', '8']\n",
      "descending: ['8', '8', '2', '0']\n",
      "8820 - 0288 = 8532\n",
      " ascending: ['2', '3', '5', '8']\n",
      "descending: ['8', '5', '3', '2']\n",
      "8532 - 2358 = 6174\n"
     ]
    }
   ],
   "source": [
    "kaprekar_routine('6665')"
   ]
  },
  {
   "cell_type": "code",
   "execution_count": 3,
   "id": "419bd1d7-c3d9-4803-b7d1-2942af322781",
   "metadata": {
    "editable": true,
    "slideshow": {
     "slide_type": ""
    },
    "tags": []
   },
   "outputs": [
    {
     "name": "stdout",
     "output_type": "stream",
     "text": [
      " ascending: ['1', '8', '9', '9']\n",
      "descending: ['9', '9', '8', '1']\n",
      "9981 - 1899 = 8082\n",
      " ascending: ['0', '2', '8', '8']\n",
      "descending: ['8', '8', '2', '0']\n",
      "8820 - 0288 = 8532\n",
      " ascending: ['2', '3', '5', '8']\n",
      "descending: ['8', '5', '3', '2']\n",
      "8532 - 2358 = 6174\n"
     ]
    }
   ],
   "source": [
    "kaprekar_routine('9981')"
   ]
  },
  {
   "cell_type": "code",
   "execution_count": 4,
   "id": "f8cfb51c-87c8-4b43-8575-a6c5d617d917",
   "metadata": {},
   "outputs": [
    {
     "name": "stdout",
     "output_type": "stream",
     "text": [
      " ascending: ['1', '1', '1', '2']\n",
      "descending: ['2', '1', '1', '1']\n",
      "2111 - 1112 = 0999\n",
      " ascending: ['0', '9', '9', '9']\n",
      "descending: ['9', '9', '9', '0']\n",
      "9990 - 0999 = 8991\n",
      " ascending: ['1', '8', '9', '9']\n",
      "descending: ['9', '9', '8', '1']\n",
      "9981 - 1899 = 8082\n",
      " ascending: ['0', '2', '8', '8']\n",
      "descending: ['8', '8', '2', '0']\n",
      "8820 - 0288 = 8532\n",
      " ascending: ['2', '3', '5', '8']\n",
      "descending: ['8', '5', '3', '2']\n",
      "8532 - 2358 = 6174\n"
     ]
    }
   ],
   "source": [
    "kaprekar_routine('1121')"
   ]
  },
  {
   "cell_type": "code",
   "execution_count": null,
   "id": "79a0a09a-1370-43c9-a65d-b296531b6d9a",
   "metadata": {},
   "outputs": [],
   "source": [
    "# Matthew's solution\n",
    "def is_pangram(phrase):\n",
    "    \"\"\"Test to see if a string is a pangram.\"\"\"\n",
    " \n",
    "    alphabet = list('abcdefghijklmnopqrstuvwxyz')\n",
    "    phrase_list = list(phrase.lower())\n",
    "     \n",
    "    for char in alphabet:\n",
    "        if char not in phrase_list:\n",
    "            return False\n",
    "    \n",
    "    return True\n",
    "    \n",
    "print(is_pangram('Pack my box with five dozen liquor jugs'))"
   ]
  },
  {
   "cell_type": "code",
   "execution_count": null,
   "id": "ab7e910a-f12c-4214-b82e-e264336a1b72",
   "metadata": {},
   "outputs": [],
   "source": [
    "print(1, 2, 3, end=' ')\n",
    "print(4, 5, 6)"
   ]
  }
 ],
 "metadata": {
  "kernelspec": {
   "display_name": "Python 3 (ipykernel)",
   "language": "python",
   "name": "python3"
  },
  "language_info": {
   "codemirror_mode": {
    "name": "ipython",
    "version": 3
   },
   "file_extension": ".py",
   "mimetype": "text/x-python",
   "name": "python",
   "nbconvert_exporter": "python",
   "pygments_lexer": "ipython3",
   "version": "3.14.0"
  }
 },
 "nbformat": 4,
 "nbformat_minor": 5
}
