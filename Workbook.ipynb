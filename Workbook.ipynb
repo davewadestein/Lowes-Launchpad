{
 "cells": [
  {
   "cell_type": "markdown",
   "id": "7e91bcd1-cfca-4fb0-aeba-9c77f59fbc6f",
   "metadata": {},
   "source": [
    "# Important Things To Know About Python\n",
    "* scalars vs. containers\n",
    "   * scalars = single values (int, float, bool)\n",
    "   * containers = objects which hold 0+ other objects (str, list, dict, tuple, set)\n",
    "* mutable vs. immutable objects\n",
    "  * mutable = list, dict, set\n",
    "  * immutable = str, tuple, frozenset\n",
    "* \"truthiness\"\n",
    "  * 0 and 0.0 are considered False\n",
    "  * non-zero values (including negatives) are considered True\n",
    "  * empty container considered False\n",
    "  * non-empty container considered True\n",
    "* Python's built-in functions do not change the objects that are passed into them\n",
    "  * if you want to change an object you have to call/apply/invoke a method on/to that object\n",
    "* \"duck typing\"\n",
    "  * if it walks like a duck, and it quacks like a duck, I'm going to call it a duck\n",
    "  * meaning that a \"duck typed\" function is one that doesn't expect/require a certain datatype is passed to it, but rather expects/requires certain _behavior_ (or attributes) from its arguments (e.g., must be iterable) "
   ]
  },
  {
   "cell_type": "markdown",
   "id": "b87500d0-76e8-432d-aa1b-61f349c7caba",
   "metadata": {
    "editable": true,
    "slideshow": {
     "slide_type": ""
    },
    "tags": []
   },
   "source": [
    "# Pythonic\n",
    "* __`container[-n]`__ means nth from the end\n",
    "* __`container[:n]`__ means first n items\n",
    "* __`container[-n:]`__ neans last n items\n",
    "* __`container[::-1]`__ means generate a reversed version\n",
    "* __`for _ in range(n)`__ means \"do this n times\"\n",
    "* prefer __`'fig apple pear lemon guava cherry'.split()`__ to manually creating a list\n",
    "* if an object is difficult to work with, consider changing its type (e.g., Kaprekar)\n",
    "* truthy/falsy"
   ]
  },
  {
   "cell_type": "markdown",
   "id": "39e3f6ba-d8b6-4e74-9cc6-204835d50f6b",
   "metadata": {},
   "source": [
    "## DWS's Two Patented Ways to Get Better at Coding\n",
    "1. when your code works, try to solve it another way (Note that you can't know what the \"best\" way is until you try a few ways first)\n",
    "2. when your code works, add more features to it (other people are going to ask you to add more features, so you might as well do it and learn from it)"
   ]
  },
  {
   "cell_type": "markdown",
   "id": "958e1712-534b-4667-905f-f38c33b85821",
   "metadata": {},
   "source": [
    "## Important Things to Know About Programming\n",
    "* \"Efficiency doesn't matter until it matters, and it rarely matters.\" –DWS\n",
    "  * (reframing of \"We should forget about small efficiencies, say about 97% of the time: premature optimization is the root of all evil. Yet we should not pass up our opportunities in that critical 3%\" –Donald Knuth)"
   ]
  },
  {
   "cell_type": "code",
   "execution_count": null,
   "id": "a04788a4-651e-46a9-bb1d-b2768edb5ebc",
   "metadata": {
    "editable": true,
    "slideshow": {
     "slide_type": ""
    },
    "tags": []
   },
   "outputs": [],
   "source": [
    "# docstrings\n",
    "import math"
   ]
  },
  {
   "cell_type": "code",
   "execution_count": null,
   "id": "b873fe4e-43ea-4e0b-ad0c-83c8740f85aa",
   "metadata": {},
   "outputs": [],
   "source": [
    "help(math.sin)"
   ]
  },
  {
   "cell_type": "code",
   "execution_count": null,
   "id": "1bfcb630-46a0-4da4-a103-d0b976f9b5de",
   "metadata": {},
   "outputs": [],
   "source": [
    "help(math.sqrt)"
   ]
  },
  {
   "cell_type": "code",
   "execution_count": null,
   "id": "13f1616a-3cc8-49d3-800c-4e140e505034",
   "metadata": {},
   "outputs": [],
   "source": [
    "sum('123')"
   ]
  },
  {
   "cell_type": "code",
   "execution_count": 4,
   "id": "b7d8948f-80d4-4fc3-8844-add00339faad",
   "metadata": {},
   "outputs": [
    {
     "data": {
      "text/plain": [
       "('1', '2', '3', '4')"
      ]
     },
     "execution_count": 4,
     "metadata": {},
     "output_type": "execute_result"
    }
   ],
   "source": [
    "sum([('1', '2'), ('3', '4')], ())"
   ]
  },
  {
   "cell_type": "code",
   "execution_count": 2,
   "id": "c023455a-e6fd-4348-8be9-76624c976a93",
   "metadata": {},
   "outputs": [
    {
     "name": "stdout",
     "output_type": "stream",
     "text": [
      "Help on built-in function sum in module builtins:\n",
      "\n",
      "sum(iterable, /, start=0)\n",
      "    Return the sum of a 'start' value (default: 0) plus an iterable of numbers\n",
      "\n",
      "    When the iterable is empty, return the start value.\n",
      "    This function is intended specifically for use with numeric values and may\n",
      "    reject non-numeric types.\n",
      "\n"
     ]
    }
   ],
   "source": [
    "help(sum)"
   ]
  },
  {
   "cell_type": "code",
   "execution_count": 2,
   "id": "01ec7623-adb1-409c-99df-1e9361791d5b",
   "metadata": {},
   "outputs": [],
   "source": [
    "def mysum(iterable, start=0):\n",
    "    total = start\n",
    "    for thing in iterable:\n",
    "        total += thing\n",
    "\n",
    "    return total"
   ]
  },
  {
   "cell_type": "code",
   "execution_count": 3,
   "id": "ff803da2-5d46-4dfa-8447-ed51abee0433",
   "metadata": {},
   "outputs": [
    {
     "data": {
      "text/plain": [
       "'12345'"
      ]
     },
     "execution_count": 3,
     "metadata": {},
     "output_type": "execute_result"
    }
   ],
   "source": [
    "mysum(['1', '2', '3', '4', '5'], start='')"
   ]
  },
  {
   "cell_type": "code",
   "execution_count": null,
   "id": "c18518e3-0abc-47e8-a285-e195de40e00b",
   "metadata": {},
   "outputs": [],
   "source": [
    "import math"
   ]
  },
  {
   "cell_type": "code",
   "execution_count": null,
   "id": "d59cb39a-a6ef-410e-9f1f-8a804e6c419e",
   "metadata": {
    "scrolled": true
   },
   "outputs": [],
   "source": [
    "dir(math)"
   ]
  },
  {
   "cell_type": "code",
   "execution_count": null,
   "id": "17021085-7b9c-4897-98d9-5ba37a5d0f9a",
   "metadata": {},
   "outputs": [],
   "source": [
    "math.__doc__"
   ]
  },
  {
   "cell_type": "code",
   "execution_count": null,
   "id": "e5d4fcc3-3414-44ca-9b76-1c5de1717a98",
   "metadata": {},
   "outputs": [],
   "source": [
    "help(math)"
   ]
  },
  {
   "cell_type": "markdown",
   "id": "5402f0d2-0a6a-4a93-9673-f6c831673b4e",
   "metadata": {},
   "source": [
    "# truthy/falsy rules\n",
    "* 0/0.0/None are considered False \n",
    "  * non-zero numbers are considered True\n",
    "* empty containers considered False\n",
    "  * non-empty containers considered True"
   ]
  },
  {
   "cell_type": "code",
   "execution_count": null,
   "id": "39e50864-2b4b-4d2c-b405-0b59c5fb4aaf",
   "metadata": {},
   "outputs": [],
   "source": [
    "numbers = list(range(10))"
   ]
  },
  {
   "cell_type": "code",
   "execution_count": null,
   "id": "97f9665b-721e-40b3-a9b9-f7b44ed816bd",
   "metadata": {},
   "outputs": [],
   "source": [
    "numbers"
   ]
  },
  {
   "cell_type": "code",
   "execution_count": null,
   "id": "e3b46d73-35d8-4d9d-9338-8d8fa646d0f2",
   "metadata": {},
   "outputs": [],
   "source": [
    "ones = [1] * 100"
   ]
  },
  {
   "cell_type": "code",
   "execution_count": null,
   "id": "f9f04a8b-e1e5-4956-aead-3b77143ba40f",
   "metadata": {},
   "outputs": [],
   "source": [
    "print(ones)"
   ]
  },
  {
   "cell_type": "code",
   "execution_count": null,
   "id": "a41bec87-0ea6-4710-af51-f3084b8ab3fe",
   "metadata": {},
   "outputs": [],
   "source": [
    "2 * 2 # multiplication"
   ]
  },
  {
   "cell_type": "code",
   "execution_count": null,
   "id": "f1abf475-e7da-406b-a5eb-f4ee527963ba",
   "metadata": {},
   "outputs": [],
   "source": [
    "'2' * 2 # replication"
   ]
  },
  {
   "cell_type": "code",
   "execution_count": null,
   "id": "18284950-be7d-4a1b-8305-93b77b932241",
   "metadata": {},
   "outputs": [],
   "source": [
    "[2] * 2"
   ]
  },
  {
   "cell_type": "code",
   "execution_count": null,
   "id": "d553745a-2d6f-4f0d-bc81-fcbdd703bfb2",
   "metadata": {},
   "outputs": [],
   "source": [
    "if numbers: # if the numbers list is non-empty\n",
    "    print('we got some numbers')"
   ]
  },
  {
   "cell_type": "markdown",
   "id": "6e9c370d-4a90-4153-a718-d6bbc70f5903",
   "metadata": {},
   "source": [
    "* Given a string, return __`True`__  if the string is a pangram, or __`False`__ if it is not\n",
    "  * a pangram is a phrase which contains every letter of the alphabet\n",
    "    * e.g., _Pack my box with five dozen liquor jugs_"
   ]
  },
  {
   "cell_type": "code",
   "execution_count": null,
   "id": "1b4dd734-2c3d-413b-8458-249eb6ae499f",
   "metadata": {},
   "outputs": [],
   "source": [
    "def is_pangram(phrase):\n",
    "    \"\"\"Return True if phrase is a pangram, False otherwise.\"\"\"\n",
    "    # note: we need to ignore case...'The' should be considered 'the'\n",
    "    # also note: we should ignore non-letters\n",
    "    # algorithm:\n",
    "    #     for each letter:\n",
    "    #        add (or subtract) it to a set/list/dict/... to indicate\n",
    "    #            we have seen it\n",
    "    #     if container has 26 entries (assuming unique letters) \n",
    "    #       ... or if container has 0 entries (assuming we were removing)\n",
    "    #       then it's a pangram\n",
    "\n",
    "    letters_seen = set() # start w/an empty set\n",
    "    for char in phrase.lower(): # make it lower to avoid T/t, H/h, E/e, etc.\n",
    "        if char.isalpha(): # is it a letter?\n",
    "            letters_seen.add(char)\n",
    "\n",
    "    return len(letters_seen) == 26 # did we see all 26?"
   ]
  },
  {
   "cell_type": "code",
   "execution_count": null,
   "id": "09b074db-8e8f-4896-9ff8-f1282b44e910",
   "metadata": {},
   "outputs": [],
   "source": [
    "is_pangram('The wizard quickly jinxed the gnomes before they vaporized.')"
   ]
  },
  {
   "cell_type": "code",
   "execution_count": null,
   "id": "086268bd-d49f-4912-8a66-cdc64f83da30",
   "metadata": {},
   "outputs": [],
   "source": [
    "# same as above, except subtracting rather than adding\n",
    "def is_pangram2(phrase):\n",
    "    \"\"\"Return True if phrase is a pangram, False otherwise.\"\"\"\n",
    "    # start w/all 26 letters\n",
    "    letters_remaining = set('abcdefghijklmnopqrstuvwxyz') # we can do this better\n",
    "\n",
    "    for char in phrase.lower(): # for every character, even non-letters\n",
    "        letters_remaining.discard(char) # works even if non-letter\n",
    "\n",
    "    return not letters_remaining"
   ]
  },
  {
   "cell_type": "code",
   "execution_count": null,
   "id": "60bfc98f-02f7-411b-befb-5b0ba187bb97",
   "metadata": {},
   "outputs": [],
   "source": [
    "import string"
   ]
  },
  {
   "cell_type": "code",
   "execution_count": null,
   "id": "77238ace-acc6-4f47-a495-e3a3a935178b",
   "metadata": {},
   "outputs": [],
   "source": [
    "dir(string)"
   ]
  },
  {
   "cell_type": "code",
   "execution_count": null,
   "id": "f95cc194-6492-41c1-8662-92e78ae63ef0",
   "metadata": {},
   "outputs": [],
   "source": [
    "# same as above, except subtracting rather than adding\n",
    "def is_pangram2(phrase):\n",
    "    \"\"\"Return True if phrase is a pangram, False otherwise.\"\"\"\n",
    "\n",
    "    from string import ascii_lowercase\n",
    "    \n",
    "    # start w/all 26 letters\n",
    "    letters_remaining = set(ascii_lowercase) # we can do this better\n",
    "\n",
    "    for char in phrase.lower(): # for every character, even non-letters\n",
    "        letters_remaining.discard(char) # works even if non-letter\n",
    "\n",
    "    return not letters_remaining"
   ]
  },
  {
   "cell_type": "code",
   "execution_count": null,
   "id": "d124e318-33fd-4ff3-9477-933c53eb644b",
   "metadata": {},
   "outputs": [],
   "source": [
    "is_pangram2('the quick BROWN fox jumps over the lazy dog')"
   ]
  },
  {
   "cell_type": "markdown",
   "id": "75210bf8-e8a4-4de6-b532-9754d69ed1a4",
   "metadata": {},
   "source": [
    "* given a 4-digit number where not all digits are the same, demonstrate __Kaprekar's Constant__ (6174)</pre>\n",
    "  * sort the digits of the number into descending and ascending order...\n",
    "  * then calculate the difference between the two new numbers\n",
    "  * keep doing the above until you get to 6174 (you always will)\n",
    "  * e.g., starting with the number 8991:\n",
    "    <br/>\n",
    "    <pre>\n",
    "      9981 – 1899 = 8082\n",
    "      8820 – 0288 = 8532\n",
    "      8532 – 2358 = 6174\n",
    "      7641 – 1467 = 6174\n",
    "    </pre>"
   ]
  },
  {
   "cell_type": "code",
   "execution_count": 36,
   "id": "d4fc3b27-3d4e-4c20-b0c7-5df17ae9f9a4",
   "metadata": {},
   "outputs": [],
   "source": [
    "def kaprekar_routine(number):\n",
    "    \"\"\"Demonstrate Kaprekar genius.\"\"\"\n",
    "    # first let's check that the number is 4 digits not all of which are the same\n",
    "    if len(str(number)) != 4 or len(set(str(number))) == 1:\n",
    "        raise ValueError('Numbers must be 4 digits all of which are not the same.')\n",
    "\n",
    "    KAPREKAR_CONSTANT = '6174'\n",
    "    \n",
    "    # with that out of the way, let's follow Kaprekar's routine\n",
    "    while number != KAPREKAR_CONSTANT:\n",
    "        ascending_digits = sorted(str(number))\n",
    "        descending_digits = sorted(str(number), reverse=True)\n",
    "        print(' ascending:', ascending_digits)\n",
    "        print('descending:', descending_digits)\n",
    "        # turn the digits into integers \n",
    "        ascending = int(''.join(ascending_digits))\n",
    "        descending = int(''.join(descending_digits))\n",
    "        print(descending, '-', str(ascending).zfill(4), '=', \n",
    "              str(descending - ascending).zfill(4))\n",
    "        number = descending - ascending\n",
    "        number = str(number).zfill(4)"
   ]
  },
  {
   "cell_type": "code",
   "execution_count": 2,
   "id": "e4d6437b-9901-4e5c-89ef-56a598cd21f9",
   "metadata": {},
   "outputs": [
    {
     "name": "stdout",
     "output_type": "stream",
     "text": [
      " ascending: ['5', '6', '6', '6']\n",
      "descending: ['6', '6', '6', '5']\n",
      "6665 - 5666 = 0999\n",
      " ascending: ['0', '9', '9', '9']\n",
      "descending: ['9', '9', '9', '0']\n",
      "9990 - 0999 = 8991\n",
      " ascending: ['1', '8', '9', '9']\n",
      "descending: ['9', '9', '8', '1']\n",
      "9981 - 1899 = 8082\n",
      " ascending: ['0', '2', '8', '8']\n",
      "descending: ['8', '8', '2', '0']\n",
      "8820 - 0288 = 8532\n",
      " ascending: ['2', '3', '5', '8']\n",
      "descending: ['8', '5', '3', '2']\n",
      "8532 - 2358 = 6174\n"
     ]
    }
   ],
   "source": [
    "kaprekar_routine('6665')"
   ]
  },
  {
   "cell_type": "code",
   "execution_count": 3,
   "id": "419bd1d7-c3d9-4803-b7d1-2942af322781",
   "metadata": {
    "editable": true,
    "slideshow": {
     "slide_type": ""
    },
    "tags": []
   },
   "outputs": [
    {
     "name": "stdout",
     "output_type": "stream",
     "text": [
      " ascending: ['1', '8', '9', '9']\n",
      "descending: ['9', '9', '8', '1']\n",
      "9981 - 1899 = 8082\n",
      " ascending: ['0', '2', '8', '8']\n",
      "descending: ['8', '8', '2', '0']\n",
      "8820 - 0288 = 8532\n",
      " ascending: ['2', '3', '5', '8']\n",
      "descending: ['8', '5', '3', '2']\n",
      "8532 - 2358 = 6174\n"
     ]
    }
   ],
   "source": [
    "kaprekar_routine('9981')"
   ]
  },
  {
   "cell_type": "code",
   "execution_count": 4,
   "id": "f8cfb51c-87c8-4b43-8575-a6c5d617d917",
   "metadata": {},
   "outputs": [
    {
     "name": "stdout",
     "output_type": "stream",
     "text": [
      " ascending: ['1', '1', '1', '2']\n",
      "descending: ['2', '1', '1', '1']\n",
      "2111 - 1112 = 0999\n",
      " ascending: ['0', '9', '9', '9']\n",
      "descending: ['9', '9', '9', '0']\n",
      "9990 - 0999 = 8991\n",
      " ascending: ['1', '8', '9', '9']\n",
      "descending: ['9', '9', '8', '1']\n",
      "9981 - 1899 = 8082\n",
      " ascending: ['0', '2', '8', '8']\n",
      "descending: ['8', '8', '2', '0']\n",
      "8820 - 0288 = 8532\n",
      " ascending: ['2', '3', '5', '8']\n",
      "descending: ['8', '5', '3', '2']\n",
      "8532 - 2358 = 6174\n"
     ]
    }
   ],
   "source": [
    "kaprekar_routine('1121')"
   ]
  },
  {
   "cell_type": "code",
   "execution_count": 38,
   "id": "0eae7e4c-795f-4910-b218-1482a6720f77",
   "metadata": {},
   "outputs": [
    {
     "name": "stdout",
     "output_type": "stream",
     "text": [
      "we caught it\n"
     ]
    }
   ],
   "source": [
    "try:\n",
    "    kaprekar_routine(123)\n",
    "except ValueError:\n",
    "    print('we caught it')"
   ]
  },
  {
   "cell_type": "code",
   "execution_count": null,
   "id": "79a0a09a-1370-43c9-a65d-b296531b6d9a",
   "metadata": {},
   "outputs": [],
   "source": [
    "# Matthew's solution\n",
    "def is_pangram(phrase):\n",
    "    \"\"\"Test to see if a string is a pangram.\"\"\"\n",
    " \n",
    "    alphabet = list('abcdefghijklmnopqrstuvwxyz')\n",
    "    phrase_list = list(phrase.lower())\n",
    "     \n",
    "    for char in alphabet:\n",
    "        if char not in phrase_list:\n",
    "            return False\n",
    "    \n",
    "    return True\n",
    "    \n",
    "print(is_pangram('Pack my box with five dozen liquor jugs'))"
   ]
  },
  {
   "cell_type": "code",
   "execution_count": null,
   "id": "ab7e910a-f12c-4214-b82e-e264336a1b72",
   "metadata": {},
   "outputs": [],
   "source": [
    "print(1, 2, 3, end=' ')\n",
    "print(4, 5, 6)"
   ]
  },
  {
   "cell_type": "markdown",
   "id": "2b519898-ac62-4a12-949c-a823469d558f",
   "metadata": {},
   "source": [
    "## Lab: List Comprehensions\n",
    "* Use a list comprehension to create a list of the squares of the integers from 1 to 25 (i.e, 1, 4, 9, 16, …, 625)\n",
    "* Given a list of words, create a second list which contains all the words from the first list which do not end with a vowel\n",
    "* Use a list comprehension to create a list of the integers from 1 to 100 which are not divisible by 5\n",
    "* Start with Cartesian product example (colors x sizes of t-shirts) and\n",
    "  * add a third list, __`sleeves = ['short', 'long']`__ then write a new listcomp which generates the Cartesian product __`colors x sizes x sleeves`__. __`tshirts`__ should look like this:<pre><b>\n",
    "    [['black', 'S', 'short'],\n",
    "     ['black', 'S', 'long'],\n",
    "     ['black', 'M', 'short'],\n",
    "     ['black', 'M', 'long'],\n",
    "     ['black', 'L', 'short'],\n",
    "     ['black', 'L', 'long'],\n",
    "     ['black', 'XL', 'short'],\n",
    "     ['black', 'XL', 'long'],\n",
    "     ['white', 'S', 'short'],\n",
    "     ['white', 'S', 'long'],\n",
    "     ['white', 'M', 'short'],\n",
    "     ['white', 'M', 'long'],\n",
    "     ['white', 'L', 'short'],\n",
    "     ['white', 'L', 'long'],\n",
    "     ['white', 'XL', 'short'],\n",
    "     ['white', 'XL', 'long']]\n",
    "     \n",
    " </b></pre>\n",
    " * Use a list comprehension and __`zip()`__ (this is the fourth kind of list comprehension) to create a list of lists, where the list items are name and ID number that you grabbed from separate lists of names and ID numbers\n",
    "   * start with a list of, say, 5 names ['John', 'Mary', 'Edward', 'Linda', 'Dinesh']\n",
    "   * and a list of, say, 5 ID numbers [1003, 2043, 8762, 7862, 1093]\n",
    "   * additional wrinkle: do not include any names whose corresponding ID is -1"
   ]
  },
  {
   "cell_type": "code",
   "execution_count": 7,
   "id": "37415b06-bcc9-492e-9fcf-8b2616302873",
   "metadata": {},
   "outputs": [
    {
     "name": "stdout",
     "output_type": "stream",
     "text": [
      "[-1, -4, -9, -16, -25, -36, -49, -64, -81, -100, -121, -144, -169, -196, -225, -256, -289, -324, -361, -400, -441, -484, -529, -576, -625]\n"
     ]
    }
   ],
   "source": [
    "squares = [num * num for num in range(1, 26)]\n",
    "print(squares)"
   ]
  },
  {
   "cell_type": "code",
   "execution_count": 2,
   "id": "4187025e-3625-4aa2-88dd-a812767956a0",
   "metadata": {},
   "outputs": [
    {
     "data": {
      "text/plain": [
       "['milk', 'bread', 'fig']"
      ]
     },
     "execution_count": 2,
     "metadata": {},
     "output_type": "execute_result"
    }
   ],
   "source": [
    "words = 'milk bread apple fig banana'.split()\n",
    "\n",
    "no_vowel_words = [word for word in words\n",
    "                         if word[-1] not in 'aeiou']\n",
    "no_vowel_words"
   ]
  },
  {
   "cell_type": "code",
   "execution_count": 8,
   "id": "d50d9ef6-cf84-4622-887e-e3e2299b3937",
   "metadata": {},
   "outputs": [
    {
     "name": "stdout",
     "output_type": "stream",
     "text": [
      "[1, 2, 3, 4, 6, 7, 8, 9, 11, 12, 13, 14, 16, 17, 18, 19, 21, 22, 23, 24, 26, 27, 28, 29, 31, 32, 33, 34, 36, 37, 38, 39, 41, 42, 43, 44, 46, 47, 48, 49, 51, 52, 53, 54, 56, 57, 58, 59, 61, 62, 63, 64, 66, 67, 68, 69, 71, 72, 73, 74, 76, 77, 78, 79, 81, 82, 83, 84, 86, 87, 88, 89, 91, 92, 93, 94, 96, 97, 98, 99]\n"
     ]
    }
   ],
   "source": [
    "no_divis_by_5 = [num for num in range(1, 101)\n",
    "                         if num % 5] # or...?\n",
    "print(no_divis_by_5)"
   ]
  },
  {
   "cell_type": "code",
   "execution_count": 10,
   "id": "8c61be36-3c02-478f-a085-51943a15fd37",
   "metadata": {},
   "outputs": [],
   "source": [
    "colors = ['black', 'white']\n",
    "sizes = ['S', 'M', 'L', 'XL']\n",
    "sleeves = ['short', 'long']"
   ]
  },
  {
   "cell_type": "code",
   "execution_count": 11,
   "id": "be7f99b3-ac62-48b5-aadc-9b4855b5ae49",
   "metadata": {},
   "outputs": [
    {
     "data": {
      "text/plain": [
       "[['black', 'S', ['short', 'long']],\n",
       " ['black', 'S', ['short', 'long']],\n",
       " ['white', 'S', ['short', 'long']],\n",
       " ['white', 'S', ['short', 'long']],\n",
       " ['black', 'M', ['short', 'long']],\n",
       " ['black', 'M', ['short', 'long']],\n",
       " ['white', 'M', ['short', 'long']],\n",
       " ['white', 'M', ['short', 'long']],\n",
       " ['black', 'L', ['short', 'long']],\n",
       " ['black', 'L', ['short', 'long']],\n",
       " ['white', 'L', ['short', 'long']],\n",
       " ['white', 'L', ['short', 'long']],\n",
       " ['black', 'XL', ['short', 'long']],\n",
       " ['black', 'XL', ['short', 'long']],\n",
       " ['white', 'XL', ['short', 'long']],\n",
       " ['white', 'XL', ['short', 'long']]]"
      ]
     },
     "execution_count": 11,
     "metadata": {},
     "output_type": "execute_result"
    }
   ],
   "source": [
    "tshirts = [[color, size, sleeve] for size in sizes\n",
    "                                     for color in colors\n",
    "                                         for sleeve in sleeves]\n",
    "tshirts"
   ]
  },
  {
   "cell_type": "code",
   "execution_count": 6,
   "id": "7484d203-35cd-407d-bfae-a5513d951c24",
   "metadata": {},
   "outputs": [],
   "source": [
    "names = ['John', 'Mary', 'Edward', 'Linda', 'Dinesh']\n",
    "ids = [1003, 2043, 8762, 7862, 1093]"
   ]
  },
  {
   "cell_type": "code",
   "execution_count": 8,
   "id": "adadc0a8-e84a-4f71-b6aa-3295806b00cb",
   "metadata": {},
   "outputs": [
    {
     "data": {
      "text/plain": [
       "[['John', 1003],\n",
       " ['Mary', 2043],\n",
       " ['Edward', 8762],\n",
       " ['Linda', 7862],\n",
       " ['Dinesh', 1093]]"
      ]
     },
     "execution_count": 8,
     "metadata": {},
     "output_type": "execute_result"
    }
   ],
   "source": [
    "employees = [[name, id] for name, id in zip(names, ids)]\n",
    "employees"
   ]
  },
  {
   "cell_type": "code",
   "execution_count": 10,
   "id": "78882871-00e1-4dae-970b-0ff0e4379a19",
   "metadata": {},
   "outputs": [],
   "source": [
    "ids = [1003, 2043, -1, 7862, -1] # Edward and Dinesh left..."
   ]
  },
  {
   "cell_type": "code",
   "execution_count": 11,
   "id": "d9b215b0-285c-4df2-b350-c7bbc7d171b2",
   "metadata": {},
   "outputs": [
    {
     "data": {
      "text/plain": [
       "[['John', 1003], ['Mary', 2043], ['Linda', 7862]]"
      ]
     },
     "execution_count": 11,
     "metadata": {},
     "output_type": "execute_result"
    }
   ],
   "source": [
    "employees = [[name, id] for name, id in zip(names, ids)\n",
    "                                if id > 0]\n",
    "employees"
   ]
  },
  {
   "cell_type": "code",
   "execution_count": 12,
   "id": "64166ae8-cc85-4ec9-8823-8290c336c7e1",
   "metadata": {},
   "outputs": [
    {
     "data": {
      "text/plain": [
       "2221455051831860735"
      ]
     },
     "execution_count": 12,
     "metadata": {},
     "output_type": "execute_result"
    }
   ],
   "source": [
    "hash('Dave')"
   ]
  },
  {
   "cell_type": "code",
   "execution_count": 13,
   "id": "d9243f11-2389-45c4-bf34-4944dedba015",
   "metadata": {},
   "outputs": [
    {
     "data": {
      "text/plain": [
       "7342184542273364087"
      ]
     },
     "execution_count": 13,
     "metadata": {},
     "output_type": "execute_result"
    }
   ],
   "source": [
    "hash('Snigdha')"
   ]
  },
  {
   "cell_type": "code",
   "execution_count": 14,
   "id": "5c91959a-6ec3-41ba-a0b7-6d713529a69c",
   "metadata": {},
   "outputs": [
    {
     "data": {
      "text/plain": [
       "839935162619194515"
      ]
     },
     "execution_count": 14,
     "metadata": {},
     "output_type": "execute_result"
    }
   ],
   "source": [
    "hash('Denny')"
   ]
  },
  {
   "cell_type": "code",
   "execution_count": 15,
   "id": "837ae260-a354-4db2-81ec-d408c6082190",
   "metadata": {},
   "outputs": [],
   "source": [
    "names = 'Dave Snigdha Denny Michael Matthew Bhuvi Chan'.split()"
   ]
  },
  {
   "cell_type": "code",
   "execution_count": 18,
   "id": "9f37c61b-ac86-4216-9d56-4a4da1ca9487",
   "metadata": {},
   "outputs": [],
   "source": [
    "import random\n",
    "some_students = { name: random.randint(1, 10) for name in names }"
   ]
  },
  {
   "cell_type": "code",
   "execution_count": 19,
   "id": "6d738e57-57d4-4a4c-81b7-f75af9196740",
   "metadata": {},
   "outputs": [
    {
     "data": {
      "text/plain": [
       "{'Dave': 8,\n",
       " 'Snigdha': 9,\n",
       " 'Denny': 10,\n",
       " 'Michael': 10,\n",
       " 'Matthew': 6,\n",
       " 'Bhuvi': 9,\n",
       " 'Chan': 1}"
      ]
     },
     "execution_count": 19,
     "metadata": {},
     "output_type": "execute_result"
    }
   ],
   "source": [
    "some_students"
   ]
  },
  {
   "cell_type": "code",
   "execution_count": 20,
   "id": "9896427a-5d0c-4d2d-a229-ea3cb84694ba",
   "metadata": {},
   "outputs": [
    {
     "data": {
      "text/plain": [
       "212984443126823556"
      ]
     },
     "execution_count": 20,
     "metadata": {},
     "output_type": "execute_result"
    }
   ],
   "source": [
    "hash('Michael Rawlings')"
   ]
  },
  {
   "cell_type": "code",
   "execution_count": 21,
   "id": "e1863629-797d-4335-9ecf-8779be062841",
   "metadata": {},
   "outputs": [
    {
     "data": {
      "text/plain": [
       "529344067295497451"
      ]
     },
     "execution_count": 21,
     "metadata": {},
     "output_type": "execute_result"
    }
   ],
   "source": [
    "hash((1, 2, 3))"
   ]
  },
  {
   "cell_type": "code",
   "execution_count": 23,
   "id": "066ad7f4-34fe-408a-86c4-b54c67562952",
   "metadata": {},
   "outputs": [
    {
     "ename": "TypeError",
     "evalue": "unhashable type: 'list'",
     "output_type": "error",
     "traceback": [
      "\u001b[31m---------------------------------------------------------------------------\u001b[39m",
      "\u001b[31mTypeError\u001b[39m                                 Traceback (most recent call last)",
      "\u001b[36mCell\u001b[39m\u001b[36m \u001b[39m\u001b[32mIn[23]\u001b[39m\u001b[32m, line 1\u001b[39m\n\u001b[32m----> \u001b[39m\u001b[32m1\u001b[39m \u001b[38;5;28;43mhash\u001b[39;49m\u001b[43m(\u001b[49m\u001b[43m[\u001b[49m\u001b[32;43m1\u001b[39;49m\u001b[43m,\u001b[49m\u001b[43m \u001b[49m\u001b[32;43m2\u001b[39;49m\u001b[43m,\u001b[49m\u001b[43m \u001b[49m\u001b[32;43m3\u001b[39;49m\u001b[43m]\u001b[49m\u001b[43m)\u001b[49m\n",
      "\u001b[31mTypeError\u001b[39m: unhashable type: 'list'"
     ]
    }
   ],
   "source": [
    "hash([1, 2, 3])"
   ]
  },
  {
   "cell_type": "markdown",
   "id": "cc013520-8fb1-4a15-a084-127ad44216ac",
   "metadata": {},
   "source": [
    "## Lab: Dict Comprehensions\n",
    "* start with this list of numbers: __`[1, 2, 2, 3, 3, 3, 4, 5, 5]`__\n",
    "  * use a dict comp to create a dict where the keys are the numbers in the list, and the values are the _count_ of that number\n",
    "  * the result should be __`{ 1: 1, 2: 2, 3: 3, 4: 1, 5: 2 }`__\n",
    "* start with the dict: __`{'Alice': 85, 'Bob': 72, 'Cara': 95, 'Dan': 60}`__\n",
    "  * use a dict comp to create a new dict containing only the students who scored 80 or above\n",
    "* start with this code:\n",
    "<pre>\n",
    "    students = ['Alice', 'Bob']\n",
    "    subjects = ['Math', 'English', 'Science']\n",
    "    scores = {\n",
    "        'Alice': [90, 85, 92],\n",
    "        'Bob': [78, 81, 69]\n",
    "    }\n",
    "</pre>\n",
    "  * Create a dictionary of dictionaries where each student maps to {subject: score}\n",
    "  * ...result should be\n",
    "<pre>\n",
    "    {\n",
    "      'Alice': {'Math': 90, 'English': 85, 'Science': 92},\n",
    "      'Bob': {'Math': 78, 'English': 81, 'Science': 69}\n",
    "    }\n",
    "</pre>"
   ]
  },
  {
   "cell_type": "code",
   "execution_count": 24,
   "id": "467bef80-6f37-4e47-a91a-f7d1297ba64c",
   "metadata": {},
   "outputs": [],
   "source": [
    "numbers = [1, 2, 2, 3, 3, 3, 4, 5, 5]"
   ]
  },
  {
   "cell_type": "code",
   "execution_count": 25,
   "id": "859813b2-8b51-4835-b415-8d0df2624c17",
   "metadata": {},
   "outputs": [],
   "source": [
    "number_counts = { number: numbers.count(number) for number in numbers }"
   ]
  },
  {
   "cell_type": "code",
   "execution_count": 26,
   "id": "b5fa7f07-ef18-4c17-bfb3-943c7a38cb3e",
   "metadata": {},
   "outputs": [
    {
     "data": {
      "text/plain": [
       "{1: 1, 2: 2, 3: 3, 4: 1, 5: 2}"
      ]
     },
     "execution_count": 26,
     "metadata": {},
     "output_type": "execute_result"
    }
   ],
   "source": [
    "number_counts"
   ]
  },
  {
   "cell_type": "code",
   "execution_count": 27,
   "id": "1c965aea-d8eb-4e20-b175-017e9465f2e9",
   "metadata": {},
   "outputs": [],
   "source": [
    "grades = {'Alice': 85, 'Bob': 72, 'Cara': 95, 'Dan': 60}"
   ]
  },
  {
   "cell_type": "code",
   "execution_count": 28,
   "id": "c28cad67-9365-406a-a052-71aa159bd373",
   "metadata": {},
   "outputs": [],
   "source": [
    "grades_above_80 = { name: score for name, score in grades.items()\n",
    "                                    if score >= 80 }"
   ]
  },
  {
   "cell_type": "code",
   "execution_count": 29,
   "id": "ea481cb6-5ff8-46f7-8886-bedce195f373",
   "metadata": {},
   "outputs": [
    {
     "data": {
      "text/plain": [
       "{'Alice': 85, 'Cara': 95}"
      ]
     },
     "execution_count": 29,
     "metadata": {},
     "output_type": "execute_result"
    }
   ],
   "source": [
    "grades_above_80"
   ]
  },
  {
   "cell_type": "code",
   "execution_count": 31,
   "id": "9d5c527e-cd96-440f-b5f9-9a01aacb1444",
   "metadata": {},
   "outputs": [],
   "source": [
    "students = ['Alice', 'Bob']\n",
    "subjects = ['Math', 'English', 'Science']\n",
    "scores = {\n",
    "    'Alice': [90, 85, 92],\n",
    "    'Bob': [78, 81, 69]\n",
    "}"
   ]
  },
  {
   "cell_type": "code",
   "execution_count": 33,
   "id": "0f55fa51-39c1-4fd7-8e05-93f95dc36737",
   "metadata": {},
   "outputs": [],
   "source": [
    "grades = { student: \n",
    "             { subject: score for subject, score in zip(subjects, scores[student]) }      \n",
    "           for student in students }"
   ]
  },
  {
   "cell_type": "code",
   "execution_count": 34,
   "id": "27e3319f-ca80-4c9a-b2a0-a8b0bbb7f526",
   "metadata": {},
   "outputs": [
    {
     "data": {
      "text/plain": [
       "{'Alice': {'Math': 90, 'English': 85, 'Science': 92},\n",
       " 'Bob': {'Math': 78, 'English': 81, 'Science': 69}}"
      ]
     },
     "execution_count": 34,
     "metadata": {},
     "output_type": "execute_result"
    }
   ],
   "source": [
    "grades"
   ]
  },
  {
   "cell_type": "code",
   "execution_count": 35,
   "id": "ab636402-d7c6-4938-b1bf-1d99787fc4b6",
   "metadata": {},
   "outputs": [],
   "source": [
    "number = 3"
   ]
  },
  {
   "cell_type": "code",
   "execution_count": 39,
   "id": "456d9d18-bae1-4c1d-b8b1-9f5b1c97771e",
   "metadata": {},
   "outputs": [],
   "source": [
    "import math"
   ]
  },
  {
   "cell_type": "code",
   "execution_count": 40,
   "id": "eff53cff-1cad-480f-9f0f-ba4bfe61dac7",
   "metadata": {},
   "outputs": [],
   "source": [
    "import random"
   ]
  },
  {
   "cell_type": "code",
   "execution_count": 41,
   "id": "e823ec5c-5ae4-4c36-80c9-354adce2adf8",
   "metadata": {},
   "outputs": [
    {
     "data": {
      "text/plain": [
       "['In',\n",
       " 'Out',\n",
       " '_',\n",
       " '_1',\n",
       " '_11',\n",
       " '_12',\n",
       " '_13',\n",
       " '_14',\n",
       " '_17',\n",
       " '_19',\n",
       " '_20',\n",
       " '_21',\n",
       " '_26',\n",
       " '_29',\n",
       " '_34',\n",
       " '_4',\n",
       " '_5',\n",
       " '__',\n",
       " '___',\n",
       " '__builtin__',\n",
       " '__builtins__',\n",
       " '__doc__',\n",
       " '__loader__',\n",
       " '__name__',\n",
       " '__package__',\n",
       " '__session__',\n",
       " '__spec__',\n",
       " '_dh',\n",
       " '_i',\n",
       " '_i1',\n",
       " '_i10',\n",
       " '_i11',\n",
       " '_i12',\n",
       " '_i13',\n",
       " '_i14',\n",
       " '_i15',\n",
       " '_i16',\n",
       " '_i17',\n",
       " '_i18',\n",
       " '_i19',\n",
       " '_i2',\n",
       " '_i20',\n",
       " '_i21',\n",
       " '_i22',\n",
       " '_i23',\n",
       " '_i24',\n",
       " '_i25',\n",
       " '_i26',\n",
       " '_i27',\n",
       " '_i28',\n",
       " '_i29',\n",
       " '_i3',\n",
       " '_i30',\n",
       " '_i31',\n",
       " '_i32',\n",
       " '_i33',\n",
       " '_i34',\n",
       " '_i35',\n",
       " '_i36',\n",
       " '_i37',\n",
       " '_i38',\n",
       " '_i39',\n",
       " '_i4',\n",
       " '_i40',\n",
       " '_i41',\n",
       " '_i5',\n",
       " '_i6',\n",
       " '_i7',\n",
       " '_i8',\n",
       " '_i9',\n",
       " '_ih',\n",
       " '_ii',\n",
       " '_iii',\n",
       " '_oh',\n",
       " 'colors',\n",
       " 'exit',\n",
       " 'get_ipython',\n",
       " 'grades',\n",
       " 'grades_above_80',\n",
       " 'kaprekar_routine',\n",
       " 'math',\n",
       " 'mysum',\n",
       " 'names',\n",
       " 'no_divis_by_5',\n",
       " 'number',\n",
       " 'number_counts',\n",
       " 'numbers',\n",
       " 'open',\n",
       " 'quit',\n",
       " 'random',\n",
       " 'scores',\n",
       " 'sizes',\n",
       " 'sleeves',\n",
       " 'some_students',\n",
       " 'squares',\n",
       " 'students',\n",
       " 'subjects',\n",
       " 'tshirts']"
      ]
     },
     "execution_count": 41,
     "metadata": {},
     "output_type": "execute_result"
    }
   ],
   "source": [
    "dir()"
   ]
  },
  {
   "cell_type": "code",
   "execution_count": 42,
   "id": "21bb6b3b-2fc7-4e4d-86c1-67bfbcd0aeef",
   "metadata": {},
   "outputs": [],
   "source": [
    "import random"
   ]
  },
  {
   "cell_type": "code",
   "execution_count": 44,
   "id": "f83e927b-8966-4783-9ec3-28fe915e57b5",
   "metadata": {},
   "outputs": [
    {
     "data": {
      "text/plain": [
       "['BPF',\n",
       " 'LOG4',\n",
       " 'NV_MAGICCONST',\n",
       " 'RECIP_BPF',\n",
       " 'Random',\n",
       " 'SG_MAGICCONST',\n",
       " 'SystemRandom',\n",
       " 'TWOPI',\n",
       " '_ONE',\n",
       " '_Sequence',\n",
       " '__all__',\n",
       " '__builtins__',\n",
       " '__cached__',\n",
       " '__doc__',\n",
       " '__file__',\n",
       " '__loader__',\n",
       " '__name__',\n",
       " '__package__',\n",
       " '__spec__',\n",
       " '_accumulate',\n",
       " '_acos',\n",
       " '_bisect',\n",
       " '_ceil',\n",
       " '_cos',\n",
       " '_e',\n",
       " '_exp',\n",
       " '_fabs',\n",
       " '_floor',\n",
       " '_index',\n",
       " '_inst',\n",
       " '_isfinite',\n",
       " '_lgamma',\n",
       " '_log',\n",
       " '_log2',\n",
       " '_os',\n",
       " '_parse_args',\n",
       " '_pi',\n",
       " '_random',\n",
       " '_repeat',\n",
       " '_sha512',\n",
       " '_sin',\n",
       " '_sqrt',\n",
       " '_test',\n",
       " '_test_generator',\n",
       " '_urandom',\n",
       " 'betavariate',\n",
       " 'binomialvariate',\n",
       " 'choice',\n",
       " 'choices',\n",
       " 'expovariate',\n",
       " 'gammavariate',\n",
       " 'gauss',\n",
       " 'getrandbits',\n",
       " 'getstate',\n",
       " 'lognormvariate',\n",
       " 'main',\n",
       " 'normalvariate',\n",
       " 'paretovariate',\n",
       " 'randbytes',\n",
       " 'randint',\n",
       " 'random',\n",
       " 'randrange',\n",
       " 'sample',\n",
       " 'seed',\n",
       " 'setstate',\n",
       " 'shuffle',\n",
       " 'triangular',\n",
       " 'uniform',\n",
       " 'vonmisesvariate',\n",
       " 'weibullvariate']"
      ]
     },
     "execution_count": 44,
     "metadata": {},
     "output_type": "execute_result"
    }
   ],
   "source": [
    "dir(random)"
   ]
  },
  {
   "cell_type": "code",
   "execution_count": 45,
   "id": "eb7648d2-9a10-4571-9486-191ab3509e0b",
   "metadata": {},
   "outputs": [
    {
     "data": {
      "text/plain": [
       "'/Library/Frameworks/Python.framework/Versions/3.14/lib/python3.14/random.py'"
      ]
     },
     "execution_count": 45,
     "metadata": {},
     "output_type": "execute_result"
    }
   ],
   "source": [
    "random.__file__"
   ]
  },
  {
   "cell_type": "code",
   "execution_count": 46,
   "id": "f830140f-16b1-46d0-beb4-38c7dfc8ab2e",
   "metadata": {},
   "outputs": [
    {
     "data": {
      "text/plain": [
       "'/Library/Frameworks/Python.framework/Versions/3.14/lib/python3.14/lib-dynload/math.cpython-314-darwin.so'"
      ]
     },
     "execution_count": 46,
     "metadata": {},
     "output_type": "execute_result"
    }
   ],
   "source": [
    "math.__file__"
   ]
  },
  {
   "cell_type": "code",
   "execution_count": 47,
   "id": "d45ecd21-4b20-4606-a3af-75c69af44761",
   "metadata": {},
   "outputs": [
    {
     "name": "stdout",
     "output_type": "stream",
     "text": [
      "\"\"\"Random variable generators.\n",
      "\n",
      "    bytes\n",
      "    -----\n",
      "           uniform bytes (values between 0 and 255)\n",
      "\n",
      "    integers\n",
      "    --------\n",
      "           uniform within range\n",
      "\n",
      "    sequences\n",
      "    ---------\n",
      "           pick random element\n",
      "           pick random sample\n",
      "           pick weighted random sample\n",
      "           generate random permutation\n",
      "\n",
      "    distributions on the real line:\n",
      "    ------------------------------\n",
      "           uniform\n",
      "           triangular\n",
      "           normal (Gaussian)\n",
      "           lognormal\n",
      "           negative exponential\n",
      "           gamma\n",
      "           beta\n",
      "           pareto\n",
      "           Weibull\n",
      "\n",
      "    distributions on the circle (angles 0 to 2pi)\n",
      "    ---------------------------------------------\n",
      "           circular uniform\n",
      "           von Mises\n",
      "\n",
      "    discrete distributions\n",
      "    ----------------------\n",
      "           binomial\n",
      "\n",
      "\n",
      "General notes on the underlying Mersenne Twister core generator:\n",
      "\n",
      "* The period is 2**19937-1.\n",
      "* It is one of the most extensively tested generators in existence.\n",
      "* The random() method is implemented in C, executes in a single Python step,\n",
      "  and is, therefore, threadsafe.\n",
      "\n",
      "\"\"\"\n",
      "\n",
      "# Translated by Guido van Rossum from C source provided by\n",
      "# Adrian Baddeley.  Adapted by Raymond Hettinger for use with\n",
      "# the Mersenne Twister  and os.urandom() core generators.\n",
      "\n",
      "from math import log as _log, exp as _exp, pi as _pi, e as _e, ceil as _ceil\n",
      "from math import sqrt as _sqrt, acos as _acos, cos as _cos, sin as _sin\n",
      "from math import tau as TWOPI, floor as _floor, isfinite as _isfinite\n",
      "from math import lgamma as _lgamma, fabs as _fabs, log2 as _log2\n",
      "from os import urandom as _urandom\n",
      "from _collections_abc import Sequence as _Sequence\n",
      "from operator import index as _index\n",
      "from itertools import accumulate as _accumulate, repeat as _repeat\n",
      "from bisect import bisect as _bisect\n",
      "import os as _os\n",
      "import _random\n",
      "\n",
      "__all__ = [\n",
      "    \"Random\",\n",
      "    \"SystemRandom\",\n",
      "    \"betavariate\",\n",
      "    \"binomialvariate\",\n",
      "    \"choice\",\n",
      "    \"choices\",\n",
      "    \"expovariate\",\n",
      "    \"gammavariate\",\n",
      "    \"gauss\",\n",
      "    \"getrandbits\",\n",
      "    \"getstate\",\n",
      "    \"lognormvariate\",\n",
      "    \"normalvariate\",\n",
      "    \"paretovariate\",\n",
      "    \"randbytes\",\n",
      "    \"randint\",\n",
      "    \"random\",\n",
      "    \"randrange\",\n",
      "    \"sample\",\n",
      "    \"seed\",\n",
      "    \"setstate\",\n",
      "    \"shuffle\",\n",
      "    \"triangular\",\n",
      "    \"uniform\",\n",
      "    \"vonmisesvariate\",\n",
      "    \"weibullvariate\",\n",
      "]\n",
      "\n",
      "NV_MAGICCONST = 4 * _exp(-0.5) / _sqrt(2.0)\n",
      "LOG4 = _log(4.0)\n",
      "SG_MAGICCONST = 1.0 + _log(4.5)\n",
      "BPF = 53        # Number of bits in a float\n",
      "RECIP_BPF = 2 ** -BPF\n",
      "_ONE = 1\n",
      "_sha512 = None\n",
      "\n",
      "\n",
      "class Random(_random.Random):\n",
      "    \"\"\"Random number generator base class used by bound module functions.\n",
      "\n",
      "    Used to instantiate instances of Random to get generators that don't\n",
      "    share state.\n",
      "\n",
      "    Class Random can also be subclassed if you want to use a different basic\n",
      "    generator of your own devising: in that case, override the following\n",
      "    methods:  random(), seed(), getstate(), and setstate().\n",
      "    Optionally, implement a getrandbits() method so that randrange()\n",
      "    can cover arbitrarily large ranges.\n",
      "\n",
      "    \"\"\"\n",
      "\n",
      "    VERSION = 3     # used by getstate/setstate\n",
      "\n",
      "    def __init__(self, x=None):\n",
      "        \"\"\"Initialize an instance.\n",
      "\n",
      "        Optional argument x controls seeding, as for Random.seed().\n",
      "        \"\"\"\n",
      "\n",
      "        self.seed(x)\n",
      "        self.gauss_next = None\n",
      "\n",
      "    def seed(self, a=None, version=2):\n",
      "        \"\"\"Initialize internal state from a seed.\n",
      "\n",
      "        The only supported seed types are None, int, float,\n",
      "        str, bytes, and bytearray.\n",
      "\n",
      "        None or no argument seeds from current time or from an operating\n",
      "        system specific randomness source if available.\n",
      "\n",
      "        If *a* is an int, all bits are used.\n",
      "\n",
      "        For version 2 (the default), all of the bits are used if *a* is a str,\n",
      "        bytes, or bytearray.  For version 1 (provided for reproducing random\n",
      "        sequences from older versions of Python), the algorithm for str and\n",
      "        bytes generates a narrower range of seeds.\n",
      "\n",
      "        \"\"\"\n",
      "\n",
      "        if version == 1 and isinstance(a, (str, bytes)):\n",
      "            a = a.decode('latin-1') if isinstance(a, bytes) else a\n",
      "            x = ord(a[0]) << 7 if a else 0\n",
      "            for c in map(ord, a):\n",
      "                x = ((1000003 * x) ^ c) & 0xFFFFFFFFFFFFFFFF\n",
      "            x ^= len(a)\n",
      "            a = -2 if x == -1 else x\n",
      "\n",
      "        elif version == 2 and isinstance(a, (str, bytes, bytearray)):\n",
      "            global _sha512\n",
      "            if _sha512 is None:\n",
      "                try:\n",
      "                    # hashlib is pretty heavy to load, try lean internal\n",
      "                    # module first\n",
      "                    from _sha2 import sha512 as _sha512\n",
      "                except ImportError:\n",
      "                    # fallback to official implementation\n",
      "                    from hashlib import sha512 as _sha512\n",
      "\n",
      "            if isinstance(a, str):\n",
      "                a = a.encode()\n",
      "            a = int.from_bytes(a + _sha512(a).digest())\n",
      "\n",
      "        elif not isinstance(a, (type(None), int, float, str, bytes, bytearray)):\n",
      "            raise TypeError('The only supported seed types are:\\n'\n",
      "                            'None, int, float, str, bytes, and bytearray.')\n",
      "\n",
      "        super().seed(a)\n",
      "        self.gauss_next = None\n",
      "\n",
      "    def getstate(self):\n",
      "        \"\"\"Return internal state; can be passed to setstate() later.\"\"\"\n",
      "        return self.VERSION, super().getstate(), self.gauss_next\n",
      "\n",
      "    def setstate(self, state):\n",
      "        \"\"\"Restore internal state from object returned by getstate().\"\"\"\n",
      "        version = state[0]\n",
      "        if version == 3:\n",
      "            version, internalstate, self.gauss_next = state\n",
      "            super().setstate(internalstate)\n",
      "        elif version == 2:\n",
      "            version, internalstate, self.gauss_next = state\n",
      "            # In version 2, the state was saved as signed ints, which causes\n",
      "            #   inconsistencies between 32/64-bit systems. The state is\n",
      "            #   really unsigned 32-bit ints, so we convert negative ints from\n",
      "            #   version 2 to positive longs for version 3.\n",
      "            try:\n",
      "                internalstate = tuple(x % (2 ** 32) for x in internalstate)\n",
      "            except ValueError as e:\n",
      "                raise TypeError from e\n",
      "            super().setstate(internalstate)\n",
      "        else:\n",
      "            raise ValueError(\"state with version %s passed to \"\n",
      "                             \"Random.setstate() of version %s\" %\n",
      "                             (version, self.VERSION))\n",
      "\n",
      "\n",
      "    ## -------------------------------------------------------\n",
      "    ## ---- Methods below this point do not need to be overridden or extended\n",
      "    ## ---- when subclassing for the purpose of using a different core generator.\n",
      "\n",
      "\n",
      "    ## -------------------- pickle support  -------------------\n",
      "\n",
      "    # Issue 17489: Since __reduce__ was defined to fix #759889 this is no\n",
      "    # longer called; we leave it here because it has been here since random was\n",
      "    # rewritten back in 2001 and why risk breaking something.\n",
      "    def __getstate__(self):  # for pickle\n",
      "        return self.getstate()\n",
      "\n",
      "    def __setstate__(self, state):  # for pickle\n",
      "        self.setstate(state)\n",
      "\n",
      "    def __reduce__(self):\n",
      "        return self.__class__, (), self.getstate()\n",
      "\n",
      "\n",
      "    ## ---- internal support method for evenly distributed integers ----\n",
      "\n",
      "    def __init_subclass__(cls, /, **kwargs):\n",
      "        \"\"\"Control how subclasses generate random integers.\n",
      "\n",
      "        The algorithm a subclass can use depends on the random() and/or\n",
      "        getrandbits() implementation available to it and determines\n",
      "        whether it can generate random integers from arbitrarily large\n",
      "        ranges.\n",
      "        \"\"\"\n",
      "\n",
      "        for c in cls.__mro__:\n",
      "            if '_randbelow' in c.__dict__:\n",
      "                # just inherit it\n",
      "                break\n",
      "            if 'getrandbits' in c.__dict__:\n",
      "                cls._randbelow = cls._randbelow_with_getrandbits\n",
      "                break\n",
      "            if 'random' in c.__dict__:\n",
      "                cls._randbelow = cls._randbelow_without_getrandbits\n",
      "                break\n",
      "\n",
      "    def _randbelow_with_getrandbits(self, n):\n",
      "        \"Return a random int in the range [0,n).  Defined for n > 0.\"\n",
      "\n",
      "        k = n.bit_length()\n",
      "        r = self.getrandbits(k)  # 0 <= r < 2**k\n",
      "        while r >= n:\n",
      "            r = self.getrandbits(k)\n",
      "        return r\n",
      "\n",
      "    def _randbelow_without_getrandbits(self, n, maxsize=1<<BPF):\n",
      "        \"\"\"Return a random int in the range [0,n).  Defined for n > 0.\n",
      "\n",
      "        The implementation does not use getrandbits, but only random.\n",
      "        \"\"\"\n",
      "\n",
      "        random = self.random\n",
      "        if n >= maxsize:\n",
      "            from warnings import warn\n",
      "            warn(\"Underlying random() generator does not supply \\n\"\n",
      "                 \"enough bits to choose from a population range this large.\\n\"\n",
      "                 \"To remove the range limitation, add a getrandbits() method.\")\n",
      "            return _floor(random() * n)\n",
      "        rem = maxsize % n\n",
      "        limit = (maxsize - rem) / maxsize   # int(limit * maxsize) % n == 0\n",
      "        r = random()\n",
      "        while r >= limit:\n",
      "            r = random()\n",
      "        return _floor(r * maxsize) % n\n",
      "\n",
      "    _randbelow = _randbelow_with_getrandbits\n",
      "\n",
      "\n",
      "    ## --------------------------------------------------------\n",
      "    ## ---- Methods below this point generate custom distributions\n",
      "    ## ---- based on the methods defined above.  They do not\n",
      "    ## ---- directly touch the underlying generator and only\n",
      "    ## ---- access randomness through the methods:  random(),\n",
      "    ## ---- getrandbits(), or _randbelow().\n",
      "\n",
      "\n",
      "    ## -------------------- bytes methods ---------------------\n",
      "\n",
      "    def randbytes(self, n):\n",
      "        \"\"\"Generate n random bytes.\"\"\"\n",
      "        return self.getrandbits(n * 8).to_bytes(n, 'little')\n",
      "\n",
      "\n",
      "    ## -------------------- integer methods  -------------------\n",
      "\n",
      "    def randrange(self, start, stop=None, step=_ONE):\n",
      "        \"\"\"Choose a random item from range(stop) or range(start, stop[, step]).\n",
      "\n",
      "        Roughly equivalent to ``choice(range(start, stop, step))`` but\n",
      "        supports arbitrarily large ranges and is optimized for common cases.\n",
      "\n",
      "        \"\"\"\n",
      "\n",
      "        # This code is a bit messy to make it fast for the\n",
      "        # common case while still doing adequate error checking.\n",
      "        istart = _index(start)\n",
      "        if stop is None:\n",
      "            # We don't check for \"step != 1\" because it hasn't been\n",
      "            # type checked and converted to an integer yet.\n",
      "            if step is not _ONE:\n",
      "                raise TypeError(\"Missing a non-None stop argument\")\n",
      "            if istart > 0:\n",
      "                return self._randbelow(istart)\n",
      "            raise ValueError(\"empty range for randrange()\")\n",
      "\n",
      "        # Stop argument supplied.\n",
      "        istop = _index(stop)\n",
      "        width = istop - istart\n",
      "        istep = _index(step)\n",
      "        # Fast path.\n",
      "        if istep == 1:\n",
      "            if width > 0:\n",
      "                return istart + self._randbelow(width)\n",
      "            raise ValueError(f\"empty range in randrange({start}, {stop})\")\n",
      "\n",
      "        # Non-unit step argument supplied.\n",
      "        if istep > 0:\n",
      "            n = (width + istep - 1) // istep\n",
      "        elif istep < 0:\n",
      "            n = (width + istep + 1) // istep\n",
      "        else:\n",
      "            raise ValueError(\"zero step for randrange()\")\n",
      "        if n <= 0:\n",
      "            raise ValueError(f\"empty range in randrange({start}, {stop}, {step})\")\n",
      "        return istart + istep * self._randbelow(n)\n",
      "\n",
      "    def randint(self, a, b):\n",
      "        \"\"\"Return random integer in range [a, b], including both end points.\n",
      "        \"\"\"\n",
      "        a = _index(a)\n",
      "        b = _index(b)\n",
      "        if b < a:\n",
      "            raise ValueError(f\"empty range in randint({a}, {b})\")\n",
      "        return a + self._randbelow(b - a + 1)\n",
      "\n",
      "\n",
      "    ## -------------------- sequence methods  -------------------\n",
      "\n",
      "    def choice(self, seq):\n",
      "        \"\"\"Choose a random element from a non-empty sequence.\"\"\"\n",
      "\n",
      "        # As an accommodation for NumPy, we don't use \"if not seq\"\n",
      "        # because bool(numpy.array()) raises a ValueError.\n",
      "        if not len(seq):\n",
      "            raise IndexError('Cannot choose from an empty sequence')\n",
      "        return seq[self._randbelow(len(seq))]\n",
      "\n",
      "    def shuffle(self, x):\n",
      "        \"\"\"Shuffle list x in place, and return None.\"\"\"\n",
      "\n",
      "        randbelow = self._randbelow\n",
      "        for i in reversed(range(1, len(x))):\n",
      "            # pick an element in x[:i+1] with which to exchange x[i]\n",
      "            j = randbelow(i + 1)\n",
      "            x[i], x[j] = x[j], x[i]\n",
      "\n",
      "    def sample(self, population, k, *, counts=None):\n",
      "        \"\"\"Chooses k unique random elements from a population sequence.\n",
      "\n",
      "        Returns a new list containing elements from the population while\n",
      "        leaving the original population unchanged.  The resulting list is\n",
      "        in selection order so that all sub-slices will also be valid random\n",
      "        samples.  This allows raffle winners (the sample) to be partitioned\n",
      "        into grand prize and second place winners (the subslices).\n",
      "\n",
      "        Members of the population need not be hashable or unique.  If the\n",
      "        population contains repeats, then each occurrence is a possible\n",
      "        selection in the sample.\n",
      "\n",
      "        Repeated elements can be specified one at a time or with the optional\n",
      "        counts parameter.  For example:\n",
      "\n",
      "            sample(['red', 'blue'], counts=[4, 2], k=5)\n",
      "\n",
      "        is equivalent to:\n",
      "\n",
      "            sample(['red', 'red', 'red', 'red', 'blue', 'blue'], k=5)\n",
      "\n",
      "        To choose a sample from a range of integers, use range() for the\n",
      "        population argument.  This is especially fast and space efficient\n",
      "        for sampling from a large population:\n",
      "\n",
      "            sample(range(10000000), 60)\n",
      "\n",
      "        \"\"\"\n",
      "\n",
      "        # Sampling without replacement entails tracking either potential\n",
      "        # selections (the pool) in a list or previous selections in a set.\n",
      "\n",
      "        # When the number of selections is small compared to the\n",
      "        # population, then tracking selections is efficient, requiring\n",
      "        # only a small set and an occasional reselection.  For\n",
      "        # a larger number of selections, the pool tracking method is\n",
      "        # preferred since the list takes less space than the\n",
      "        # set and it doesn't suffer from frequent reselections.\n",
      "\n",
      "        # The number of calls to _randbelow() is kept at or near k, the\n",
      "        # theoretical minimum.  This is important because running time\n",
      "        # is dominated by _randbelow() and because it extracts the\n",
      "        # least entropy from the underlying random number generators.\n",
      "\n",
      "        # Memory requirements are kept to the smaller of a k-length\n",
      "        # set or an n-length list.\n",
      "\n",
      "        # There are other sampling algorithms that do not require\n",
      "        # auxiliary memory, but they were rejected because they made\n",
      "        # too many calls to _randbelow(), making them slower and\n",
      "        # causing them to eat more entropy than necessary.\n",
      "\n",
      "        if not isinstance(population, _Sequence):\n",
      "            raise TypeError(\"Population must be a sequence.  \"\n",
      "                            \"For dicts or sets, use sorted(d).\")\n",
      "        n = len(population)\n",
      "        if counts is not None:\n",
      "            cum_counts = list(_accumulate(counts))\n",
      "            if len(cum_counts) != n:\n",
      "                raise ValueError('The number of counts does not match the population')\n",
      "            total = cum_counts.pop() if cum_counts else 0\n",
      "            if not isinstance(total, int):\n",
      "                raise TypeError('Counts must be integers')\n",
      "            if total < 0:\n",
      "                raise ValueError('Counts must be non-negative')\n",
      "            selections = self.sample(range(total), k=k)\n",
      "            bisect = _bisect\n",
      "            return [population[bisect(cum_counts, s)] for s in selections]\n",
      "        randbelow = self._randbelow\n",
      "        if not 0 <= k <= n:\n",
      "            raise ValueError(\"Sample larger than population or is negative\")\n",
      "        result = [None] * k\n",
      "        setsize = 21        # size of a small set minus size of an empty list\n",
      "        if k > 5:\n",
      "            setsize += 4 ** _ceil(_log(k * 3, 4))  # table size for big sets\n",
      "        if n <= setsize:\n",
      "            # An n-length list is smaller than a k-length set.\n",
      "            # Invariant:  non-selected at pool[0 : n-i]\n",
      "            pool = list(population)\n",
      "            for i in range(k):\n",
      "                j = randbelow(n - i)\n",
      "                result[i] = pool[j]\n",
      "                pool[j] = pool[n - i - 1]  # move non-selected item into vacancy\n",
      "        else:\n",
      "            selected = set()\n",
      "            selected_add = selected.add\n",
      "            for i in range(k):\n",
      "                j = randbelow(n)\n",
      "                while j in selected:\n",
      "                    j = randbelow(n)\n",
      "                selected_add(j)\n",
      "                result[i] = population[j]\n",
      "        return result\n",
      "\n",
      "    def choices(self, population, weights=None, *, cum_weights=None, k=1):\n",
      "        \"\"\"Return a k sized list of population elements chosen with replacement.\n",
      "\n",
      "        If the relative weights or cumulative weights are not specified,\n",
      "        the selections are made with equal probability.\n",
      "\n",
      "        \"\"\"\n",
      "        random = self.random\n",
      "        n = len(population)\n",
      "        if cum_weights is None:\n",
      "            if weights is None:\n",
      "                floor = _floor\n",
      "                n += 0.0    # convert to float for a small speed improvement\n",
      "                return [population[floor(random() * n)] for i in _repeat(None, k)]\n",
      "            try:\n",
      "                cum_weights = list(_accumulate(weights))\n",
      "            except TypeError:\n",
      "                if not isinstance(weights, int):\n",
      "                    raise\n",
      "                k = weights\n",
      "                raise TypeError(\n",
      "                    f'The number of choices must be a keyword argument: {k=}'\n",
      "                ) from None\n",
      "        elif weights is not None:\n",
      "            raise TypeError('Cannot specify both weights and cumulative weights')\n",
      "        if len(cum_weights) != n:\n",
      "            raise ValueError('The number of weights does not match the population')\n",
      "        total = cum_weights[-1] + 0.0   # convert to float\n",
      "        if total <= 0.0:\n",
      "            raise ValueError('Total of weights must be greater than zero')\n",
      "        if not _isfinite(total):\n",
      "            raise ValueError('Total of weights must be finite')\n",
      "        bisect = _bisect\n",
      "        hi = n - 1\n",
      "        return [population[bisect(cum_weights, random() * total, 0, hi)]\n",
      "                for i in _repeat(None, k)]\n",
      "\n",
      "\n",
      "    ## -------------------- real-valued distributions  -------------------\n",
      "\n",
      "    def uniform(self, a, b):\n",
      "        \"\"\"Get a random number in the range [a, b) or [a, b] depending on rounding.\n",
      "\n",
      "        The mean (expected value) and variance of the random variable are:\n",
      "\n",
      "            E[X] = (a + b) / 2\n",
      "            Var[X] = (b - a) ** 2 / 12\n",
      "\n",
      "        \"\"\"\n",
      "        return a + (b - a) * self.random()\n",
      "\n",
      "    def triangular(self, low=0.0, high=1.0, mode=None):\n",
      "        \"\"\"Triangular distribution.\n",
      "\n",
      "        Continuous distribution bounded by given lower and upper limits,\n",
      "        and having a given mode value in-between.\n",
      "\n",
      "        http://en.wikipedia.org/wiki/Triangular_distribution\n",
      "\n",
      "        The mean (expected value) and variance of the random variable are:\n",
      "\n",
      "            E[X] = (low + high + mode) / 3\n",
      "            Var[X] = (low**2 + high**2 + mode**2 - low*high - low*mode - high*mode) / 18\n",
      "\n",
      "        \"\"\"\n",
      "        u = self.random()\n",
      "        try:\n",
      "            c = 0.5 if mode is None else (mode - low) / (high - low)\n",
      "        except ZeroDivisionError:\n",
      "            return low\n",
      "        if u > c:\n",
      "            u = 1.0 - u\n",
      "            c = 1.0 - c\n",
      "            low, high = high, low\n",
      "        return low + (high - low) * _sqrt(u * c)\n",
      "\n",
      "    def normalvariate(self, mu=0.0, sigma=1.0):\n",
      "        \"\"\"Normal distribution.\n",
      "\n",
      "        mu is the mean, and sigma is the standard deviation.\n",
      "\n",
      "        \"\"\"\n",
      "        # Uses Kinderman and Monahan method. Reference: Kinderman,\n",
      "        # A.J. and Monahan, J.F., \"Computer generation of random\n",
      "        # variables using the ratio of uniform deviates\", ACM Trans\n",
      "        # Math Software, 3, (1977), pp257-260.\n",
      "\n",
      "        random = self.random\n",
      "        while True:\n",
      "            u1 = random()\n",
      "            u2 = 1.0 - random()\n",
      "            z = NV_MAGICCONST * (u1 - 0.5) / u2\n",
      "            zz = z * z / 4.0\n",
      "            if zz <= -_log(u2):\n",
      "                break\n",
      "        return mu + z * sigma\n",
      "\n",
      "    def gauss(self, mu=0.0, sigma=1.0):\n",
      "        \"\"\"Gaussian distribution.\n",
      "\n",
      "        mu is the mean, and sigma is the standard deviation.  This is\n",
      "        slightly faster than the normalvariate() function.\n",
      "\n",
      "        Not thread-safe without a lock around calls.\n",
      "\n",
      "        \"\"\"\n",
      "        # When x and y are two variables from [0, 1), uniformly\n",
      "        # distributed, then\n",
      "        #\n",
      "        #    cos(2*pi*x)*sqrt(-2*log(1-y))\n",
      "        #    sin(2*pi*x)*sqrt(-2*log(1-y))\n",
      "        #\n",
      "        # are two *independent* variables with normal distribution\n",
      "        # (mu = 0, sigma = 1).\n",
      "        # (Lambert Meertens)\n",
      "        # (corrected version; bug discovered by Mike Miller, fixed by LM)\n",
      "\n",
      "        # Multithreading note: When two threads call this function\n",
      "        # simultaneously, it is possible that they will receive the\n",
      "        # same return value.  The window is very small though.  To\n",
      "        # avoid this, you have to use a lock around all calls.  (I\n",
      "        # didn't want to slow this down in the serial case by using a\n",
      "        # lock here.)\n",
      "\n",
      "        random = self.random\n",
      "        z = self.gauss_next\n",
      "        self.gauss_next = None\n",
      "        if z is None:\n",
      "            x2pi = random() * TWOPI\n",
      "            g2rad = _sqrt(-2.0 * _log(1.0 - random()))\n",
      "            z = _cos(x2pi) * g2rad\n",
      "            self.gauss_next = _sin(x2pi) * g2rad\n",
      "\n",
      "        return mu + z * sigma\n",
      "\n",
      "    def lognormvariate(self, mu, sigma):\n",
      "        \"\"\"Log normal distribution.\n",
      "\n",
      "        If you take the natural logarithm of this distribution, you'll get a\n",
      "        normal distribution with mean mu and standard deviation sigma.\n",
      "        mu can have any value, and sigma must be greater than zero.\n",
      "\n",
      "        \"\"\"\n",
      "        return _exp(self.normalvariate(mu, sigma))\n",
      "\n",
      "    def expovariate(self, lambd=1.0):\n",
      "        \"\"\"Exponential distribution.\n",
      "\n",
      "        lambd is 1.0 divided by the desired mean.  It should be\n",
      "        nonzero.  (The parameter would be called \"lambda\", but that is\n",
      "        a reserved word in Python.)  Returned values range from 0 to\n",
      "        positive infinity if lambd is positive, and from negative\n",
      "        infinity to 0 if lambd is negative.\n",
      "\n",
      "        The mean (expected value) and variance of the random variable are:\n",
      "\n",
      "            E[X] = 1 / lambd\n",
      "            Var[X] = 1 / lambd ** 2\n",
      "\n",
      "        \"\"\"\n",
      "        # we use 1-random() instead of random() to preclude the\n",
      "        # possibility of taking the log of zero.\n",
      "\n",
      "        return -_log(1.0 - self.random()) / lambd\n",
      "\n",
      "    def vonmisesvariate(self, mu, kappa):\n",
      "        \"\"\"Circular data distribution.\n",
      "\n",
      "        mu is the mean angle, expressed in radians between 0 and 2*pi, and\n",
      "        kappa is the concentration parameter, which must be greater than or\n",
      "        equal to zero.  If kappa is equal to zero, this distribution reduces\n",
      "        to a uniform random angle over the range 0 to 2*pi.\n",
      "\n",
      "        \"\"\"\n",
      "        # Based upon an algorithm published in: Fisher, N.I.,\n",
      "        # \"Statistical Analysis of Circular Data\", Cambridge\n",
      "        # University Press, 1993.\n",
      "\n",
      "        # Thanks to Magnus Kessler for a correction to the\n",
      "        # implementation of step 4.\n",
      "\n",
      "        random = self.random\n",
      "        if kappa <= 1e-6:\n",
      "            return TWOPI * random()\n",
      "\n",
      "        s = 0.5 / kappa\n",
      "        r = s + _sqrt(1.0 + s * s)\n",
      "\n",
      "        while True:\n",
      "            u1 = random()\n",
      "            z = _cos(_pi * u1)\n",
      "\n",
      "            d = z / (r + z)\n",
      "            u2 = random()\n",
      "            if u2 < 1.0 - d * d or u2 <= (1.0 - d) * _exp(d):\n",
      "                break\n",
      "\n",
      "        q = 1.0 / r\n",
      "        f = (q + z) / (1.0 + q * z)\n",
      "        u3 = random()\n",
      "        if u3 > 0.5:\n",
      "            theta = (mu + _acos(f)) % TWOPI\n",
      "        else:\n",
      "            theta = (mu - _acos(f)) % TWOPI\n",
      "\n",
      "        return theta\n",
      "\n",
      "    def gammavariate(self, alpha, beta):\n",
      "        \"\"\"Gamma distribution.  Not the gamma function!\n",
      "\n",
      "        Conditions on the parameters are alpha > 0 and beta > 0.\n",
      "\n",
      "        The probability distribution function is:\n",
      "\n",
      "                    x ** (alpha - 1) * math.exp(-x / beta)\n",
      "          pdf(x) =  --------------------------------------\n",
      "                      math.gamma(alpha) * beta ** alpha\n",
      "\n",
      "        The mean (expected value) and variance of the random variable are:\n",
      "\n",
      "            E[X] = alpha * beta\n",
      "            Var[X] = alpha * beta ** 2\n",
      "\n",
      "        \"\"\"\n",
      "\n",
      "        # Warning: a few older sources define the gamma distribution in terms\n",
      "        # of alpha > -1.0\n",
      "        if alpha <= 0.0 or beta <= 0.0:\n",
      "            raise ValueError('gammavariate: alpha and beta must be > 0.0')\n",
      "\n",
      "        random = self.random\n",
      "        if alpha > 1.0:\n",
      "\n",
      "            # Uses R.C.H. Cheng, \"The generation of Gamma\n",
      "            # variables with non-integral shape parameters\",\n",
      "            # Applied Statistics, (1977), 26, No. 1, p71-74\n",
      "\n",
      "            ainv = _sqrt(2.0 * alpha - 1.0)\n",
      "            bbb = alpha - LOG4\n",
      "            ccc = alpha + ainv\n",
      "\n",
      "            while True:\n",
      "                u1 = random()\n",
      "                if not 1e-7 < u1 < 0.9999999:\n",
      "                    continue\n",
      "                u2 = 1.0 - random()\n",
      "                v = _log(u1 / (1.0 - u1)) / ainv\n",
      "                x = alpha * _exp(v)\n",
      "                z = u1 * u1 * u2\n",
      "                r = bbb + ccc * v - x\n",
      "                if r + SG_MAGICCONST - 4.5 * z >= 0.0 or r >= _log(z):\n",
      "                    return x * beta\n",
      "\n",
      "        elif alpha == 1.0:\n",
      "            # expovariate(1/beta)\n",
      "            return -_log(1.0 - random()) * beta\n",
      "\n",
      "        else:\n",
      "            # alpha is between 0 and 1 (exclusive)\n",
      "            # Uses ALGORITHM GS of Statistical Computing - Kennedy & Gentle\n",
      "            while True:\n",
      "                u = random()\n",
      "                b = (_e + alpha) / _e\n",
      "                p = b * u\n",
      "                if p <= 1.0:\n",
      "                    x = p ** (1.0 / alpha)\n",
      "                else:\n",
      "                    x = -_log((b - p) / alpha)\n",
      "                u1 = random()\n",
      "                if p > 1.0:\n",
      "                    if u1 <= x ** (alpha - 1.0):\n",
      "                        break\n",
      "                elif u1 <= _exp(-x):\n",
      "                    break\n",
      "            return x * beta\n",
      "\n",
      "    def betavariate(self, alpha, beta):\n",
      "        \"\"\"Beta distribution.\n",
      "\n",
      "        Conditions on the parameters are alpha > 0 and beta > 0.\n",
      "        Returned values range between 0 and 1.\n",
      "\n",
      "        The mean (expected value) and variance of the random variable are:\n",
      "\n",
      "            E[X] = alpha / (alpha + beta)\n",
      "            Var[X] = alpha * beta / ((alpha + beta)**2 * (alpha + beta + 1))\n",
      "\n",
      "        \"\"\"\n",
      "        ## See\n",
      "        ## http://mail.python.org/pipermail/python-bugs-list/2001-January/003752.html\n",
      "        ## for Ivan Frohne's insightful analysis of why the original implementation:\n",
      "        ##\n",
      "        ##    def betavariate(self, alpha, beta):\n",
      "        ##        # Discrete Event Simulation in C, pp 87-88.\n",
      "        ##\n",
      "        ##        y = self.expovariate(alpha)\n",
      "        ##        z = self.expovariate(1.0/beta)\n",
      "        ##        return z/(y+z)\n",
      "        ##\n",
      "        ## was dead wrong, and how it probably got that way.\n",
      "\n",
      "        # This version due to Janne Sinkkonen, and matches all the std\n",
      "        # texts (e.g., Knuth Vol 2 Ed 3 pg 134 \"the beta distribution\").\n",
      "        y = self.gammavariate(alpha, 1.0)\n",
      "        if y:\n",
      "            return y / (y + self.gammavariate(beta, 1.0))\n",
      "        return 0.0\n",
      "\n",
      "    def paretovariate(self, alpha):\n",
      "        \"\"\"Pareto distribution.  alpha is the shape parameter.\"\"\"\n",
      "        # Jain, pg. 495\n",
      "\n",
      "        u = 1.0 - self.random()\n",
      "        return u ** (-1.0 / alpha)\n",
      "\n",
      "    def weibullvariate(self, alpha, beta):\n",
      "        \"\"\"Weibull distribution.\n",
      "\n",
      "        alpha is the scale parameter and beta is the shape parameter.\n",
      "\n",
      "        \"\"\"\n",
      "        # Jain, pg. 499; bug fix courtesy Bill Arms\n",
      "\n",
      "        u = 1.0 - self.random()\n",
      "        return alpha * (-_log(u)) ** (1.0 / beta)\n",
      "\n",
      "\n",
      "    ## -------------------- discrete  distributions  ---------------------\n",
      "\n",
      "    def binomialvariate(self, n=1, p=0.5):\n",
      "        \"\"\"Binomial random variable.\n",
      "\n",
      "        Gives the number of successes for *n* independent trials\n",
      "        with the probability of success in each trial being *p*:\n",
      "\n",
      "            sum(random() < p for i in range(n))\n",
      "\n",
      "        Returns an integer in the range:\n",
      "\n",
      "            0 <= X <= n\n",
      "\n",
      "        The integer is chosen with the probability:\n",
      "\n",
      "            P(X == k) = math.comb(n, k) * p ** k * (1 - p) ** (n - k)\n",
      "\n",
      "        The mean (expected value) and variance of the random variable are:\n",
      "\n",
      "            E[X] = n * p\n",
      "            Var[X] = n * p * (1 - p)\n",
      "\n",
      "        \"\"\"\n",
      "        # Error check inputs and handle edge cases\n",
      "        if n < 0:\n",
      "            raise ValueError(\"n must be non-negative\")\n",
      "        if p <= 0.0 or p >= 1.0:\n",
      "            if p == 0.0:\n",
      "                return 0\n",
      "            if p == 1.0:\n",
      "                return n\n",
      "            raise ValueError(\"p must be in the range 0.0 <= p <= 1.0\")\n",
      "\n",
      "        random = self.random\n",
      "\n",
      "        # Fast path for a common case\n",
      "        if n == 1:\n",
      "            return _index(random() < p)\n",
      "\n",
      "        # Exploit symmetry to establish:  p <= 0.5\n",
      "        if p > 0.5:\n",
      "            return n - self.binomialvariate(n, 1.0 - p)\n",
      "\n",
      "        if n * p < 10.0:\n",
      "            # BG: Geometric method by Devroye with running time of O(np).\n",
      "            # https://dl.acm.org/doi/pdf/10.1145/42372.42381\n",
      "            x = y = 0\n",
      "            c = _log2(1.0 - p)\n",
      "            if not c:\n",
      "                return x\n",
      "            while True:\n",
      "                y += _floor(_log2(random()) / c) + 1\n",
      "                if y > n:\n",
      "                    return x\n",
      "                x += 1\n",
      "\n",
      "        # BTRS: Transformed rejection with squeeze method by Wolfgang Hörmann\n",
      "        # https://citeseerx.ist.psu.edu/viewdoc/download?doi=10.1.1.47.8407&rep=rep1&type=pdf\n",
      "        assert n*p >= 10.0 and p <= 0.5\n",
      "        setup_complete = False\n",
      "\n",
      "        spq = _sqrt(n * p * (1.0 - p))  # Standard deviation of the distribution\n",
      "        b = 1.15 + 2.53 * spq\n",
      "        a = -0.0873 + 0.0248 * b + 0.01 * p\n",
      "        c = n * p + 0.5\n",
      "        vr = 0.92 - 4.2 / b\n",
      "\n",
      "        while True:\n",
      "\n",
      "            u = random()\n",
      "            u -= 0.5\n",
      "            us = 0.5 - _fabs(u)\n",
      "            k = _floor((2.0 * a / us + b) * u + c)\n",
      "            if k < 0 or k > n:\n",
      "                continue\n",
      "\n",
      "            # The early-out \"squeeze\" test substantially reduces\n",
      "            # the number of acceptance condition evaluations.\n",
      "            v = random()\n",
      "            if us >= 0.07 and v <= vr:\n",
      "                return k\n",
      "\n",
      "            # Acceptance-rejection test.\n",
      "            # Note, the original paper erroneously omits the call to log(v)\n",
      "            # when comparing to the log of the rescaled binomial distribution.\n",
      "            if not setup_complete:\n",
      "                alpha = (2.83 + 5.1 / b) * spq\n",
      "                lpq = _log(p / (1.0 - p))\n",
      "                m = _floor((n + 1) * p)         # Mode of the distribution\n",
      "                h = _lgamma(m + 1) + _lgamma(n - m + 1)\n",
      "                setup_complete = True           # Only needs to be done once\n",
      "            v *= alpha / (a / (us * us) + b)\n",
      "            if _log(v) <= h - _lgamma(k + 1) - _lgamma(n - k + 1) + (k - m) * lpq:\n",
      "                return k\n",
      "\n",
      "\n",
      "## ------------------------------------------------------------------\n",
      "## --------------- Operating System Random Source  ------------------\n",
      "\n",
      "\n",
      "class SystemRandom(Random):\n",
      "    \"\"\"Alternate random number generator using sources provided\n",
      "    by the operating system (such as /dev/urandom on Unix or\n",
      "    CryptGenRandom on Windows).\n",
      "\n",
      "     Not available on all systems (see os.urandom() for details).\n",
      "\n",
      "    \"\"\"\n",
      "\n",
      "    def random(self):\n",
      "        \"\"\"Get the next random number in the range 0.0 <= X < 1.0.\"\"\"\n",
      "        return (int.from_bytes(_urandom(7)) >> 3) * RECIP_BPF\n",
      "\n",
      "    def getrandbits(self, k):\n",
      "        \"\"\"getrandbits(k) -> x.  Generates an int with k random bits.\"\"\"\n",
      "        if k < 0:\n",
      "            raise ValueError('number of bits must be non-negative')\n",
      "        numbytes = (k + 7) // 8                       # bits / 8 and rounded up\n",
      "        x = int.from_bytes(_urandom(numbytes))\n",
      "        return x >> (numbytes * 8 - k)                # trim excess bits\n",
      "\n",
      "    def randbytes(self, n):\n",
      "        \"\"\"Generate n random bytes.\"\"\"\n",
      "        # os.urandom(n) fails with ValueError for n < 0\n",
      "        # and returns an empty bytes string for n == 0.\n",
      "        return _urandom(n)\n",
      "\n",
      "    def seed(self, *args, **kwds):\n",
      "        \"Stub method.  Not used for a system random number generator.\"\n",
      "        return None\n",
      "\n",
      "    def _notimplemented(self, *args, **kwds):\n",
      "        \"Method should not be called for a system random number generator.\"\n",
      "        raise NotImplementedError('System entropy source does not have state.')\n",
      "    getstate = setstate = _notimplemented\n",
      "\n",
      "\n",
      "# ----------------------------------------------------------------------\n",
      "# Create one instance, seeded from current time, and export its methods\n",
      "# as module-level functions.  The functions share state across all uses\n",
      "# (both in the user's code and in the Python libraries), but that's fine\n",
      "# for most programs and is easier for the casual user than making them\n",
      "# instantiate their own Random() instance.\n",
      "\n",
      "_inst = Random()\n",
      "seed = _inst.seed\n",
      "random = _inst.random\n",
      "uniform = _inst.uniform\n",
      "triangular = _inst.triangular\n",
      "randint = _inst.randint\n",
      "choice = _inst.choice\n",
      "randrange = _inst.randrange\n",
      "sample = _inst.sample\n",
      "shuffle = _inst.shuffle\n",
      "choices = _inst.choices\n",
      "normalvariate = _inst.normalvariate\n",
      "lognormvariate = _inst.lognormvariate\n",
      "expovariate = _inst.expovariate\n",
      "vonmisesvariate = _inst.vonmisesvariate\n",
      "gammavariate = _inst.gammavariate\n",
      "gauss = _inst.gauss\n",
      "betavariate = _inst.betavariate\n",
      "binomialvariate = _inst.binomialvariate\n",
      "paretovariate = _inst.paretovariate\n",
      "weibullvariate = _inst.weibullvariate\n",
      "getstate = _inst.getstate\n",
      "setstate = _inst.setstate\n",
      "getrandbits = _inst.getrandbits\n",
      "randbytes = _inst.randbytes\n",
      "\n",
      "\n",
      "## ------------------------------------------------------\n",
      "## ----------------- test program -----------------------\n",
      "\n",
      "def _test_generator(n, func, args):\n",
      "    from statistics import stdev, fmean as mean\n",
      "    from time import perf_counter\n",
      "\n",
      "    t0 = perf_counter()\n",
      "    data = [func(*args) for i in _repeat(None, n)]\n",
      "    t1 = perf_counter()\n",
      "\n",
      "    xbar = mean(data)\n",
      "    sigma = stdev(data, xbar)\n",
      "    low = min(data)\n",
      "    high = max(data)\n",
      "\n",
      "    print(f'{t1 - t0:.3f} sec, {n} times {func.__name__}{args!r}')\n",
      "    print('avg %g, stddev %g, min %g, max %g\\n' % (xbar, sigma, low, high))\n",
      "\n",
      "\n",
      "def _test(N=10_000):\n",
      "    _test_generator(N, random, ())\n",
      "    _test_generator(N, normalvariate, (0.0, 1.0))\n",
      "    _test_generator(N, lognormvariate, (0.0, 1.0))\n",
      "    _test_generator(N, vonmisesvariate, (0.0, 1.0))\n",
      "    _test_generator(N, binomialvariate, (15, 0.60))\n",
      "    _test_generator(N, binomialvariate, (100, 0.75))\n",
      "    _test_generator(N, gammavariate, (0.01, 1.0))\n",
      "    _test_generator(N, gammavariate, (0.1, 1.0))\n",
      "    _test_generator(N, gammavariate, (0.1, 2.0))\n",
      "    _test_generator(N, gammavariate, (0.5, 1.0))\n",
      "    _test_generator(N, gammavariate, (0.9, 1.0))\n",
      "    _test_generator(N, gammavariate, (1.0, 1.0))\n",
      "    _test_generator(N, gammavariate, (2.0, 1.0))\n",
      "    _test_generator(N, gammavariate, (20.0, 1.0))\n",
      "    _test_generator(N, gammavariate, (200.0, 1.0))\n",
      "    _test_generator(N, gauss, (0.0, 1.0))\n",
      "    _test_generator(N, betavariate, (3.0, 3.0))\n",
      "    _test_generator(N, triangular, (0.0, 1.0, 1.0 / 3.0))\n",
      "\n",
      "\n",
      "## ------------------------------------------------------\n",
      "## ------------------ fork support  ---------------------\n",
      "\n",
      "if hasattr(_os, \"fork\"):\n",
      "    _os.register_at_fork(after_in_child=_inst.seed)\n",
      "\n",
      "\n",
      "# ------------------------------------------------------\n",
      "# -------------- command-line interface ----------------\n",
      "\n",
      "\n",
      "def _parse_args(arg_list: list[str] | None):\n",
      "    import argparse\n",
      "    parser = argparse.ArgumentParser(\n",
      "        formatter_class=argparse.RawTextHelpFormatter, color=True)\n",
      "    group = parser.add_mutually_exclusive_group()\n",
      "    group.add_argument(\n",
      "        \"-c\", \"--choice\", nargs=\"+\",\n",
      "        help=\"print a random choice\")\n",
      "    group.add_argument(\n",
      "        \"-i\", \"--integer\", type=int, metavar=\"N\",\n",
      "        help=\"print a random integer between 1 and N inclusive\")\n",
      "    group.add_argument(\n",
      "        \"-f\", \"--float\", type=float, metavar=\"N\",\n",
      "        help=\"print a random floating-point number between 0 and N inclusive\")\n",
      "    group.add_argument(\n",
      "        \"--test\", type=int, const=10_000, nargs=\"?\",\n",
      "        help=argparse.SUPPRESS)\n",
      "    parser.add_argument(\"input\", nargs=\"*\",\n",
      "                        help=\"\"\"\\\n",
      "if no options given, output depends on the input\n",
      "    string or multiple: same as --choice\n",
      "    integer: same as --integer\n",
      "    float: same as --float\"\"\")\n",
      "    args = parser.parse_args(arg_list)\n",
      "    return args, parser.format_help()\n",
      "\n",
      "\n",
      "def main(arg_list: list[str] | None = None) -> int | str:\n",
      "    args, help_text = _parse_args(arg_list)\n",
      "\n",
      "    # Explicit arguments\n",
      "    if args.choice:\n",
      "        return choice(args.choice)\n",
      "\n",
      "    if args.integer is not None:\n",
      "        return randint(1, args.integer)\n",
      "\n",
      "    if args.float is not None:\n",
      "        return uniform(0, args.float)\n",
      "\n",
      "    if args.test:\n",
      "        _test(args.test)\n",
      "        return \"\"\n",
      "\n",
      "    # No explicit argument, select based on input\n",
      "    if len(args.input) == 1:\n",
      "        val = args.input[0]\n",
      "        try:\n",
      "            # Is it an integer?\n",
      "            val = int(val)\n",
      "            return randint(1, val)\n",
      "        except ValueError:\n",
      "            try:\n",
      "                # Is it a float?\n",
      "                val = float(val)\n",
      "                return uniform(0, val)\n",
      "            except ValueError:\n",
      "                # Split in case of space-separated string: \"a b c\"\n",
      "                return choice(val.split())\n",
      "\n",
      "    if len(args.input) >= 2:\n",
      "        return choice(args.input)\n",
      "\n",
      "    return help_text\n",
      "\n",
      "\n",
      "if __name__ == '__main__':\n",
      "    print(main())\n"
     ]
    }
   ],
   "source": [
    "%cat '/Library/Frameworks/Python.framework/Versions/3.14/lib/python3.14/random.py'"
   ]
  },
  {
   "cell_type": "code",
   "execution_count": 48,
   "id": "2cca9e99-3e61-481d-9613-ce94ab9c82ff",
   "metadata": {},
   "outputs": [
    {
     "data": {
      "text/plain": [
       "False"
      ]
     },
     "execution_count": 48,
     "metadata": {},
     "output_type": "execute_result"
    }
   ],
   "source": [
    "False and 5 > 4"
   ]
  },
  {
   "cell_type": "code",
   "execution_count": 49,
   "id": "2106a38f-fca1-4a17-8a74-1a750874756a",
   "metadata": {},
   "outputs": [
    {
     "data": {
      "text/plain": [
       "False"
      ]
     },
     "execution_count": 49,
     "metadata": {},
     "output_type": "execute_result"
    }
   ],
   "source": [
    "5 > 4 and False"
   ]
  },
  {
   "cell_type": "code",
   "execution_count": 50,
   "id": "c3e97331-a26f-4949-9ef2-eb72ea45256f",
   "metadata": {},
   "outputs": [
    {
     "data": {
      "text/plain": [
       "[]"
      ]
     },
     "execution_count": 50,
     "metadata": {},
     "output_type": "execute_result"
    }
   ],
   "source": [
    "[] and 5 > 4"
   ]
  },
  {
   "cell_type": "code",
   "execution_count": 51,
   "id": "a99281d9-0f5f-4166-8c61-21fac4570cd7",
   "metadata": {},
   "outputs": [],
   "source": [
    "mylist = []"
   ]
  },
  {
   "cell_type": "code",
   "execution_count": 52,
   "id": "d4f2bfce-39b5-4ed8-96f6-08aa3ecb32d5",
   "metadata": {},
   "outputs": [
    {
     "data": {
      "text/plain": [
       "False"
      ]
     },
     "execution_count": 52,
     "metadata": {},
     "output_type": "execute_result"
    }
   ],
   "source": [
    "len(mylist) > 0 and 5 > 4"
   ]
  },
  {
   "cell_type": "code",
   "execution_count": 53,
   "id": "bcdef97f-d943-4576-94f3-b9a8482ebff9",
   "metadata": {},
   "outputs": [
    {
     "data": {
      "text/plain": [
       "[]"
      ]
     },
     "execution_count": 53,
     "metadata": {},
     "output_type": "execute_result"
    }
   ],
   "source": [
    "5 > 4 and []"
   ]
  },
  {
   "cell_type": "code",
   "execution_count": 54,
   "id": "6e3cff81-0fa3-4a46-9f52-854432b04386",
   "metadata": {},
   "outputs": [],
   "source": [
    "new_variable = 1"
   ]
  },
  {
   "cell_type": "code",
   "execution_count": 55,
   "id": "174fb6dc-b3ca-43ad-85b9-7c855b5658c1",
   "metadata": {},
   "outputs": [
    {
     "data": {
      "text/plain": [
       "4398100416"
      ]
     },
     "execution_count": 55,
     "metadata": {},
     "output_type": "execute_result"
    }
   ],
   "source": [
    "id(new_variable)"
   ]
  },
  {
   "cell_type": "code",
   "execution_count": 56,
   "id": "97fe6bd8-d96f-4f17-9d85-7299eb6558dd",
   "metadata": {},
   "outputs": [],
   "source": [
    "another_var = 2"
   ]
  },
  {
   "cell_type": "code",
   "execution_count": 57,
   "id": "1af565a8-2b1b-4619-b6a0-50d8737959dd",
   "metadata": {},
   "outputs": [
    {
     "data": {
      "text/plain": [
       "4398100448"
      ]
     },
     "execution_count": 57,
     "metadata": {},
     "output_type": "execute_result"
    }
   ],
   "source": [
    "id(another_var)"
   ]
  },
  {
   "cell_type": "code",
   "execution_count": 58,
   "id": "267797f8-c8f1-45f7-8185-f916a97056c3",
   "metadata": {},
   "outputs": [],
   "source": [
    "name = 'Dave'"
   ]
  },
  {
   "cell_type": "code",
   "execution_count": 59,
   "id": "8cae1802-48e5-4390-8bdb-9bbc9f3719d3",
   "metadata": {},
   "outputs": [
    {
     "name": "stdout",
     "output_type": "stream",
     "text": [
      "Dave\n"
     ]
    }
   ],
   "source": [
    "print('Hello, my name is', name)"
   ]
  },
  {
   "cell_type": "code",
   "execution_count": 61,
   "id": "d1a3d678-cdc6-49fd-8648-73b7b61947ce",
   "metadata": {},
   "outputs": [
    {
     "data": {
      "text/plain": [
       "'Dave'"
      ]
     },
     "execution_count": 61,
     "metadata": {},
     "output_type": "execute_result"
    }
   ],
   "source": [
    "name # tell me the value of this variable"
   ]
  },
  {
   "cell_type": "code",
   "execution_count": 62,
   "id": "5a8cac3e-ceb2-4d88-a388-0580a88c9197",
   "metadata": {},
   "outputs": [],
   "source": [
    "some_string = 'True'"
   ]
  },
  {
   "cell_type": "code",
   "execution_count": 63,
   "id": "22e7e76f-84eb-4735-9fef-007f2ccadf7e",
   "metadata": {},
   "outputs": [
    {
     "name": "stdout",
     "output_type": "stream",
     "text": [
      "True\n"
     ]
    }
   ],
   "source": [
    "print(some_string)"
   ]
  },
  {
   "cell_type": "code",
   "execution_count": 64,
   "id": "aa836bf6-2743-4110-bcaa-06d9689176b9",
   "metadata": {},
   "outputs": [
    {
     "name": "stdout",
     "output_type": "stream",
     "text": [
      "True\n"
     ]
    }
   ],
   "source": [
    "print(True)"
   ]
  },
  {
   "cell_type": "code",
   "execution_count": 65,
   "id": "6b743ded-686d-48b1-b229-d3e3a14a43bb",
   "metadata": {},
   "outputs": [
    {
     "data": {
      "text/plain": [
       "'True'"
      ]
     },
     "execution_count": 65,
     "metadata": {},
     "output_type": "execute_result"
    }
   ],
   "source": [
    "some_string"
   ]
  },
  {
   "cell_type": "code",
   "execution_count": 66,
   "id": "e15df46e-5189-4644-b248-e4f2a24020fc",
   "metadata": {},
   "outputs": [],
   "source": [
    "value = 4"
   ]
  },
  {
   "cell_type": "code",
   "execution_count": 67,
   "id": "95f35471-001c-4af4-90bb-5ce08d5d50a3",
   "metadata": {},
   "outputs": [
    {
     "data": {
      "text/plain": [
       "4"
      ]
     },
     "execution_count": 67,
     "metadata": {},
     "output_type": "execute_result"
    }
   ],
   "source": [
    "value"
   ]
  },
  {
   "cell_type": "code",
   "execution_count": 68,
   "id": "f03aef78-e11b-4cf9-a3e0-9367dca7bdf6",
   "metadata": {},
   "outputs": [
    {
     "name": "stdout",
     "output_type": "stream",
     "text": [
      "4\n"
     ]
    }
   ],
   "source": [
    "print(value)"
   ]
  },
  {
   "cell_type": "code",
   "execution_count": 69,
   "id": "4946c161-aa3b-4597-a22e-0ee4453e293e",
   "metadata": {},
   "outputs": [],
   "source": [
    "mylist = [1, 3, 5]"
   ]
  },
  {
   "cell_type": "code",
   "execution_count": 70,
   "id": "4e497a47-bddd-4141-ab1d-674aeb514e63",
   "metadata": {},
   "outputs": [
    {
     "name": "stdout",
     "output_type": "stream",
     "text": [
      "[1, 3, 5]\n"
     ]
    }
   ],
   "source": [
    "print(mylist)"
   ]
  },
  {
   "cell_type": "code",
   "execution_count": 71,
   "id": "18df1f08-7f5f-44e5-aca4-c7ac2150b59c",
   "metadata": {},
   "outputs": [
    {
     "data": {
      "text/plain": [
       "4"
      ]
     },
     "execution_count": 71,
     "metadata": {},
     "output_type": "execute_result"
    }
   ],
   "source": [
    "2 + 2"
   ]
  },
  {
   "cell_type": "code",
   "execution_count": 72,
   "id": "774cc060-90a8-4fb5-a9a7-c9626d01c388",
   "metadata": {},
   "outputs": [
    {
     "data": {
      "text/plain": [
       "'22'"
      ]
     },
     "execution_count": 72,
     "metadata": {},
     "output_type": "execute_result"
    }
   ],
   "source": [
    "'2' + '2'"
   ]
  },
  {
   "cell_type": "code",
   "execution_count": 73,
   "id": "1eab767f-4532-4c5c-91a7-c020d76f0d47",
   "metadata": {},
   "outputs": [],
   "source": [
    "number = 2"
   ]
  },
  {
   "cell_type": "code",
   "execution_count": 74,
   "id": "9f78c92d-827a-467e-8de3-a330d1ead7e5",
   "metadata": {},
   "outputs": [
    {
     "data": {
      "text/plain": [
       "4"
      ]
     },
     "execution_count": 74,
     "metadata": {},
     "output_type": "execute_result"
    }
   ],
   "source": [
    "number.__add__(2) # taylor.deposit(45) ... BankAccount.deposit(taylor, 45)"
   ]
  },
  {
   "cell_type": "code",
   "execution_count": 75,
   "id": "cd9869f9-b4e8-47ce-902a-df7c422713aa",
   "metadata": {},
   "outputs": [
    {
     "data": {
      "text/plain": [
       "4"
      ]
     },
     "execution_count": 75,
     "metadata": {},
     "output_type": "execute_result"
    }
   ],
   "source": [
    "int.__add__(2, 2)"
   ]
  },
  {
   "cell_type": "code",
   "execution_count": 76,
   "id": "83640120-b266-4e17-b3ba-eb31a1efa50e",
   "metadata": {},
   "outputs": [
    {
     "data": {
      "text/plain": [
       "True"
      ]
     },
     "execution_count": 76,
     "metadata": {},
     "output_type": "execute_result"
    }
   ],
   "source": [
    "number.__eq__(1 + 1)"
   ]
  },
  {
   "cell_type": "code",
   "execution_count": 77,
   "id": "e71bdcec-6d91-4719-a485-064b432221a0",
   "metadata": {},
   "outputs": [
    {
     "data": {
      "text/plain": [
       "True"
      ]
     },
     "execution_count": 77,
     "metadata": {},
     "output_type": "execute_result"
    }
   ],
   "source": [
    "int.__eq__(2, 1 + 1)"
   ]
  },
  {
   "cell_type": "markdown",
   "id": "a22ab563-db53-41e4-bf14-b1591ac45c14",
   "metadata": {},
   "source": [
    "## Lab: OO Programming\n",
    "1. Add a __\\_\\_`eq`\\_\\_()__ method to the BankAccount class\n",
    "   * How you define __\\_\\_`eq`\\_\\_()__ is up to you\n",
    "2. Add a __\\_\\_`len`\\_\\_()__ method to the BankAccount class\n",
    "3. Add a __\\_\\_`mul`\\_\\_()__ method to the BankAccount class\n",
    "   * it should create a new BankAccount where the balance has been multiplied the second operand (so, for e.g., if __`b`__ is a BankAccount object, then __`b * 1.25`__ would produce a new BankAccount object whose balance is __`b.balance * 1.25`__)\n",
    "   * you could also modify __`b.name`__ to indicate the account has been \"multiplied\" (or add a new field to indicate this)–perhaps this can only happen once\n",
    "* Create a class __`Calculator`__ which acts like a calculator\n",
    "  * Your class should have methods __`add()`__, __`sub()`__, __`mul()`__, __`div()`__, __`pow()`__\n",
    "  * Each of the above methods should take 1 or 2 arguments\n",
    "    * for 1 argument, e.g., __`add(1)`__, your method should add to the running total\n",
    "    * for 2 arguments, your method should act on those 2 arguments to create a new running total\n",
    "    * e.g., __`add(2, 4)`__ should produce 6, and then if followed by __`mul(5)`__, the result should be 30\n",
    "* All calculations should be stored, and should be accessible to the caller via the __`showcalc()`__ method (kind of like a printing calculator)\n",
    "* You should also have an __`ac()`__ \"all clear\" method which clears the running total and the list of calculations (i.e., __`showcalc()`__ should produce no output, or \"0.0\" when preceded by a call to __`ac()`__)"
   ]
  },
  {
   "cell_type": "code",
   "execution_count": 1,
   "id": "ce1c175d-38b7-4726-bf06-5ee3f9ccd17b",
   "metadata": {},
   "outputs": [],
   "source": [
    "class BankAccount2:\n",
    "    def __init__(self, name, initial_balance):\n",
    "        self.name = name\n",
    "        self.balance = initial_balance\n",
    "\n",
    "    \n",
    "    def __repr__(self):\n",
    "        \"\"\"string representation of object, for humans\n",
    "        __repr__ is used if __str__ does not exist\"\"\"\n",
    "        return self.name + ' has $' + str(self.balance) + ' in the bank'\n",
    "\n",
    "\n",
    "    def __eq__(self, other):\n",
    "        \"\"\"Is a BankAccount equal to another BankAccount?\"\"\"\n",
    "        return self.balance == other.balance\n",
    "        \n",
    "\n",
    "    def __len__(self):\n",
    "        \"\"\"len must return a nonnegative integer\"\"\"\n",
    "        return self.balance\n",
    "\n",
    "\n",
    "    def __mul__(self, factor):\n",
    "        \"\"\"'Multiply' the bank account by a factor.\n",
    "        So if factor is 1.25, the balance would be increased by 25%.\n",
    "\n",
    "        Technically, we should *return* a new object here, rather than changing self.\n",
    "        \"\"\"\n",
    "        return self.__class__(self.name, self.balance * factor)\n",
    "        \n",
    "        \n",
    "    def deposit(self, amount):\n",
    "        if amount > 0:\n",
    "            self.balance += amount\n",
    "            return self.balance\n",
    "        else:\n",
    "            print(\"can't deposit nonpositive amount!\")\n",
    "\n",
    "    \n",
    "    def withdraw(self, amount):\n",
    "        if amount > 0:\n",
    "            if amount <= self.balance:\n",
    "                self.balance -= amount\n",
    "                return self.balance\n",
    "            else:\n",
    "                print(\"can't withdraw\", amount, \"or you would be overdrawn!\")\n",
    "        else:\n",
    "            print(\"can't withdraw nonpositive amount!\")"
   ]
  },
  {
   "cell_type": "code",
   "execution_count": 2,
   "id": "7a91efca-3f11-4d1f-a2b5-3c2bef3c3aea",
   "metadata": {},
   "outputs": [
    {
     "data": {
      "text/plain": [
       "True"
      ]
     },
     "execution_count": 2,
     "metadata": {},
     "output_type": "execute_result"
    }
   ],
   "source": [
    "one = BankAccount2('A', 100)\n",
    "two = BankAccount2('B', 100.0)\n",
    "one == two"
   ]
  },
  {
   "cell_type": "code",
   "execution_count": 3,
   "id": "95156102-5582-4c32-922a-9f04913ef867",
   "metadata": {},
   "outputs": [
    {
     "data": {
      "text/plain": [
       "100"
      ]
     },
     "execution_count": 3,
     "metadata": {},
     "output_type": "execute_result"
    }
   ],
   "source": [
    "len(one)"
   ]
  },
  {
   "cell_type": "code",
   "execution_count": 7,
   "id": "d778b34a-9d25-46e9-a124-91d19fd32d4b",
   "metadata": {},
   "outputs": [
    {
     "data": {
      "text/plain": [
       "A has $120.0 in the bank"
      ]
     },
     "execution_count": 7,
     "metadata": {},
     "output_type": "execute_result"
    }
   ],
   "source": [
    "new_one = one * 1.2\n",
    "new_one"
   ]
  },
  {
   "cell_type": "code",
   "execution_count": 35,
   "id": "d6e3c199-bf7a-4255-a27f-c6fdd603fa2c",
   "metadata": {},
   "outputs": [],
   "source": [
    "class Calculator:\n",
    "    \"\"\"Perform calculations like a standard 4-function calculator.\"\"\"\n",
    "    def __init__(self):\n",
    "        \"\"\"Do we need to pass any arguments here?\"\"\"\n",
    "        self.ac() # __init__ is the same as \"ac\"\n",
    "\n",
    "        \n",
    "    def __repr__(self): # display calculator in a human-readable format\n",
    "        \"\"\"We only define __repr__ so it will be used for both repr and str\"\"\"\n",
    "        return self.showcalc()\n",
    "\n",
    "\n",
    "    def ac(self):\n",
    "        \"\"\"Clear out the total and list of calculations.\"\"\"\n",
    "        self.total = 0 # start with a 0 on the calculator display\n",
    "        self.calculations = [] # this list will store the calculations\n",
    "\n",
    "\n",
    "    def showcalc(self):\n",
    "        return '\\n'.join(self.calculations)\n",
    "\n",
    "        \n",
    "    def docalc(self, op1, op2, oper):\n",
    "        \"\"\"Helper function for all calculations.\"\"\"\n",
    "        if not op2: # add to running total\n",
    "            op2 = op1 # \"move\" op1 into op2\n",
    "            op1 = self.total # ...and make op1 be the running total\n",
    "\n",
    "        # perform the calculation (we can streamline this shortly)\n",
    "        match oper:\n",
    "            case '+':\n",
    "                self.total = op1 + op2\n",
    "\n",
    "            case '-':\n",
    "                self.total = op1 - op2\n",
    "\n",
    "            case '*':\n",
    "                self.total = op1 * op2\n",
    "\n",
    "            case '/':\n",
    "                self.total = op1 / op2\n",
    "\n",
    "            case '**':\n",
    "                self.total = op1 ** op2\n",
    "\n",
    "            case _:\n",
    "                raise TypeError(f'Unknown operator {oper}')\n",
    "\n",
    "        if type(self.total) == int:\n",
    "            self.calculations.append(f\"{op1} {oper} {op2} = {self.total}\")\n",
    "        else:\n",
    "            self.calculations.append(f\"{op1} {oper} {op2} = {self.total:.4f}\")\n",
    "\n",
    "            \n",
    "    def add(self, op1, op2=None):\n",
    "        \"\"\"Add two numbers, or one number to the running total.\"\"\" \n",
    "        self.docalc(op1, op2, '+')\n",
    "        \n",
    "        return self.total\n",
    "\n",
    "\n",
    "    def sub(self, op1, op2=None):\n",
    "        \"\"\"Subtract two numbers, or one number to the running total.\"\"\" \n",
    "        self.docalc(op1, op2, '-')\n",
    "        \n",
    "        return self.total\n",
    "\n",
    "\n",
    "    def mul(self, op1, op2=None):\n",
    "        \"\"\"Multiply two numbers, or one number to the running total.\"\"\" \n",
    "        self.docalc(op1, op2, '*')\n",
    "        \n",
    "        return self.total\n",
    "\n",
    "\n",
    "    def div(self, op1, op2=None):\n",
    "        \"\"\"Divide two numbers, or one number to the running total.\"\"\" \n",
    "        self.docalc(op1, op2, '/')\n",
    "        \n",
    "        return self.total\n",
    "\n",
    "    \n",
    "    def pow(self, op1, op2=None):\n",
    "        \"\"\"Divide two numbers, or one number to the running total.\"\"\" \n",
    "        self.docalc(op1, op2, '**')\n",
    "        \n",
    "        return self.total    "
   ]
  },
  {
   "cell_type": "code",
   "execution_count": 2,
   "id": "e0314c65-136d-4bc1-8aec-1019fe917e3c",
   "metadata": {},
   "outputs": [],
   "source": [
    "c = Calculator()"
   ]
  },
  {
   "cell_type": "code",
   "execution_count": 3,
   "id": "4b622d35-c14d-4656-b187-ef4ab929ca5c",
   "metadata": {},
   "outputs": [
    {
     "data": {
      "text/plain": [
       "0"
      ]
     },
     "execution_count": 3,
     "metadata": {},
     "output_type": "execute_result"
    }
   ],
   "source": [
    "c.total"
   ]
  },
  {
   "cell_type": "code",
   "execution_count": 4,
   "id": "9123b6df-3206-4039-805b-1aa06f2aaf33",
   "metadata": {},
   "outputs": [
    {
     "name": "stdout",
     "output_type": "stream",
     "text": [
      "\n"
     ]
    }
   ],
   "source": [
    "print(c.showcalc())"
   ]
  },
  {
   "cell_type": "code",
   "execution_count": 5,
   "id": "099b95d9-f59e-4888-8afa-575dc27e15cc",
   "metadata": {},
   "outputs": [
    {
     "data": {
      "text/plain": [
       "[]"
      ]
     },
     "execution_count": 5,
     "metadata": {},
     "output_type": "execute_result"
    }
   ],
   "source": [
    "c.calculations"
   ]
  },
  {
   "cell_type": "code",
   "execution_count": 6,
   "id": "bf80ec26-714a-48c1-be55-ff8c03b98518",
   "metadata": {},
   "outputs": [
    {
     "data": {
      "text/plain": []
     },
     "execution_count": 6,
     "metadata": {},
     "output_type": "execute_result"
    }
   ],
   "source": [
    "c.ac()\n",
    "c"
   ]
  },
  {
   "cell_type": "code",
   "execution_count": 7,
   "id": "6d235519-b035-4437-a9e1-df426aea7aa2",
   "metadata": {},
   "outputs": [
    {
     "data": {
      "text/plain": [
       "5"
      ]
     },
     "execution_count": 7,
     "metadata": {},
     "output_type": "execute_result"
    }
   ],
   "source": [
    "c.add(5)"
   ]
  },
  {
   "cell_type": "code",
   "execution_count": 8,
   "id": "778366b3-9df0-4d9d-b2bd-46c3a8f3c3e4",
   "metadata": {},
   "outputs": [
    {
     "data": {
      "text/plain": [
       "0 + 5 = 5"
      ]
     },
     "execution_count": 8,
     "metadata": {},
     "output_type": "execute_result"
    }
   ],
   "source": [
    "c"
   ]
  },
  {
   "cell_type": "code",
   "execution_count": 9,
   "id": "c9e5d259-f853-4507-9c22-6ad81a87d555",
   "metadata": {},
   "outputs": [
    {
     "data": {
      "text/plain": [
       "-3"
      ]
     },
     "execution_count": 9,
     "metadata": {},
     "output_type": "execute_result"
    }
   ],
   "source": [
    "c.sub(8)"
   ]
  },
  {
   "cell_type": "code",
   "execution_count": 10,
   "id": "cda54846-9bcf-4c79-bd1e-6f6f1ce310e8",
   "metadata": {},
   "outputs": [
    {
     "data": {
      "text/plain": [
       "0 + 5 = 5\n",
       "5 - 8 = -3"
      ]
     },
     "execution_count": 10,
     "metadata": {},
     "output_type": "execute_result"
    }
   ],
   "source": [
    "c"
   ]
  },
  {
   "cell_type": "code",
   "execution_count": 11,
   "id": "955df784-3363-441a-b50b-547778731d0b",
   "metadata": {},
   "outputs": [
    {
     "data": {
      "text/plain": [
       "-21"
      ]
     },
     "execution_count": 11,
     "metadata": {},
     "output_type": "execute_result"
    }
   ],
   "source": [
    "c.mul(7)"
   ]
  },
  {
   "cell_type": "code",
   "execution_count": 8,
   "id": "a4195563-8324-47f7-9ca2-7c6ecf0c9a4b",
   "metadata": {},
   "outputs": [
    {
     "data": {
      "text/plain": [
       "0 + 5 = 5\n",
       "5 - 8 = -3\n",
       "-3 * 7 = -21"
      ]
     },
     "execution_count": 8,
     "metadata": {},
     "output_type": "execute_result"
    }
   ],
   "source": [
    "c"
   ]
  },
  {
   "cell_type": "code",
   "execution_count": 12,
   "id": "2d760192-64f2-4fda-a50a-b61a587097cd",
   "metadata": {},
   "outputs": [
    {
     "data": {
      "text/plain": [
       "0 + 5 = 5\n",
       "5 - 8 = -3\n",
       "-3 * 7 = -21\n",
       "4 * 5 = 20"
      ]
     },
     "execution_count": 12,
     "metadata": {},
     "output_type": "execute_result"
    }
   ],
   "source": [
    "c.mul(4, 5)\n",
    "c"
   ]
  },
  {
   "cell_type": "code",
   "execution_count": 13,
   "id": "999dfc0a-db9b-4df2-b709-b9e99ff76dcb",
   "metadata": {},
   "outputs": [
    {
     "data": {
      "text/plain": [
       "1.6666666666666667"
      ]
     },
     "execution_count": 13,
     "metadata": {},
     "output_type": "execute_result"
    }
   ],
   "source": [
    "c.div(12)"
   ]
  },
  {
   "cell_type": "code",
   "execution_count": 14,
   "id": "d234cb1d-6d73-4c20-b728-a2eafcc592ae",
   "metadata": {},
   "outputs": [
    {
     "data": {
      "text/plain": [
       "0 + 5 = 5\n",
       "5 - 8 = -3\n",
       "-3 * 7 = -21\n",
       "4 * 5 = 20\n",
       "20 / 12 = 1.6667"
      ]
     },
     "execution_count": 14,
     "metadata": {},
     "output_type": "execute_result"
    }
   ],
   "source": [
    "c"
   ]
  },
  {
   "cell_type": "code",
   "execution_count": 6,
   "id": "7cb222c2-c34a-49a7-8f00-9206d373b642",
   "metadata": {},
   "outputs": [],
   "source": [
    "new_number = 5"
   ]
  },
  {
   "cell_type": "code",
   "execution_count": 9,
   "id": "454b431e-888f-41e7-8419-deaec5d2a709",
   "metadata": {},
   "outputs": [
    {
     "data": {
      "text/plain": [
       "int"
      ]
     },
     "execution_count": 9,
     "metadata": {},
     "output_type": "execute_result"
    }
   ],
   "source": [
    "new_number.__class__"
   ]
  },
  {
   "cell_type": "code",
   "execution_count": 8,
   "id": "cd53762c-3077-4eef-bec9-e777a47b76a5",
   "metadata": {},
   "outputs": [
    {
     "data": {
      "text/plain": [
       "int"
      ]
     },
     "execution_count": 8,
     "metadata": {},
     "output_type": "execute_result"
    }
   ],
   "source": [
    "type(new_number)"
   ]
  },
  {
   "cell_type": "code",
   "execution_count": 10,
   "id": "38239650-a3c6-4584-9813-215990e3bf78",
   "metadata": {},
   "outputs": [
    {
     "data": {
      "text/plain": [
       "'int'"
      ]
     },
     "execution_count": 10,
     "metadata": {},
     "output_type": "execute_result"
    }
   ],
   "source": [
    "new_number.__class__.__name__"
   ]
  },
  {
   "cell_type": "code",
   "execution_count": 12,
   "id": "b14cafc8-06fb-401f-bd2a-fea0d54cd1fc",
   "metadata": {},
   "outputs": [
    {
     "data": {
      "text/plain": [
       "0.6666666666666666"
      ]
     },
     "execution_count": 12,
     "metadata": {},
     "output_type": "execute_result"
    }
   ],
   "source": [
    "2/3"
   ]
  },
  {
   "cell_type": "code",
   "execution_count": 15,
   "id": "53d7d8be-5901-402b-88ed-0843fd28921c",
   "metadata": {},
   "outputs": [
    {
     "data": {
      "text/plain": [
       "True"
      ]
     },
     "execution_count": 15,
     "metadata": {},
     "output_type": "execute_result"
    }
   ],
   "source": [
    "'apple' < 'fig'"
   ]
  },
  {
   "cell_type": "code",
   "execution_count": 16,
   "id": "38ce8746-5efa-45f0-9757-2d7ab0a6cca3",
   "metadata": {},
   "outputs": [],
   "source": [
    "mylist = [1, 4, 'seven']"
   ]
  },
  {
   "cell_type": "code",
   "execution_count": 17,
   "id": "e5ab0d2d-5a41-46c4-9288-4ed392ff21ac",
   "metadata": {},
   "outputs": [],
   "source": [
    "mylist.remove(4)"
   ]
  },
  {
   "cell_type": "code",
   "execution_count": 18,
   "id": "30499b71-ee9f-402a-894d-ee0f92aca926",
   "metadata": {},
   "outputs": [
    {
     "data": {
      "text/plain": [
       "[1, 'seven']"
      ]
     },
     "execution_count": 18,
     "metadata": {},
     "output_type": "execute_result"
    }
   ],
   "source": [
    "mylist"
   ]
  },
  {
   "cell_type": "code",
   "execution_count": 19,
   "id": "fc38e79e-5155-4cc5-a857-19dde24a394b",
   "metadata": {},
   "outputs": [
    {
     "ename": "ValueError",
     "evalue": "list.remove(x): x not in list",
     "output_type": "error",
     "traceback": [
      "\u001b[31m---------------------------------------------------------------------------\u001b[39m",
      "\u001b[31mValueError\u001b[39m                                Traceback (most recent call last)",
      "\u001b[36mCell\u001b[39m\u001b[36m \u001b[39m\u001b[32mIn[19]\u001b[39m\u001b[32m, line 1\u001b[39m\n\u001b[32m----> \u001b[39m\u001b[32m1\u001b[39m \u001b[43mmylist\u001b[49m\u001b[43m.\u001b[49m\u001b[43mremove\u001b[49m\u001b[43m(\u001b[49m\u001b[32;43m7\u001b[39;49m\u001b[43m)\u001b[49m\n",
      "\u001b[31mValueError\u001b[39m: list.remove(x): x not in list"
     ]
    }
   ],
   "source": [
    "mylist.remove(7)"
   ]
  },
  {
   "cell_type": "markdown",
   "id": "8c4b68de-8966-4d6b-b812-8ae10fc61ef0",
   "metadata": {},
   "source": [
    "# Lab: Inheritance\n",
    "* create a type called FunnyList which has all the chocolately goodness of a list, but adds the following wrinkle:\n",
    "  * if two lists have same items but in different orders, they are considered equal\n",
    "  * e.g., __`[1, 2, 3]`__ == __`[3, 1, 2]`__\n",
    "* create a list class which has a __`.discard()`__ method analogous to the one in the set class"
   ]
  },
  {
   "cell_type": "code",
   "execution_count": 1,
   "id": "c8ad7865-9432-421f-bc28-2dd9a928bfc6",
   "metadata": {},
   "outputs": [],
   "source": [
    "class FunnyList(list):\n",
    "    \"\"\"FunnyList inherits from list and does two things:\n",
    "    1. \"soften\" equality so that [1, 2, 3] == [3, 1, 2]\n",
    "    2. adds .discard(), analogous to set.discard()\n",
    "    \"\"\"\n",
    "    def __eq__(self, other):\n",
    "        \"\"\"Redefine == so that items can be in any order. sorted() will work\n",
    "        if the lists are homogeneous, but we can use set() to handle cases\n",
    "        where they are heterogeneous. But then we lost uniqueness\n",
    "        \"\"\"\n",
    "        return sorted(self) == sorted(other) # whose \"==\" are we leaning on?\n",
    "\n",
    "\n",
    "    def discard(self, item):\n",
    "        if item in self: # is the item to be discard in this FunnyList?\n",
    "            self.remove(item)"
   ]
  },
  {
   "cell_type": "code",
   "execution_count": 2,
   "id": "d88aa514-66f0-4793-9073-a0cba7c5c848",
   "metadata": {},
   "outputs": [],
   "source": [
    "fl1 = FunnyList([1, 2, 3])\n",
    "fl2 = FunnyList([3, 1, 2])"
   ]
  },
  {
   "cell_type": "code",
   "execution_count": 3,
   "id": "9bc94155-b0b9-4fcd-b7fb-5a796755ddbc",
   "metadata": {},
   "outputs": [
    {
     "data": {
      "text/plain": [
       "True"
      ]
     },
     "execution_count": 3,
     "metadata": {},
     "output_type": "execute_result"
    }
   ],
   "source": [
    "fl1 == fl2"
   ]
  },
  {
   "cell_type": "code",
   "execution_count": 6,
   "id": "7236a74b-b6d0-4dc5-a57f-50d0f9faa7e6",
   "metadata": {},
   "outputs": [],
   "source": [
    "fl1.discard(1)"
   ]
  },
  {
   "cell_type": "code",
   "execution_count": 5,
   "id": "eb8e3b96-7ea0-4d10-8667-05baf64f1ad8",
   "metadata": {},
   "outputs": [
    {
     "data": {
      "text/plain": [
       "[2, 3]"
      ]
     },
     "execution_count": 5,
     "metadata": {},
     "output_type": "execute_result"
    }
   ],
   "source": [
    "fl1"
   ]
  },
  {
   "cell_type": "markdown",
   "id": "16d89ecf-c5eb-47af-99d4-07087327100a",
   "metadata": {},
   "source": [
    "## Lab: Inheritance\n",
    "* Create a \"ZanyInt\" class which inherits from int and adds and overrides certain methods:\n",
    "  * __`len()`__ doesn't work for standard ints but make sure it works for a __`ZanyInt`__\n",
    "  * make it so the __`str()`__ version of a ZanyInt is something odd, e.g., __`str(3)`__ return 'three', but __`str()`__ of other numbers returns the number with some leading and trailing spaces\n",
    "  * make it so + usually gives the right answer, but not always (use the __`random`__ module)"
   ]
  },
  {
   "cell_type": "code",
   "execution_count": 7,
   "id": "441cd231-4391-493e-9eb2-64fcdeaa1d3d",
   "metadata": {},
   "outputs": [],
   "source": [
    "import random"
   ]
  },
  {
   "cell_type": "code",
   "execution_count": 8,
   "id": "132ea6b4-6f67-49a7-8f5a-fd2bdbc7bd14",
   "metadata": {},
   "outputs": [
    {
     "data": {
      "text/plain": [
       "9"
      ]
     },
     "execution_count": 8,
     "metadata": {},
     "output_type": "execute_result"
    }
   ],
   "source": [
    "random.randint(1, 10)"
   ]
  },
  {
   "cell_type": "code",
   "execution_count": 9,
   "id": "d41c7009-4d3e-4b5a-8f00-08f4614b87ad",
   "metadata": {},
   "outputs": [
    {
     "data": {
      "text/plain": [
       "0.8680385361838445"
      ]
     },
     "execution_count": 9,
     "metadata": {},
     "output_type": "execute_result"
    }
   ],
   "source": [
    "random.random()"
   ]
  },
  {
   "cell_type": "code",
   "execution_count": 24,
   "id": "77f02828-df9a-4c3d-97b0-20481ca9537f",
   "metadata": {},
   "outputs": [],
   "source": [
    "class ZanyInt(int):\n",
    "    \"\"\"Add len() and make 2 changes to the int class:\n",
    "    1. str() returns something different\n",
    "    2. __add__() usually returns correct answer, but sometimes adds a small\n",
    "    float value to give the wrong answer\n",
    "    \"\"\"\n",
    "\n",
    "    def __str__(self):\n",
    "        if self == 3:\n",
    "            return 'three'\n",
    "        else:\n",
    "            # we can either convert to the base class (int), or \n",
    "            # we can call super() to \"get to\" the base class\n",
    "            return '     ' + str(int(self)) + '    '\n",
    "\n",
    "            \n",
    "    def __len__(self):\n",
    "        \"\"\"Return number of digits in the integer.\n",
    "\n",
    "        We need to str-ify the int in order to count the digits...but\n",
    "        if we re-define __str__ here we need to ensure we don't call *that*,\n",
    "        or we will have an infinite loop.\n",
    "        \"\"\"\n",
    "        # convert to int...\n",
    "        return len(str(int(self)))\n",
    "\n",
    "        # or...\n",
    "        return len(super().__str__())\n",
    "\n",
    "\n",
    "    def __add__(self, other):\n",
    "        import random\n",
    "        extra = 0\n",
    "\n",
    "        if random.random() > 0.9:\n",
    "            extra = random.random()\n",
    "\n",
    "        return int(self) + other + extra"
   ]
  },
  {
   "cell_type": "code",
   "execution_count": 30,
   "id": "91baff0c-88f9-4790-8722-304eb86dea18",
   "metadata": {},
   "outputs": [],
   "source": [
    "z = ZanyInt(31)\n",
    "zz = ZanyInt(3)"
   ]
  },
  {
   "cell_type": "code",
   "execution_count": 31,
   "id": "a290258c-2dbf-4777-a8cc-96b7ef018f8b",
   "metadata": {},
   "outputs": [
    {
     "data": {
      "text/plain": [
       "'three'"
      ]
     },
     "execution_count": 31,
     "metadata": {},
     "output_type": "execute_result"
    }
   ],
   "source": [
    "str(zz)"
   ]
  },
  {
   "cell_type": "code",
   "execution_count": 33,
   "id": "f4bb743f-446f-428c-a101-4cf222cd9826",
   "metadata": {},
   "outputs": [
    {
     "data": {
      "text/plain": [
       "(2, 1)"
      ]
     },
     "execution_count": 33,
     "metadata": {},
     "output_type": "execute_result"
    }
   ],
   "source": [
    "len(z), len(zz)"
   ]
  },
  {
   "cell_type": "code",
   "execution_count": 34,
   "id": "1ea7e25f-ce70-479a-90fd-99cc1ba41a37",
   "metadata": {},
   "outputs": [
    {
     "name": "stdout",
     "output_type": "stream",
     "text": [
      "33\n",
      "33\n",
      "33\n",
      "33.39680451498701\n",
      "33\n",
      "33\n",
      "33.29048312838794\n",
      "33\n",
      "33\n",
      "33\n"
     ]
    }
   ],
   "source": [
    "for _ in range(10):\n",
    "    print(z + 2)"
   ]
  },
  {
   "cell_type": "code",
   "execution_count": 36,
   "id": "0b852717-f513-424f-9b9e-c6cae9c31e79",
   "metadata": {},
   "outputs": [],
   "source": [
    "c = Calculator()"
   ]
  },
  {
   "cell_type": "code",
   "execution_count": 38,
   "id": "66b90e42-1c36-4c80-869c-7358d31278fb",
   "metadata": {},
   "outputs": [
    {
     "data": {
      "text/plain": [
       "5"
      ]
     },
     "execution_count": 38,
     "metadata": {},
     "output_type": "execute_result"
    }
   ],
   "source": [
    "c.add(5)"
   ]
  },
  {
   "cell_type": "code",
   "execution_count": 39,
   "id": "038be793-c0ab-45a5-a848-84346b9e67ec",
   "metadata": {},
   "outputs": [
    {
     "data": {
      "text/plain": [
       "3"
      ]
     },
     "execution_count": 39,
     "metadata": {},
     "output_type": "execute_result"
    }
   ],
   "source": [
    "c.sub(2)"
   ]
  },
  {
   "cell_type": "code",
   "execution_count": 40,
   "id": "fb0b4f07-0d94-434a-abad-33abb3dafee1",
   "metadata": {},
   "outputs": [
    {
     "data": {
      "text/plain": [
       "0 + 5 = 5\n",
       "5 - 2 = 3"
      ]
     },
     "execution_count": 40,
     "metadata": {},
     "output_type": "execute_result"
    }
   ],
   "source": [
    "c"
   ]
  },
  {
   "cell_type": "code",
   "execution_count": 41,
   "id": "cd940191-a5dd-426b-bfff-2c3789f54063",
   "metadata": {},
   "outputs": [
    {
     "data": {
      "text/plain": [
       "{'total': 3, 'calculations': ['0 + 5 = 5', '5 - 2 = 3']}"
      ]
     },
     "execution_count": 41,
     "metadata": {},
     "output_type": "execute_result"
    }
   ],
   "source": [
    "c.__dict__"
   ]
  },
  {
   "cell_type": "code",
   "execution_count": 42,
   "id": "8a9d77b3-ba8b-48e0-a30a-7e37f4cd7bf0",
   "metadata": {},
   "outputs": [
    {
     "data": {
      "text/plain": [
       "{'total': 3, 'calculations': ['0 + 5 = 5', '5 - 2 = 3']}"
      ]
     },
     "execution_count": 42,
     "metadata": {},
     "output_type": "execute_result"
    }
   ],
   "source": [
    "vars(c)"
   ]
  },
  {
   "cell_type": "code",
   "execution_count": 43,
   "id": "b0944485-d808-45d4-9b0e-98e29dc78696",
   "metadata": {},
   "outputs": [],
   "source": [
    "class Thing:\n",
    "    def __init__(self):\n",
    "        self.something = 1"
   ]
  },
  {
   "cell_type": "code",
   "execution_count": 44,
   "id": "3f69bb1e-67e1-4085-80c1-eb541abdff57",
   "metadata": {},
   "outputs": [],
   "source": [
    "t = Thing()"
   ]
  },
  {
   "cell_type": "code",
   "execution_count": 45,
   "id": "77564c51-c497-4f3b-8443-1472035a1446",
   "metadata": {},
   "outputs": [
    {
     "data": {
      "text/plain": [
       "{'something': 1}"
      ]
     },
     "execution_count": 45,
     "metadata": {},
     "output_type": "execute_result"
    }
   ],
   "source": [
    "vars(t)"
   ]
  },
  {
   "cell_type": "code",
   "execution_count": 46,
   "id": "5dff704b-7dfa-4a42-92ad-e0879c69aa86",
   "metadata": {},
   "outputs": [],
   "source": [
    "t.something_else = 2"
   ]
  },
  {
   "cell_type": "code",
   "execution_count": 47,
   "id": "6d020e38-9ed2-4931-8f28-f0e316a58a01",
   "metadata": {},
   "outputs": [
    {
     "data": {
      "text/plain": [
       "{'something': 1, 'something_else': 2}"
      ]
     },
     "execution_count": 47,
     "metadata": {},
     "output_type": "execute_result"
    }
   ],
   "source": [
    "t.__dict__"
   ]
  },
  {
   "cell_type": "code",
   "execution_count": 48,
   "id": "487b4780-cb60-404e-a866-945f3b88e172",
   "metadata": {},
   "outputs": [],
   "source": [
    "some_new_object = 'some value'"
   ]
  },
  {
   "cell_type": "code",
   "execution_count": 49,
   "id": "bfde177c-5bc8-4f9d-9ef3-68fb1b794ab8",
   "metadata": {},
   "outputs": [],
   "source": [
    "del some_new_object"
   ]
  },
  {
   "cell_type": "markdown",
   "id": "43ca55ca-0a74-4828-8cf0-8520799a80b7",
   "metadata": {},
   "source": [
    "## Lab: Class variables vs. Instance variables\n",
    "* create a class with an instance variable called __`name`__ which does the following:\n",
    "  * uses a class variable to keep track of the __`name`__...s of the objects that have been created\n",
    "* what if we wanted to know the names of the instances that exist currently, as opposed to the names of instances which have _ever_ been created\n",
    "  * hint: there is a __\\_\\_`del`\\_\\_()__ function"
   ]
  },
  {
   "cell_type": "code",
   "execution_count": 2,
   "id": "504da00d-1271-4e42-a9f2-f1077bba788c",
   "metadata": {},
   "outputs": [],
   "source": [
    "class Gazornin:\n",
    "    \"\"\"An object that keeps track of the name fields of all Gazornin\n",
    "    objects that have been created. That way we can query the list of\n",
    "    names and know the names of all objects (plus the count of how many\n",
    "    objects currently exist–if we remove the names of objects when we\n",
    "    delete them.\n",
    "    \"\"\"\n",
    "\n",
    "    # the below is a class variable (shared by all instances of the class)\n",
    "    # which contains the names of all of the objects that have been created\n",
    "    \n",
    "    all_names = []\n",
    "    \n",
    "    def __init__(self, name):\n",
    "        self.name = name # set instance variable\n",
    "        self.__class__.all_names.append(name) # add to class variable\n",
    "\n",
    "    \n",
    "    def __del__(self):\n",
    "        \"\"\"called when an object is deleted\"\"\"\n",
    "        print('removing', self.name)\n",
    "        self.__class__.all_names.remove(self.name)\n",
    "\n",
    "        \n",
    "    def get_all_names(self):\n",
    "        # ideally this would be a class method, not an instance method\n",
    "        return self.__class__.all_names"
   ]
  },
  {
   "cell_type": "code",
   "execution_count": 3,
   "id": "f2def4b0-b840-4c13-a7ea-df0de70f5434",
   "metadata": {},
   "outputs": [],
   "source": [
    "one = Gazornin('Taylor')\n",
    "two = Gazornin('Beyonce')"
   ]
  },
  {
   "cell_type": "code",
   "execution_count": 4,
   "id": "ba9830dd-1a0e-4382-8632-0d09aa707afc",
   "metadata": {},
   "outputs": [
    {
     "data": {
      "text/plain": [
       "['Taylor', 'Beyonce']"
      ]
     },
     "execution_count": 4,
     "metadata": {},
     "output_type": "execute_result"
    }
   ],
   "source": [
    "Gazornin.all_names"
   ]
  },
  {
   "cell_type": "code",
   "execution_count": 5,
   "id": "ce75fb61-adeb-48df-8e85-cc9c982f0980",
   "metadata": {},
   "outputs": [
    {
     "data": {
      "text/plain": [
       "['Taylor', 'Beyonce']"
      ]
     },
     "execution_count": 5,
     "metadata": {},
     "output_type": "execute_result"
    }
   ],
   "source": [
    "one.get_all_names()"
   ]
  },
  {
   "cell_type": "code",
   "execution_count": 6,
   "id": "157d321a-9529-4bcc-aed9-433f18f3a331",
   "metadata": {},
   "outputs": [
    {
     "name": "stdout",
     "output_type": "stream",
     "text": [
      "removing Taylor\n"
     ]
    }
   ],
   "source": [
    "del one"
   ]
  },
  {
   "cell_type": "code",
   "execution_count": 7,
   "id": "6c7b323d-d024-4aba-8abc-ca3849882bd3",
   "metadata": {},
   "outputs": [
    {
     "data": {
      "text/plain": [
       "['Beyonce']"
      ]
     },
     "execution_count": 7,
     "metadata": {},
     "output_type": "execute_result"
    }
   ],
   "source": [
    "Gazornin.all_names"
   ]
  },
  {
   "cell_type": "code",
   "execution_count": 8,
   "id": "ed15e11e-35a6-41ec-8a90-b06485abf44f",
   "metadata": {},
   "outputs": [
    {
     "name": "stdout",
     "output_type": "stream",
     "text": [
      "removing Beyonce\n"
     ]
    }
   ],
   "source": [
    "del two"
   ]
  },
  {
   "cell_type": "code",
   "execution_count": 9,
   "id": "2913cc2a-a5a0-4d2c-9d60-231c177c616c",
   "metadata": {},
   "outputs": [
    {
     "data": {
      "text/plain": [
       "[]"
      ]
     },
     "execution_count": 9,
     "metadata": {},
     "output_type": "execute_result"
    }
   ],
   "source": [
    "Gazornin.all_names"
   ]
  },
  {
   "cell_type": "code",
   "execution_count": 10,
   "id": "c185352e-9668-4dff-8c67-ef3c0cbcf83e",
   "metadata": {},
   "outputs": [],
   "source": [
    "d = {}"
   ]
  },
  {
   "cell_type": "code",
   "execution_count": 11,
   "id": "e085fc23-9bee-4223-bef6-99609a39b9cd",
   "metadata": {},
   "outputs": [
    {
     "ename": "KeyError",
     "evalue": "'notthere'",
     "output_type": "error",
     "traceback": [
      "\u001b[31m---------------------------------------------------------------------------\u001b[39m",
      "\u001b[31mKeyError\u001b[39m                                  Traceback (most recent call last)",
      "\u001b[36mCell\u001b[39m\u001b[36m \u001b[39m\u001b[32mIn[11]\u001b[39m\u001b[32m, line 1\u001b[39m\n\u001b[32m----> \u001b[39m\u001b[32m1\u001b[39m \u001b[43md\u001b[49m\u001b[43m[\u001b[49m\u001b[33;43m'\u001b[39;49m\u001b[33;43mnotthere\u001b[39;49m\u001b[33;43m'\u001b[39;49m\u001b[43m]\u001b[49m\n",
      "\u001b[31mKeyError\u001b[39m: 'notthere'"
     ]
    }
   ],
   "source": [
    "d['notthere']"
   ]
  },
  {
   "cell_type": "code",
   "execution_count": 14,
   "id": "cc1e8da7-79c1-40cd-a5d5-853966086243",
   "metadata": {},
   "outputs": [
    {
     "name": "stdout",
     "output_type": "stream",
     "text": [
      "something else\n"
     ]
    }
   ],
   "source": [
    "print(d.get('notthere', 'something else'))"
   ]
  },
  {
   "cell_type": "code",
   "execution_count": 15,
   "id": "65fc3f98-d67d-46d9-8e7a-ec826d5804c2",
   "metadata": {},
   "outputs": [],
   "source": [
    "point = 1, 2"
   ]
  },
  {
   "cell_type": "code",
   "execution_count": 16,
   "id": "133fb600-74e5-4388-80e9-8794d12e3892",
   "metadata": {},
   "outputs": [
    {
     "data": {
      "text/plain": [
       "(1, 2)"
      ]
     },
     "execution_count": 16,
     "metadata": {},
     "output_type": "execute_result"
    }
   ],
   "source": [
    "point"
   ]
  },
  {
   "cell_type": "code",
   "execution_count": 17,
   "id": "83066d58-8ab8-45ee-8bec-e55e0515ddcd",
   "metadata": {},
   "outputs": [
    {
     "data": {
      "text/plain": [
       "tuple"
      ]
     },
     "execution_count": 17,
     "metadata": {},
     "output_type": "execute_result"
    }
   ],
   "source": [
    "type(point)"
   ]
  },
  {
   "cell_type": "code",
   "execution_count": 19,
   "id": "e0b0e101-cb56-460f-a2bf-36c8589679b0",
   "metadata": {},
   "outputs": [
    {
     "data": {
      "text/plain": [
       "2"
      ]
     },
     "execution_count": 19,
     "metadata": {},
     "output_type": "execute_result"
    }
   ],
   "source": [
    "point[1]"
   ]
  },
  {
   "cell_type": "code",
   "execution_count": 20,
   "id": "89e8133d-3ddb-42c4-a976-882a571eb50f",
   "metadata": {},
   "outputs": [],
   "source": [
    "def f(x, y, z):\n",
    "    print(x, y, z)"
   ]
  },
  {
   "cell_type": "code",
   "execution_count": 21,
   "id": "c533db81-b72a-472f-ab21-6dffa3d76894",
   "metadata": {},
   "outputs": [],
   "source": [
    "params = [1, 2, 3]"
   ]
  },
  {
   "cell_type": "code",
   "execution_count": 22,
   "id": "90e0de5a-4dce-4fc9-8f5f-c33f59b9da4a",
   "metadata": {},
   "outputs": [
    {
     "ename": "TypeError",
     "evalue": "f() missing 2 required positional arguments: 'y' and 'z'",
     "output_type": "error",
     "traceback": [
      "\u001b[31m---------------------------------------------------------------------------\u001b[39m",
      "\u001b[31mTypeError\u001b[39m                                 Traceback (most recent call last)",
      "\u001b[36mCell\u001b[39m\u001b[36m \u001b[39m\u001b[32mIn[22]\u001b[39m\u001b[32m, line 1\u001b[39m\n\u001b[32m----> \u001b[39m\u001b[32m1\u001b[39m \u001b[43mf\u001b[49m\u001b[43m(\u001b[49m\u001b[43mparams\u001b[49m\u001b[43m)\u001b[49m\n",
      "\u001b[31mTypeError\u001b[39m: f() missing 2 required positional arguments: 'y' and 'z'"
     ]
    }
   ],
   "source": [
    "f(params)"
   ]
  },
  {
   "cell_type": "code",
   "execution_count": 23,
   "id": "d594cd0d-6765-4e01-8762-d8f002edea9d",
   "metadata": {},
   "outputs": [
    {
     "name": "stdout",
     "output_type": "stream",
     "text": [
      "1 2 3\n"
     ]
    }
   ],
   "source": [
    "f(*params)"
   ]
  },
  {
   "cell_type": "code",
   "execution_count": 24,
   "id": "b34d6f23-67fe-48b5-87ce-11cfc126ecfb",
   "metadata": {},
   "outputs": [],
   "source": [
    "nums = list(range(10))"
   ]
  },
  {
   "cell_type": "code",
   "execution_count": 25,
   "id": "c9aae3fe-0170-46e3-a4f0-dbd5a59dfc58",
   "metadata": {},
   "outputs": [
    {
     "name": "stdout",
     "output_type": "stream",
     "text": [
      "[0, 1, 2, 3, 4, 5, 6, 7, 8, 9]\n"
     ]
    }
   ],
   "source": [
    "print(nums)"
   ]
  },
  {
   "cell_type": "code",
   "execution_count": 26,
   "id": "00e29cbd-9d5b-4829-b481-2f46e99e5f15",
   "metadata": {},
   "outputs": [],
   "source": [
    "first, second, *last = nums"
   ]
  },
  {
   "cell_type": "code",
   "execution_count": 28,
   "id": "e7f1f4c7-de1e-47b8-8ce0-cab89a1a31df",
   "metadata": {},
   "outputs": [
    {
     "data": {
      "text/plain": [
       "[2, 3, 4, 5, 6, 7, 8, 9]"
      ]
     },
     "execution_count": 28,
     "metadata": {},
     "output_type": "execute_result"
    }
   ],
   "source": [
    "last"
   ]
  },
  {
   "cell_type": "code",
   "execution_count": 29,
   "id": "b65504c8-07ee-41dc-8b95-14c9d9a48365",
   "metadata": {},
   "outputs": [],
   "source": [
    "first, *middle, last = nums"
   ]
  },
  {
   "cell_type": "code",
   "execution_count": 30,
   "id": "b316a22a-b69e-4de6-8ab6-5e73a9e4524d",
   "metadata": {},
   "outputs": [
    {
     "data": {
      "text/plain": [
       "[1, 2, 3, 4, 5, 6, 7, 8]"
      ]
     },
     "execution_count": 30,
     "metadata": {},
     "output_type": "execute_result"
    }
   ],
   "source": [
    "middle"
   ]
  },
  {
   "cell_type": "code",
   "execution_count": 31,
   "id": "8d97393f-381f-472e-9691-d408869323ca",
   "metadata": {},
   "outputs": [],
   "source": [
    "relevant1, *_, relevant2 = nums"
   ]
  },
  {
   "cell_type": "code",
   "execution_count": 33,
   "id": "4084c990-a326-4353-8d15-6b08d41ee14f",
   "metadata": {},
   "outputs": [
    {
     "data": {
      "text/plain": [
       "(0, 9)"
      ]
     },
     "execution_count": 33,
     "metadata": {},
     "output_type": "execute_result"
    }
   ],
   "source": [
    "relevant1, relevant2"
   ]
  },
  {
   "cell_type": "code",
   "execution_count": 34,
   "id": "e3f0c6e1-9575-4932-b584-2d91d147e7c1",
   "metadata": {},
   "outputs": [],
   "source": [
    "from collections import namedtuple"
   ]
  },
  {
   "cell_type": "code",
   "execution_count": 35,
   "id": "5e931e7b-5145-4e8d-84a9-45aa54224349",
   "metadata": {},
   "outputs": [],
   "source": [
    "Card = namedtuple('Card', 'rank suit')"
   ]
  },
  {
   "cell_type": "code",
   "execution_count": 36,
   "id": "ef199f8b-30fb-4b1b-b80c-106df4cb9859",
   "metadata": {},
   "outputs": [
    {
     "data": {
      "text/plain": [
       "type"
      ]
     },
     "execution_count": 36,
     "metadata": {},
     "output_type": "execute_result"
    }
   ],
   "source": [
    "type(Card)"
   ]
  },
  {
   "cell_type": "code",
   "execution_count": 39,
   "id": "63c9705c-fe55-43fc-848c-d43d202525bd",
   "metadata": {},
   "outputs": [
    {
     "data": {
      "text/plain": [
       "['2', '3', '4', '5', '6', '7', '8', '9', '10', 'J', 'Q', 'K', 'A']"
      ]
     },
     "execution_count": 39,
     "metadata": {},
     "output_type": "execute_result"
    }
   ],
   "source": [
    "ranks = [str(rank) for rank in range(2, 11)] + list('JQKA')\n",
    "ranks"
   ]
  },
  {
   "cell_type": "code",
   "execution_count": 37,
   "id": "32248286-84a4-450d-baed-6d1cba7ab200",
   "metadata": {},
   "outputs": [
    {
     "data": {
      "text/plain": [
       "['2', '3', '4', '5', '6', '7', '8', '9', '10']"
      ]
     },
     "execution_count": 37,
     "metadata": {},
     "output_type": "execute_result"
    }
   ],
   "source": [
    "[str(rank) for rank in range(2, 11)]"
   ]
  },
  {
   "cell_type": "code",
   "execution_count": 38,
   "id": "03abc162-a0dd-438d-a50b-87e8ea97e1ac",
   "metadata": {},
   "outputs": [
    {
     "data": {
      "text/plain": [
       "['J', 'Q', 'K', 'A']"
      ]
     },
     "execution_count": 38,
     "metadata": {},
     "output_type": "execute_result"
    }
   ],
   "source": [
    "list('JQKA')"
   ]
  },
  {
   "cell_type": "code",
   "execution_count": 40,
   "id": "2c5cc52a-bf1a-4ed1-b124-92b43252abac",
   "metadata": {},
   "outputs": [],
   "source": [
    "suits = 'clubs diamonds hearts spades'.split()"
   ]
  },
  {
   "cell_type": "code",
   "execution_count": 41,
   "id": "23e5d6f7-fbb8-4275-a711-9b919aa67351",
   "metadata": {},
   "outputs": [
    {
     "data": {
      "text/plain": [
       "['clubs', 'diamonds', 'hearts', 'spades']"
      ]
     },
     "execution_count": 41,
     "metadata": {},
     "output_type": "execute_result"
    }
   ],
   "source": [
    "suits"
   ]
  },
  {
   "cell_type": "code",
   "execution_count": 45,
   "id": "c4aff8ed-0c3b-407e-9bb7-7f711700b816",
   "metadata": {},
   "outputs": [],
   "source": [
    "deck = [Card(rank, suit) for suit in suits\n",
    "                           for rank in ranks]"
   ]
  },
  {
   "cell_type": "code",
   "execution_count": 46,
   "id": "7978526e-aeaa-4fb2-929d-525359a0ec0b",
   "metadata": {},
   "outputs": [
    {
     "data": {
      "text/plain": [
       "52"
      ]
     },
     "execution_count": 46,
     "metadata": {},
     "output_type": "execute_result"
    }
   ],
   "source": [
    "len(deck)"
   ]
  },
  {
   "cell_type": "code",
   "execution_count": 47,
   "id": "cac371a2-4b8c-4e02-8bf5-fca8e72fee5c",
   "metadata": {},
   "outputs": [
    {
     "name": "stdout",
     "output_type": "stream",
     "text": [
      "[Card(rank='2', suit='clubs'), Card(rank='3', suit='clubs'), Card(rank='4', suit='clubs'), Card(rank='5', suit='clubs'), Card(rank='6', suit='clubs'), Card(rank='7', suit='clubs'), Card(rank='8', suit='clubs'), Card(rank='9', suit='clubs'), Card(rank='10', suit='clubs'), Card(rank='J', suit='clubs'), Card(rank='Q', suit='clubs'), Card(rank='K', suit='clubs'), Card(rank='A', suit='clubs'), Card(rank='2', suit='diamonds'), Card(rank='3', suit='diamonds'), Card(rank='4', suit='diamonds'), Card(rank='5', suit='diamonds'), Card(rank='6', suit='diamonds'), Card(rank='7', suit='diamonds'), Card(rank='8', suit='diamonds'), Card(rank='9', suit='diamonds'), Card(rank='10', suit='diamonds'), Card(rank='J', suit='diamonds'), Card(rank='Q', suit='diamonds'), Card(rank='K', suit='diamonds'), Card(rank='A', suit='diamonds'), Card(rank='2', suit='hearts'), Card(rank='3', suit='hearts'), Card(rank='4', suit='hearts'), Card(rank='5', suit='hearts'), Card(rank='6', suit='hearts'), Card(rank='7', suit='hearts'), Card(rank='8', suit='hearts'), Card(rank='9', suit='hearts'), Card(rank='10', suit='hearts'), Card(rank='J', suit='hearts'), Card(rank='Q', suit='hearts'), Card(rank='K', suit='hearts'), Card(rank='A', suit='hearts'), Card(rank='2', suit='spades'), Card(rank='3', suit='spades'), Card(rank='4', suit='spades'), Card(rank='5', suit='spades'), Card(rank='6', suit='spades'), Card(rank='7', suit='spades'), Card(rank='8', suit='spades'), Card(rank='9', suit='spades'), Card(rank='10', suit='spades'), Card(rank='J', suit='spades'), Card(rank='Q', suit='spades'), Card(rank='K', suit='spades'), Card(rank='A', suit='spades')]\n"
     ]
    }
   ],
   "source": [
    "print(deck)"
   ]
  },
  {
   "cell_type": "code",
   "execution_count": 48,
   "id": "84b9d354-525c-4b81-9f2a-152931de7e80",
   "metadata": {},
   "outputs": [],
   "source": [
    "import random"
   ]
  },
  {
   "cell_type": "code",
   "execution_count": 49,
   "id": "1a47b9e4-4caf-42ed-96ec-8c8686671c6b",
   "metadata": {},
   "outputs": [
    {
     "name": "stdout",
     "output_type": "stream",
     "text": [
      "Help on module random:\n",
      "\n",
      "NAME\n",
      "    random - Random variable generators.\n",
      "\n",
      "MODULE REFERENCE\n",
      "    https://docs.python.org/3.14/library/random.html\n",
      "\n",
      "    The following documentation is automatically generated from the Python\n",
      "    source files.  It may be incomplete, incorrect or include features that\n",
      "    are considered implementation detail and may vary between Python\n",
      "    implementations.  When in doubt, consult the module reference at the\n",
      "    location listed above.\n",
      "\n",
      "DESCRIPTION\n",
      "        bytes\n",
      "        -----\n",
      "               uniform bytes (values between 0 and 255)\n",
      "\n",
      "        integers\n",
      "        --------\n",
      "               uniform within range\n",
      "\n",
      "        sequences\n",
      "        ---------\n",
      "               pick random element\n",
      "               pick random sample\n",
      "               pick weighted random sample\n",
      "               generate random permutation\n",
      "\n",
      "        distributions on the real line:\n",
      "        ------------------------------\n",
      "               uniform\n",
      "               triangular\n",
      "               normal (Gaussian)\n",
      "               lognormal\n",
      "               negative exponential\n",
      "               gamma\n",
      "               beta\n",
      "               pareto\n",
      "               Weibull\n",
      "\n",
      "        distributions on the circle (angles 0 to 2pi)\n",
      "        ---------------------------------------------\n",
      "               circular uniform\n",
      "               von Mises\n",
      "\n",
      "        discrete distributions\n",
      "        ----------------------\n",
      "               binomial\n",
      "\n",
      "\n",
      "    General notes on the underlying Mersenne Twister core generator:\n",
      "\n",
      "    * The period is 2**19937-1.\n",
      "    * It is one of the most extensively tested generators in existence.\n",
      "    * The random() method is implemented in C, executes in a single Python step,\n",
      "      and is, therefore, threadsafe.\n",
      "\n",
      "CLASSES\n",
      "    _random.Random(builtins.object)\n",
      "        Random\n",
      "            SystemRandom\n",
      "\n",
      "    class Random(_random.Random)\n",
      "     |  Random(x=None)\n",
      "     |\n",
      "     |  Random number generator base class used by bound module functions.\n",
      "     |\n",
      "     |  Used to instantiate instances of Random to get generators that don't\n",
      "     |  share state.\n",
      "     |\n",
      "     |  Class Random can also be subclassed if you want to use a different basic\n",
      "     |  generator of your own devising: in that case, override the following\n",
      "     |  methods:  random(), seed(), getstate(), and setstate().\n",
      "     |  Optionally, implement a getrandbits() method so that randrange()\n",
      "     |  can cover arbitrarily large ranges.\n",
      "     |\n",
      "     |  Method resolution order:\n",
      "     |      Random\n",
      "     |      _random.Random\n",
      "     |      builtins.object\n",
      "     |\n",
      "     |  Methods defined here:\n",
      "     |\n",
      "     |  __getstate__(self)\n",
      "     |      Helper for pickle.\n",
      "     |\n",
      "     |  __init__(self, x=None)\n",
      "     |      Initialize an instance.\n",
      "     |\n",
      "     |      Optional argument x controls seeding, as for Random.seed().\n",
      "     |\n",
      "     |  __reduce__(self)\n",
      "     |      Helper for pickle.\n",
      "     |\n",
      "     |  __setstate__(self, state)\n",
      "     |\n",
      "     |  betavariate(self, alpha, beta)\n",
      "     |      Beta distribution.\n",
      "     |\n",
      "     |      Conditions on the parameters are alpha > 0 and beta > 0.\n",
      "     |      Returned values range between 0 and 1.\n",
      "     |\n",
      "     |      The mean (expected value) and variance of the random variable are:\n",
      "     |\n",
      "     |          E[X] = alpha / (alpha + beta)\n",
      "     |          Var[X] = alpha * beta / ((alpha + beta)**2 * (alpha + beta + 1))\n",
      "     |\n",
      "     |  binomialvariate(self, n=1, p=0.5)\n",
      "     |      Binomial random variable.\n",
      "     |\n",
      "     |      Gives the number of successes for *n* independent trials\n",
      "     |      with the probability of success in each trial being *p*:\n",
      "     |\n",
      "     |          sum(random() < p for i in range(n))\n",
      "     |\n",
      "     |      Returns an integer in the range:\n",
      "     |\n",
      "     |          0 <= X <= n\n",
      "     |\n",
      "     |      The integer is chosen with the probability:\n",
      "     |\n",
      "     |          P(X == k) = math.comb(n, k) * p ** k * (1 - p) ** (n - k)\n",
      "     |\n",
      "     |      The mean (expected value) and variance of the random variable are:\n",
      "     |\n",
      "     |          E[X] = n * p\n",
      "     |          Var[X] = n * p * (1 - p)\n",
      "     |\n",
      "     |  choice(self, seq)\n",
      "     |      Choose a random element from a non-empty sequence.\n",
      "     |\n",
      "     |  choices(self, population, weights=None, *, cum_weights=None, k=1)\n",
      "     |      Return a k sized list of population elements chosen with replacement.\n",
      "     |\n",
      "     |      If the relative weights or cumulative weights are not specified,\n",
      "     |      the selections are made with equal probability.\n",
      "     |\n",
      "     |  expovariate(self, lambd=1.0)\n",
      "     |      Exponential distribution.\n",
      "     |\n",
      "     |      lambd is 1.0 divided by the desired mean.  It should be\n",
      "     |      nonzero.  (The parameter would be called \"lambda\", but that is\n",
      "     |      a reserved word in Python.)  Returned values range from 0 to\n",
      "     |      positive infinity if lambd is positive, and from negative\n",
      "     |      infinity to 0 if lambd is negative.\n",
      "     |\n",
      "     |      The mean (expected value) and variance of the random variable are:\n",
      "     |\n",
      "     |          E[X] = 1 / lambd\n",
      "     |          Var[X] = 1 / lambd ** 2\n",
      "     |\n",
      "     |  gammavariate(self, alpha, beta)\n",
      "     |      Gamma distribution.  Not the gamma function!\n",
      "     |\n",
      "     |      Conditions on the parameters are alpha > 0 and beta > 0.\n",
      "     |\n",
      "     |      The probability distribution function is:\n",
      "     |\n",
      "     |                  x ** (alpha - 1) * math.exp(-x / beta)\n",
      "     |        pdf(x) =  --------------------------------------\n",
      "     |                    math.gamma(alpha) * beta ** alpha\n",
      "     |\n",
      "     |      The mean (expected value) and variance of the random variable are:\n",
      "     |\n",
      "     |          E[X] = alpha * beta\n",
      "     |          Var[X] = alpha * beta ** 2\n",
      "     |\n",
      "     |  gauss(self, mu=0.0, sigma=1.0)\n",
      "     |      Gaussian distribution.\n",
      "     |\n",
      "     |      mu is the mean, and sigma is the standard deviation.  This is\n",
      "     |      slightly faster than the normalvariate() function.\n",
      "     |\n",
      "     |      Not thread-safe without a lock around calls.\n",
      "     |\n",
      "     |  getstate(self)\n",
      "     |      Return internal state; can be passed to setstate() later.\n",
      "     |\n",
      "     |  lognormvariate(self, mu, sigma)\n",
      "     |      Log normal distribution.\n",
      "     |\n",
      "     |      If you take the natural logarithm of this distribution, you'll get a\n",
      "     |      normal distribution with mean mu and standard deviation sigma.\n",
      "     |      mu can have any value, and sigma must be greater than zero.\n",
      "     |\n",
      "     |  normalvariate(self, mu=0.0, sigma=1.0)\n",
      "     |      Normal distribution.\n",
      "     |\n",
      "     |      mu is the mean, and sigma is the standard deviation.\n",
      "     |\n",
      "     |  paretovariate(self, alpha)\n",
      "     |      Pareto distribution.  alpha is the shape parameter.\n",
      "     |\n",
      "     |  randbytes(self, n)\n",
      "     |      Generate n random bytes.\n",
      "     |\n",
      "     |  randint(self, a, b)\n",
      "     |      Return random integer in range [a, b], including both end points.\n",
      "     |\n",
      "     |  randrange(self, start, stop=None, step=1)\n",
      "     |      Choose a random item from range(stop) or range(start, stop[, step]).\n",
      "     |\n",
      "     |      Roughly equivalent to ``choice(range(start, stop, step))`` but\n",
      "     |      supports arbitrarily large ranges and is optimized for common cases.\n",
      "     |\n",
      "     |  sample(self, population, k, *, counts=None)\n",
      "     |      Chooses k unique random elements from a population sequence.\n",
      "     |\n",
      "     |      Returns a new list containing elements from the population while\n",
      "     |      leaving the original population unchanged.  The resulting list is\n",
      "     |      in selection order so that all sub-slices will also be valid random\n",
      "     |      samples.  This allows raffle winners (the sample) to be partitioned\n",
      "     |      into grand prize and second place winners (the subslices).\n",
      "     |\n",
      "     |      Members of the population need not be hashable or unique.  If the\n",
      "     |      population contains repeats, then each occurrence is a possible\n",
      "     |      selection in the sample.\n",
      "     |\n",
      "     |      Repeated elements can be specified one at a time or with the optional\n",
      "     |      counts parameter.  For example:\n",
      "     |\n",
      "     |          sample(['red', 'blue'], counts=[4, 2], k=5)\n",
      "     |\n",
      "     |      is equivalent to:\n",
      "     |\n",
      "     |          sample(['red', 'red', 'red', 'red', 'blue', 'blue'], k=5)\n",
      "     |\n",
      "     |      To choose a sample from a range of integers, use range() for the\n",
      "     |      population argument.  This is especially fast and space efficient\n",
      "     |      for sampling from a large population:\n",
      "     |\n",
      "     |          sample(range(10000000), 60)\n",
      "     |\n",
      "     |  seed(self, a=None, version=2)\n",
      "     |      Initialize internal state from a seed.\n",
      "     |\n",
      "     |      The only supported seed types are None, int, float,\n",
      "     |      str, bytes, and bytearray.\n",
      "     |\n",
      "     |      None or no argument seeds from current time or from an operating\n",
      "     |      system specific randomness source if available.\n",
      "     |\n",
      "     |      If *a* is an int, all bits are used.\n",
      "     |\n",
      "     |      For version 2 (the default), all of the bits are used if *a* is a str,\n",
      "     |      bytes, or bytearray.  For version 1 (provided for reproducing random\n",
      "     |      sequences from older versions of Python), the algorithm for str and\n",
      "     |      bytes generates a narrower range of seeds.\n",
      "     |\n",
      "     |  setstate(self, state)\n",
      "     |      Restore internal state from object returned by getstate().\n",
      "     |\n",
      "     |  shuffle(self, x)\n",
      "     |      Shuffle list x in place, and return None.\n",
      "     |\n",
      "     |  triangular(self, low=0.0, high=1.0, mode=None)\n",
      "     |      Triangular distribution.\n",
      "     |\n",
      "     |      Continuous distribution bounded by given lower and upper limits,\n",
      "     |      and having a given mode value in-between.\n",
      "     |\n",
      "     |      http://en.wikipedia.org/wiki/Triangular_distribution\n",
      "     |\n",
      "     |      The mean (expected value) and variance of the random variable are:\n",
      "     |\n",
      "     |          E[X] = (low + high + mode) / 3\n",
      "     |          Var[X] = (low**2 + high**2 + mode**2 - low*high - low*mode - high*mode) / 18\n",
      "     |\n",
      "     |  uniform(self, a, b)\n",
      "     |      Get a random number in the range [a, b) or [a, b] depending on rounding.\n",
      "     |\n",
      "     |      The mean (expected value) and variance of the random variable are:\n",
      "     |\n",
      "     |          E[X] = (a + b) / 2\n",
      "     |          Var[X] = (b - a) ** 2 / 12\n",
      "     |\n",
      "     |  vonmisesvariate(self, mu, kappa)\n",
      "     |      Circular data distribution.\n",
      "     |\n",
      "     |      mu is the mean angle, expressed in radians between 0 and 2*pi, and\n",
      "     |      kappa is the concentration parameter, which must be greater than or\n",
      "     |      equal to zero.  If kappa is equal to zero, this distribution reduces\n",
      "     |      to a uniform random angle over the range 0 to 2*pi.\n",
      "     |\n",
      "     |  weibullvariate(self, alpha, beta)\n",
      "     |      Weibull distribution.\n",
      "     |\n",
      "     |      alpha is the scale parameter and beta is the shape parameter.\n",
      "     |\n",
      "     |  ----------------------------------------------------------------------\n",
      "     |  Class methods defined here:\n",
      "     |\n",
      "     |  __init_subclass__(**kwargs)\n",
      "     |      Control how subclasses generate random integers.\n",
      "     |\n",
      "     |      The algorithm a subclass can use depends on the random() and/or\n",
      "     |      getrandbits() implementation available to it and determines\n",
      "     |      whether it can generate random integers from arbitrarily large\n",
      "     |      ranges.\n",
      "     |\n",
      "     |  ----------------------------------------------------------------------\n",
      "     |  Data descriptors defined here:\n",
      "     |\n",
      "     |  __dict__\n",
      "     |      dictionary for instance variables\n",
      "     |\n",
      "     |  __weakref__\n",
      "     |      list of weak references to the object\n",
      "     |\n",
      "     |  ----------------------------------------------------------------------\n",
      "     |  Data and other attributes defined here:\n",
      "     |\n",
      "     |  VERSION = 3\n",
      "     |\n",
      "     |  ----------------------------------------------------------------------\n",
      "     |  Methods inherited from _random.Random:\n",
      "     |\n",
      "     |  getrandbits(self, k, /)\n",
      "     |      getrandbits(k) -> x.  Generates an int with k random bits.\n",
      "     |\n",
      "     |  random(self, /)\n",
      "     |      random() -> x in the interval [0, 1).\n",
      "     |\n",
      "     |  ----------------------------------------------------------------------\n",
      "     |  Static methods inherited from _random.Random:\n",
      "     |\n",
      "     |  __new__(*args, **kwargs) class method of _random.Random\n",
      "     |      Create and return a new object.  See help(type) for accurate signature.\n",
      "\n",
      "    class SystemRandom(Random)\n",
      "     |  SystemRandom(x=None)\n",
      "     |\n",
      "     |  Alternate random number generator using sources provided\n",
      "     |  by the operating system (such as /dev/urandom on Unix or\n",
      "     |  CryptGenRandom on Windows).\n",
      "     |\n",
      "     |   Not available on all systems (see os.urandom() for details).\n",
      "     |\n",
      "     |  Method resolution order:\n",
      "     |      SystemRandom\n",
      "     |      Random\n",
      "     |      _random.Random\n",
      "     |      builtins.object\n",
      "     |\n",
      "     |  Methods defined here:\n",
      "     |\n",
      "     |  getrandbits(self, k)\n",
      "     |      getrandbits(k) -> x.  Generates an int with k random bits.\n",
      "     |\n",
      "     |  getstate = _notimplemented(self, *args, **kwds)\n",
      "     |\n",
      "     |  randbytes(self, n)\n",
      "     |      Generate n random bytes.\n",
      "     |\n",
      "     |  random(self)\n",
      "     |      Get the next random number in the range 0.0 <= X < 1.0.\n",
      "     |\n",
      "     |  seed(self, *args, **kwds)\n",
      "     |      Stub method.  Not used for a system random number generator.\n",
      "     |\n",
      "     |  setstate = _notimplemented(self, *args, **kwds)\n",
      "     |\n",
      "     |  ----------------------------------------------------------------------\n",
      "     |  Methods inherited from Random:\n",
      "     |\n",
      "     |  __getstate__(self)\n",
      "     |      Helper for pickle.\n",
      "     |\n",
      "     |  __init__(self, x=None)\n",
      "     |      Initialize an instance.\n",
      "     |\n",
      "     |      Optional argument x controls seeding, as for Random.seed().\n",
      "     |\n",
      "     |  __reduce__(self)\n",
      "     |      Helper for pickle.\n",
      "     |\n",
      "     |  __setstate__(self, state)\n",
      "     |\n",
      "     |  betavariate(self, alpha, beta)\n",
      "     |      Beta distribution.\n",
      "     |\n",
      "     |      Conditions on the parameters are alpha > 0 and beta > 0.\n",
      "     |      Returned values range between 0 and 1.\n",
      "     |\n",
      "     |      The mean (expected value) and variance of the random variable are:\n",
      "     |\n",
      "     |          E[X] = alpha / (alpha + beta)\n",
      "     |          Var[X] = alpha * beta / ((alpha + beta)**2 * (alpha + beta + 1))\n",
      "     |\n",
      "     |  binomialvariate(self, n=1, p=0.5)\n",
      "     |      Binomial random variable.\n",
      "     |\n",
      "     |      Gives the number of successes for *n* independent trials\n",
      "     |      with the probability of success in each trial being *p*:\n",
      "     |\n",
      "     |          sum(random() < p for i in range(n))\n",
      "     |\n",
      "     |      Returns an integer in the range:\n",
      "     |\n",
      "     |          0 <= X <= n\n",
      "     |\n",
      "     |      The integer is chosen with the probability:\n",
      "     |\n",
      "     |          P(X == k) = math.comb(n, k) * p ** k * (1 - p) ** (n - k)\n",
      "     |\n",
      "     |      The mean (expected value) and variance of the random variable are:\n",
      "     |\n",
      "     |          E[X] = n * p\n",
      "     |          Var[X] = n * p * (1 - p)\n",
      "     |\n",
      "     |  choice(self, seq)\n",
      "     |      Choose a random element from a non-empty sequence.\n",
      "     |\n",
      "     |  choices(self, population, weights=None, *, cum_weights=None, k=1)\n",
      "     |      Return a k sized list of population elements chosen with replacement.\n",
      "     |\n",
      "     |      If the relative weights or cumulative weights are not specified,\n",
      "     |      the selections are made with equal probability.\n",
      "     |\n",
      "     |  expovariate(self, lambd=1.0)\n",
      "     |      Exponential distribution.\n",
      "     |\n",
      "     |      lambd is 1.0 divided by the desired mean.  It should be\n",
      "     |      nonzero.  (The parameter would be called \"lambda\", but that is\n",
      "     |      a reserved word in Python.)  Returned values range from 0 to\n",
      "     |      positive infinity if lambd is positive, and from negative\n",
      "     |      infinity to 0 if lambd is negative.\n",
      "     |\n",
      "     |      The mean (expected value) and variance of the random variable are:\n",
      "     |\n",
      "     |          E[X] = 1 / lambd\n",
      "     |          Var[X] = 1 / lambd ** 2\n",
      "     |\n",
      "     |  gammavariate(self, alpha, beta)\n",
      "     |      Gamma distribution.  Not the gamma function!\n",
      "     |\n",
      "     |      Conditions on the parameters are alpha > 0 and beta > 0.\n",
      "     |\n",
      "     |      The probability distribution function is:\n",
      "     |\n",
      "     |                  x ** (alpha - 1) * math.exp(-x / beta)\n",
      "     |        pdf(x) =  --------------------------------------\n",
      "     |                    math.gamma(alpha) * beta ** alpha\n",
      "     |\n",
      "     |      The mean (expected value) and variance of the random variable are:\n",
      "     |\n",
      "     |          E[X] = alpha * beta\n",
      "     |          Var[X] = alpha * beta ** 2\n",
      "     |\n",
      "     |  gauss(self, mu=0.0, sigma=1.0)\n",
      "     |      Gaussian distribution.\n",
      "     |\n",
      "     |      mu is the mean, and sigma is the standard deviation.  This is\n",
      "     |      slightly faster than the normalvariate() function.\n",
      "     |\n",
      "     |      Not thread-safe without a lock around calls.\n",
      "     |\n",
      "     |  lognormvariate(self, mu, sigma)\n",
      "     |      Log normal distribution.\n",
      "     |\n",
      "     |      If you take the natural logarithm of this distribution, you'll get a\n",
      "     |      normal distribution with mean mu and standard deviation sigma.\n",
      "     |      mu can have any value, and sigma must be greater than zero.\n",
      "     |\n",
      "     |  normalvariate(self, mu=0.0, sigma=1.0)\n",
      "     |      Normal distribution.\n",
      "     |\n",
      "     |      mu is the mean, and sigma is the standard deviation.\n",
      "     |\n",
      "     |  paretovariate(self, alpha)\n",
      "     |      Pareto distribution.  alpha is the shape parameter.\n",
      "     |\n",
      "     |  randint(self, a, b)\n",
      "     |      Return random integer in range [a, b], including both end points.\n",
      "     |\n",
      "     |  randrange(self, start, stop=None, step=1)\n",
      "     |      Choose a random item from range(stop) or range(start, stop[, step]).\n",
      "     |\n",
      "     |      Roughly equivalent to ``choice(range(start, stop, step))`` but\n",
      "     |      supports arbitrarily large ranges and is optimized for common cases.\n",
      "     |\n",
      "     |  sample(self, population, k, *, counts=None)\n",
      "     |      Chooses k unique random elements from a population sequence.\n",
      "     |\n",
      "     |      Returns a new list containing elements from the population while\n",
      "     |      leaving the original population unchanged.  The resulting list is\n",
      "     |      in selection order so that all sub-slices will also be valid random\n",
      "     |      samples.  This allows raffle winners (the sample) to be partitioned\n",
      "     |      into grand prize and second place winners (the subslices).\n",
      "     |\n",
      "     |      Members of the population need not be hashable or unique.  If the\n",
      "     |      population contains repeats, then each occurrence is a possible\n",
      "     |      selection in the sample.\n",
      "     |\n",
      "     |      Repeated elements can be specified one at a time or with the optional\n",
      "     |      counts parameter.  For example:\n",
      "     |\n",
      "     |          sample(['red', 'blue'], counts=[4, 2], k=5)\n",
      "     |\n",
      "     |      is equivalent to:\n",
      "     |\n",
      "     |          sample(['red', 'red', 'red', 'red', 'blue', 'blue'], k=5)\n",
      "     |\n",
      "     |      To choose a sample from a range of integers, use range() for the\n",
      "     |      population argument.  This is especially fast and space efficient\n",
      "     |      for sampling from a large population:\n",
      "     |\n",
      "     |          sample(range(10000000), 60)\n",
      "     |\n",
      "     |  shuffle(self, x)\n",
      "     |      Shuffle list x in place, and return None.\n",
      "     |\n",
      "     |  triangular(self, low=0.0, high=1.0, mode=None)\n",
      "     |      Triangular distribution.\n",
      "     |\n",
      "     |      Continuous distribution bounded by given lower and upper limits,\n",
      "     |      and having a given mode value in-between.\n",
      "     |\n",
      "     |      http://en.wikipedia.org/wiki/Triangular_distribution\n",
      "     |\n",
      "     |      The mean (expected value) and variance of the random variable are:\n",
      "     |\n",
      "     |          E[X] = (low + high + mode) / 3\n",
      "     |          Var[X] = (low**2 + high**2 + mode**2 - low*high - low*mode - high*mode) / 18\n",
      "     |\n",
      "     |  uniform(self, a, b)\n",
      "     |      Get a random number in the range [a, b) or [a, b] depending on rounding.\n",
      "     |\n",
      "     |      The mean (expected value) and variance of the random variable are:\n",
      "     |\n",
      "     |          E[X] = (a + b) / 2\n",
      "     |          Var[X] = (b - a) ** 2 / 12\n",
      "     |\n",
      "     |  vonmisesvariate(self, mu, kappa)\n",
      "     |      Circular data distribution.\n",
      "     |\n",
      "     |      mu is the mean angle, expressed in radians between 0 and 2*pi, and\n",
      "     |      kappa is the concentration parameter, which must be greater than or\n",
      "     |      equal to zero.  If kappa is equal to zero, this distribution reduces\n",
      "     |      to a uniform random angle over the range 0 to 2*pi.\n",
      "     |\n",
      "     |  weibullvariate(self, alpha, beta)\n",
      "     |      Weibull distribution.\n",
      "     |\n",
      "     |      alpha is the scale parameter and beta is the shape parameter.\n",
      "     |\n",
      "     |  ----------------------------------------------------------------------\n",
      "     |  Class methods inherited from Random:\n",
      "     |\n",
      "     |  __init_subclass__(**kwargs)\n",
      "     |      Control how subclasses generate random integers.\n",
      "     |\n",
      "     |      The algorithm a subclass can use depends on the random() and/or\n",
      "     |      getrandbits() implementation available to it and determines\n",
      "     |      whether it can generate random integers from arbitrarily large\n",
      "     |      ranges.\n",
      "     |\n",
      "     |  ----------------------------------------------------------------------\n",
      "     |  Data descriptors inherited from Random:\n",
      "     |\n",
      "     |  __dict__\n",
      "     |      dictionary for instance variables\n",
      "     |\n",
      "     |  __weakref__\n",
      "     |      list of weak references to the object\n",
      "     |\n",
      "     |  ----------------------------------------------------------------------\n",
      "     |  Data and other attributes inherited from Random:\n",
      "     |\n",
      "     |  VERSION = 3\n",
      "     |\n",
      "     |  ----------------------------------------------------------------------\n",
      "     |  Static methods inherited from _random.Random:\n",
      "     |\n",
      "     |  __new__(*args, **kwargs) class method of _random.Random\n",
      "     |      Create and return a new object.  See help(type) for accurate signature.\n",
      "\n",
      "FUNCTIONS\n",
      "    betavariate(alpha, beta) method of Random instance\n",
      "        Beta distribution.\n",
      "\n",
      "        Conditions on the parameters are alpha > 0 and beta > 0.\n",
      "        Returned values range between 0 and 1.\n",
      "\n",
      "        The mean (expected value) and variance of the random variable are:\n",
      "\n",
      "            E[X] = alpha / (alpha + beta)\n",
      "            Var[X] = alpha * beta / ((alpha + beta)**2 * (alpha + beta + 1))\n",
      "\n",
      "    binomialvariate(n=1, p=0.5) method of Random instance\n",
      "        Binomial random variable.\n",
      "\n",
      "        Gives the number of successes for *n* independent trials\n",
      "        with the probability of success in each trial being *p*:\n",
      "\n",
      "            sum(random() < p for i in range(n))\n",
      "\n",
      "        Returns an integer in the range:\n",
      "\n",
      "            0 <= X <= n\n",
      "\n",
      "        The integer is chosen with the probability:\n",
      "\n",
      "            P(X == k) = math.comb(n, k) * p ** k * (1 - p) ** (n - k)\n",
      "\n",
      "        The mean (expected value) and variance of the random variable are:\n",
      "\n",
      "            E[X] = n * p\n",
      "            Var[X] = n * p * (1 - p)\n",
      "\n",
      "    choice(seq) method of Random instance\n",
      "        Choose a random element from a non-empty sequence.\n",
      "\n",
      "    choices(population, weights=None, *, cum_weights=None, k=1) method of Random instance\n",
      "        Return a k sized list of population elements chosen with replacement.\n",
      "\n",
      "        If the relative weights or cumulative weights are not specified,\n",
      "        the selections are made with equal probability.\n",
      "\n",
      "    expovariate(lambd=1.0) method of Random instance\n",
      "        Exponential distribution.\n",
      "\n",
      "        lambd is 1.0 divided by the desired mean.  It should be\n",
      "        nonzero.  (The parameter would be called \"lambda\", but that is\n",
      "        a reserved word in Python.)  Returned values range from 0 to\n",
      "        positive infinity if lambd is positive, and from negative\n",
      "        infinity to 0 if lambd is negative.\n",
      "\n",
      "        The mean (expected value) and variance of the random variable are:\n",
      "\n",
      "            E[X] = 1 / lambd\n",
      "            Var[X] = 1 / lambd ** 2\n",
      "\n",
      "    gammavariate(alpha, beta) method of Random instance\n",
      "        Gamma distribution.  Not the gamma function!\n",
      "\n",
      "        Conditions on the parameters are alpha > 0 and beta > 0.\n",
      "\n",
      "        The probability distribution function is:\n",
      "\n",
      "                    x ** (alpha - 1) * math.exp(-x / beta)\n",
      "          pdf(x) =  --------------------------------------\n",
      "                      math.gamma(alpha) * beta ** alpha\n",
      "\n",
      "        The mean (expected value) and variance of the random variable are:\n",
      "\n",
      "            E[X] = alpha * beta\n",
      "            Var[X] = alpha * beta ** 2\n",
      "\n",
      "    gauss(mu=0.0, sigma=1.0) method of Random instance\n",
      "        Gaussian distribution.\n",
      "\n",
      "        mu is the mean, and sigma is the standard deviation.  This is\n",
      "        slightly faster than the normalvariate() function.\n",
      "\n",
      "        Not thread-safe without a lock around calls.\n",
      "\n",
      "    getrandbits(k, /) method of Random instance\n",
      "        getrandbits(k) -> x.  Generates an int with k random bits.\n",
      "\n",
      "    getstate() method of Random instance\n",
      "        Return internal state; can be passed to setstate() later.\n",
      "\n",
      "    lognormvariate(mu, sigma) method of Random instance\n",
      "        Log normal distribution.\n",
      "\n",
      "        If you take the natural logarithm of this distribution, you'll get a\n",
      "        normal distribution with mean mu and standard deviation sigma.\n",
      "        mu can have any value, and sigma must be greater than zero.\n",
      "\n",
      "    normalvariate(mu=0.0, sigma=1.0) method of Random instance\n",
      "        Normal distribution.\n",
      "\n",
      "        mu is the mean, and sigma is the standard deviation.\n",
      "\n",
      "    paretovariate(alpha) method of Random instance\n",
      "        Pareto distribution.  alpha is the shape parameter.\n",
      "\n",
      "    randbytes(n) method of Random instance\n",
      "        Generate n random bytes.\n",
      "\n",
      "    randint(a, b) method of Random instance\n",
      "        Return random integer in range [a, b], including both end points.\n",
      "\n",
      "    random() method of Random instance\n",
      "        random() -> x in the interval [0, 1).\n",
      "\n",
      "    randrange(start, stop=None, step=1) method of Random instance\n",
      "        Choose a random item from range(stop) or range(start, stop[, step]).\n",
      "\n",
      "        Roughly equivalent to ``choice(range(start, stop, step))`` but\n",
      "        supports arbitrarily large ranges and is optimized for common cases.\n",
      "\n",
      "    sample(population, k, *, counts=None) method of Random instance\n",
      "        Chooses k unique random elements from a population sequence.\n",
      "\n",
      "        Returns a new list containing elements from the population while\n",
      "        leaving the original population unchanged.  The resulting list is\n",
      "        in selection order so that all sub-slices will also be valid random\n",
      "        samples.  This allows raffle winners (the sample) to be partitioned\n",
      "        into grand prize and second place winners (the subslices).\n",
      "\n",
      "        Members of the population need not be hashable or unique.  If the\n",
      "        population contains repeats, then each occurrence is a possible\n",
      "        selection in the sample.\n",
      "\n",
      "        Repeated elements can be specified one at a time or with the optional\n",
      "        counts parameter.  For example:\n",
      "\n",
      "            sample(['red', 'blue'], counts=[4, 2], k=5)\n",
      "\n",
      "        is equivalent to:\n",
      "\n",
      "            sample(['red', 'red', 'red', 'red', 'blue', 'blue'], k=5)\n",
      "\n",
      "        To choose a sample from a range of integers, use range() for the\n",
      "        population argument.  This is especially fast and space efficient\n",
      "        for sampling from a large population:\n",
      "\n",
      "            sample(range(10000000), 60)\n",
      "\n",
      "    seed(a=None, version=2) method of Random instance\n",
      "        Initialize internal state from a seed.\n",
      "\n",
      "        The only supported seed types are None, int, float,\n",
      "        str, bytes, and bytearray.\n",
      "\n",
      "        None or no argument seeds from current time or from an operating\n",
      "        system specific randomness source if available.\n",
      "\n",
      "        If *a* is an int, all bits are used.\n",
      "\n",
      "        For version 2 (the default), all of the bits are used if *a* is a str,\n",
      "        bytes, or bytearray.  For version 1 (provided for reproducing random\n",
      "        sequences from older versions of Python), the algorithm for str and\n",
      "        bytes generates a narrower range of seeds.\n",
      "\n",
      "    setstate(state) method of Random instance\n",
      "        Restore internal state from object returned by getstate().\n",
      "\n",
      "    shuffle(x) method of Random instance\n",
      "        Shuffle list x in place, and return None.\n",
      "\n",
      "    triangular(low=0.0, high=1.0, mode=None) method of Random instance\n",
      "        Triangular distribution.\n",
      "\n",
      "        Continuous distribution bounded by given lower and upper limits,\n",
      "        and having a given mode value in-between.\n",
      "\n",
      "        http://en.wikipedia.org/wiki/Triangular_distribution\n",
      "\n",
      "        The mean (expected value) and variance of the random variable are:\n",
      "\n",
      "            E[X] = (low + high + mode) / 3\n",
      "            Var[X] = (low**2 + high**2 + mode**2 - low*high - low*mode - high*mode) / 18\n",
      "\n",
      "    uniform(a, b) method of Random instance\n",
      "        Get a random number in the range [a, b) or [a, b] depending on rounding.\n",
      "\n",
      "        The mean (expected value) and variance of the random variable are:\n",
      "\n",
      "            E[X] = (a + b) / 2\n",
      "            Var[X] = (b - a) ** 2 / 12\n",
      "\n",
      "    vonmisesvariate(mu, kappa) method of Random instance\n",
      "        Circular data distribution.\n",
      "\n",
      "        mu is the mean angle, expressed in radians between 0 and 2*pi, and\n",
      "        kappa is the concentration parameter, which must be greater than or\n",
      "        equal to zero.  If kappa is equal to zero, this distribution reduces\n",
      "        to a uniform random angle over the range 0 to 2*pi.\n",
      "\n",
      "    weibullvariate(alpha, beta) method of Random instance\n",
      "        Weibull distribution.\n",
      "\n",
      "        alpha is the scale parameter and beta is the shape parameter.\n",
      "\n",
      "DATA\n",
      "    __all__ = ['Random', 'SystemRandom', 'betavariate', 'binomialvariate',...\n",
      "\n",
      "FILE\n",
      "    /Library/Frameworks/Python.framework/Versions/3.14/lib/python3.14/random.py\n",
      "\n",
      "\n"
     ]
    }
   ],
   "source": [
    "help(random)"
   ]
  },
  {
   "cell_type": "code",
   "execution_count": 50,
   "id": "12960fce-c825-4de7-be8b-b9864134d381",
   "metadata": {},
   "outputs": [],
   "source": [
    "import random\n",
    "random.shuffle(deck)"
   ]
  },
  {
   "cell_type": "code",
   "execution_count": 51,
   "id": "fbde16b2-5588-4d75-b45b-5965ccc9f2d8",
   "metadata": {},
   "outputs": [
    {
     "name": "stdout",
     "output_type": "stream",
     "text": [
      "[Card(rank='4', suit='diamonds'), Card(rank='10', suit='diamonds'), Card(rank='K', suit='clubs'), Card(rank='J', suit='diamonds'), Card(rank='3', suit='hearts'), Card(rank='9', suit='clubs'), Card(rank='8', suit='spades'), Card(rank='5', suit='spades'), Card(rank='3', suit='diamonds'), Card(rank='5', suit='clubs'), Card(rank='6', suit='clubs'), Card(rank='2', suit='spades'), Card(rank='7', suit='diamonds'), Card(rank='A', suit='diamonds'), Card(rank='7', suit='hearts'), Card(rank='9', suit='hearts'), Card(rank='7', suit='clubs'), Card(rank='2', suit='hearts'), Card(rank='Q', suit='diamonds'), Card(rank='6', suit='hearts'), Card(rank='2', suit='diamonds'), Card(rank='J', suit='hearts'), Card(rank='3', suit='spades'), Card(rank='10', suit='clubs'), Card(rank='4', suit='spades'), Card(rank='K', suit='hearts'), Card(rank='Q', suit='clubs'), Card(rank='8', suit='diamonds'), Card(rank='10', suit='spades'), Card(rank='8', suit='clubs'), Card(rank='K', suit='diamonds'), Card(rank='9', suit='spades'), Card(rank='K', suit='spades'), Card(rank='Q', suit='hearts'), Card(rank='8', suit='hearts'), Card(rank='4', suit='hearts'), Card(rank='J', suit='spades'), Card(rank='A', suit='clubs'), Card(rank='5', suit='hearts'), Card(rank='10', suit='hearts'), Card(rank='3', suit='clubs'), Card(rank='J', suit='clubs'), Card(rank='2', suit='clubs'), Card(rank='A', suit='spades'), Card(rank='9', suit='diamonds'), Card(rank='4', suit='clubs'), Card(rank='A', suit='hearts'), Card(rank='6', suit='diamonds'), Card(rank='7', suit='spades'), Card(rank='Q', suit='spades'), Card(rank='5', suit='diamonds'), Card(rank='6', suit='spades')]\n"
     ]
    }
   ],
   "source": [
    "print(deck)"
   ]
  },
  {
   "cell_type": "code",
   "execution_count": 53,
   "id": "4e4bc833-d7ed-4909-9128-8adceff7bdaf",
   "metadata": {},
   "outputs": [
    {
     "data": {
      "text/plain": [
       "'spades'"
      ]
     },
     "execution_count": 53,
     "metadata": {},
     "output_type": "execute_result"
    }
   ],
   "source": [
    "deck[-1].suit"
   ]
  },
  {
   "cell_type": "code",
   "execution_count": 55,
   "id": "2520f54c-2208-4fa1-bc87-5ab36c027822",
   "metadata": {},
   "outputs": [],
   "source": [
    "nums = [1, 2, 3, 4, 5] * 2"
   ]
  },
  {
   "cell_type": "code",
   "execution_count": 56,
   "id": "ef407378-80b8-4845-9c78-cde405fac7dd",
   "metadata": {},
   "outputs": [
    {
     "data": {
      "text/plain": [
       "[1, 2, 3, 4, 5, 1, 2, 3, 4, 5]"
      ]
     },
     "execution_count": 56,
     "metadata": {},
     "output_type": "execute_result"
    }
   ],
   "source": [
    "nums"
   ]
  },
  {
   "cell_type": "code",
   "execution_count": 57,
   "id": "f47a31b1-8d0e-430a-8e04-570909f05fda",
   "metadata": {},
   "outputs": [
    {
     "ename": "TypeError",
     "evalue": "'>' not supported between instances of 'list' and 'int'",
     "output_type": "error",
     "traceback": [
      "\u001b[31m---------------------------------------------------------------------------\u001b[39m",
      "\u001b[31mTypeError\u001b[39m                                 Traceback (most recent call last)",
      "\u001b[36mCell\u001b[39m\u001b[36m \u001b[39m\u001b[32mIn[57]\u001b[39m\u001b[32m, line 1\u001b[39m\n\u001b[32m----> \u001b[39m\u001b[32m1\u001b[39m \u001b[43mnums\u001b[49m\u001b[43m \u001b[49m\u001b[43m>\u001b[49m\u001b[43m \u001b[49m\u001b[32;43m5\u001b[39;49m\n",
      "\u001b[31mTypeError\u001b[39m: '>' not supported between instances of 'list' and 'int'"
     ]
    }
   ],
   "source": [
    "nums > 5"
   ]
  },
  {
   "cell_type": "code",
   "execution_count": 1,
   "id": "a4235539-831f-4df0-ba2c-d853b89b6e62",
   "metadata": {},
   "outputs": [],
   "source": [
    "numbers = [0] * 10"
   ]
  },
  {
   "cell_type": "code",
   "execution_count": 2,
   "id": "82c1ba19-652b-46cc-96e8-35c68a447064",
   "metadata": {},
   "outputs": [
    {
     "data": {
      "text/plain": [
       "[0, 0, 0, 0, 0, 0, 0, 0, 0, 0]"
      ]
     },
     "execution_count": 2,
     "metadata": {},
     "output_type": "execute_result"
    }
   ],
   "source": [
    "numbers"
   ]
  },
  {
   "cell_type": "code",
   "execution_count": 3,
   "id": "c9a0bd39-9509-48c4-ab86-43755f417990",
   "metadata": {},
   "outputs": [
    {
     "data": {
      "text/plain": [
       "False"
      ]
     },
     "execution_count": 3,
     "metadata": {},
     "output_type": "execute_result"
    }
   ],
   "source": [
    "any(numbers)"
   ]
  },
  {
   "cell_type": "code",
   "execution_count": 4,
   "id": "8f9fc874-4931-46bd-8694-a2bbf92c4dfb",
   "metadata": {},
   "outputs": [],
   "source": [
    "numbers[-1] = 3"
   ]
  },
  {
   "cell_type": "code",
   "execution_count": 6,
   "id": "41b21b34-1676-4b2a-9a9c-4ab641075cbb",
   "metadata": {},
   "outputs": [
    {
     "data": {
      "text/plain": [
       "[0, 0, 0, 0, 0, 0, 0, 0, 0, 3]"
      ]
     },
     "execution_count": 6,
     "metadata": {},
     "output_type": "execute_result"
    }
   ],
   "source": [
    "numbers"
   ]
  },
  {
   "cell_type": "code",
   "execution_count": 7,
   "id": "ef29520d-3139-4107-8e02-e4c6a62c1677",
   "metadata": {},
   "outputs": [
    {
     "data": {
      "text/plain": [
       "True"
      ]
     },
     "execution_count": 7,
     "metadata": {},
     "output_type": "execute_result"
    }
   ],
   "source": [
    "any(numbers)"
   ]
  },
  {
   "cell_type": "code",
   "execution_count": 8,
   "id": "d98cbaed-cef4-4842-8b0f-c9ed43615b0c",
   "metadata": {},
   "outputs": [
    {
     "data": {
      "text/plain": [
       "False"
      ]
     },
     "execution_count": 8,
     "metadata": {},
     "output_type": "execute_result"
    }
   ],
   "source": [
    "all(numbers)"
   ]
  },
  {
   "cell_type": "code",
   "execution_count": 9,
   "id": "5168662a-ca07-4aa6-bb75-2cae08a031cf",
   "metadata": {},
   "outputs": [],
   "source": [
    "names = 'Lasya Matthew Denny Tung'.split()"
   ]
  },
  {
   "cell_type": "code",
   "execution_count": 10,
   "id": "4d0da2b3-da24-44dd-9a15-ecd2a44204b8",
   "metadata": {},
   "outputs": [
    {
     "data": {
      "text/plain": [
       "['Lasya', 'Matthew', 'Denny', 'Tung']"
      ]
     },
     "execution_count": 10,
     "metadata": {},
     "output_type": "execute_result"
    }
   ],
   "source": [
    "names"
   ]
  },
  {
   "cell_type": "code",
   "execution_count": 11,
   "id": "94470237-7750-4412-94cd-0f36d72fff6d",
   "metadata": {},
   "outputs": [
    {
     "data": {
      "text/plain": [
       "True"
      ]
     },
     "execution_count": 11,
     "metadata": {},
     "output_type": "execute_result"
    }
   ],
   "source": [
    "all(names)"
   ]
  },
  {
   "cell_type": "code",
   "execution_count": 12,
   "id": "ab318437-f719-4c91-aae8-d345d2accf4b",
   "metadata": {},
   "outputs": [],
   "source": [
    "names.append('')"
   ]
  },
  {
   "cell_type": "code",
   "execution_count": 13,
   "id": "dc59e0ac-df2f-46e1-98ae-916f221463d5",
   "metadata": {},
   "outputs": [
    {
     "data": {
      "text/plain": [
       "['Lasya', 'Matthew', 'Denny', 'Tung', '']"
      ]
     },
     "execution_count": 13,
     "metadata": {},
     "output_type": "execute_result"
    }
   ],
   "source": [
    "names"
   ]
  },
  {
   "cell_type": "code",
   "execution_count": 14,
   "id": "4b4d1b6d-3d56-4039-b0e6-76aa356a9ec6",
   "metadata": {},
   "outputs": [
    {
     "data": {
      "text/plain": [
       "False"
      ]
     },
     "execution_count": 14,
     "metadata": {},
     "output_type": "execute_result"
    }
   ],
   "source": [
    "all(names)"
   ]
  },
  {
   "cell_type": "code",
   "execution_count": 16,
   "id": "cd2d512e-9fec-4d72-a619-0c300e638f09",
   "metadata": {},
   "outputs": [
    {
     "data": {
      "text/plain": [
       "True"
      ]
     },
     "execution_count": 16,
     "metadata": {},
     "output_type": "execute_result"
    }
   ],
   "source": [
    "any(names)"
   ]
  },
  {
   "cell_type": "code",
   "execution_count": null,
   "id": "fffeba83-50f3-427e-920d-327bbab4e34c",
   "metadata": {},
   "outputs": [],
   "source": [
    "# pattern letters/letters\n",
    "# [a-z]*/[a-z]*"
   ]
  },
  {
   "cell_type": "code",
   "execution_count": 17,
   "id": "ed3c3e0a-b86f-4b5f-9209-46a64fcb2ae5",
   "metadata": {},
   "outputs": [
    {
     "name": "stdout",
     "output_type": "stream",
     "text": [
      "Help on built-in function sorted in module builtins:\n",
      "\n",
      "sorted(iterable, /, *, key=None, reverse=False)\n",
      "    Return a new list containing all items from the iterable in ascending order.\n",
      "\n",
      "    A custom key function can be supplied to customize the sort order, and the\n",
      "    reverse flag can be set to request the result in descending order.\n",
      "\n"
     ]
    }
   ],
   "source": [
    "help(sorted)"
   ]
  },
  {
   "cell_type": "code",
   "execution_count": 22,
   "id": "6a082d85-1e11-4709-b04f-fb6934f924d6",
   "metadata": {},
   "outputs": [],
   "source": [
    "fruits = 'apple pear fig lemon guava cherry'.split()"
   ]
  },
  {
   "cell_type": "code",
   "execution_count": 23,
   "id": "e849870a-8a79-4b13-bda0-f9da1317867f",
   "metadata": {},
   "outputs": [
    {
     "data": {
      "text/plain": [
       "['apple', 'cherry', 'fig', 'guava', 'lemon', 'pear']"
      ]
     },
     "execution_count": 23,
     "metadata": {},
     "output_type": "execute_result"
    }
   ],
   "source": [
    "sorted(fruits)"
   ]
  },
  {
   "cell_type": "code",
   "execution_count": 24,
   "id": "84c0fae3-0063-4a7c-9ad9-f153c6007a1d",
   "metadata": {},
   "outputs": [
    {
     "data": {
      "text/plain": [
       "['fig', 'pear', 'apple', 'lemon', 'guava', 'cherry']"
      ]
     },
     "execution_count": 24,
     "metadata": {},
     "output_type": "execute_result"
    }
   ],
   "source": [
    "sorted(fruits, key=len)"
   ]
  },
  {
   "cell_type": "code",
   "execution_count": 25,
   "id": "635ebd40-ee89-45b3-bf17-301edc3a304b",
   "metadata": {},
   "outputs": [],
   "source": [
    "def last_char(string):\n",
    "    return string[-1]"
   ]
  },
  {
   "cell_type": "code",
   "execution_count": 26,
   "id": "b6d9c258-5be1-4460-a973-3c9fedca6144",
   "metadata": {},
   "outputs": [
    {
     "data": {
      "text/plain": [
       "'4'"
      ]
     },
     "execution_count": 26,
     "metadata": {},
     "output_type": "execute_result"
    }
   ],
   "source": [
    "last_char('1234')"
   ]
  },
  {
   "cell_type": "code",
   "execution_count": 32,
   "id": "541b6d66-0650-4b16-bc88-0ac210e7ca38",
   "metadata": {},
   "outputs": [
    {
     "data": {
      "text/plain": [
       "['guava', 'apple', 'fig', 'lemon', 'pear', 'cherry']"
      ]
     },
     "execution_count": 32,
     "metadata": {},
     "output_type": "execute_result"
    }
   ],
   "source": [
    "sorted(fruits, key=last_char)"
   ]
  },
  {
   "cell_type": "code",
   "execution_count": 35,
   "id": "ade59dd3-6f25-4550-b987-58da1e817112",
   "metadata": {},
   "outputs": [
    {
     "data": {
      "text/plain": [
       "['guava', 'apple', 'fig', 'lemon', 'pear', 'cherry']"
      ]
     },
     "execution_count": 35,
     "metadata": {},
     "output_type": "execute_result"
    }
   ],
   "source": [
    "sorted(fruits, key=lambda s: s[-1])"
   ]
  },
  {
   "cell_type": "code",
   "execution_count": 37,
   "id": "c9185107-46b8-4cc0-b298-4cda05c8f2f5",
   "metadata": {},
   "outputs": [
    {
     "data": {
      "text/plain": [
       "[('a', 3), ('b', 1), ('c', 2)]"
      ]
     },
     "execution_count": 37,
     "metadata": {},
     "output_type": "execute_result"
    }
   ],
   "source": [
    "pairs = [(\"c\", 2), (\"a\", 3), (\"b\", 1)]\n",
    "sorted(pairs)"
   ]
  },
  {
   "cell_type": "code",
   "execution_count": 38,
   "id": "0dab83f6-ae5e-441f-9857-85c7c8a1fb43",
   "metadata": {},
   "outputs": [
    {
     "data": {
      "text/plain": [
       "[('b', 1), ('c', 2), ('a', 3)]"
      ]
     },
     "execution_count": 38,
     "metadata": {},
     "output_type": "execute_result"
    }
   ],
   "source": [
    "sorted(pairs, key=lambda t: t[1])"
   ]
  },
  {
   "cell_type": "code",
   "execution_count": 1,
   "id": "b0452d03-f2d8-491a-9567-e6fc21400017",
   "metadata": {},
   "outputs": [
    {
     "name": "stdout",
     "output_type": "stream",
     "text": [
      "1\n",
      "2\n",
      "3\n",
      "4\n",
      "5\n",
      "6\n",
      "7\n",
      "8\n",
      "9\n",
      "10\n"
     ]
    }
   ],
   "source": [
    "for num in range(1, 11):\n",
    "    print(num)"
   ]
  },
  {
   "cell_type": "code",
   "execution_count": 1,
   "id": "e2b037fe-f689-4eeb-923e-94740584d0df",
   "metadata": {},
   "outputs": [],
   "source": [
    "import time\n",
    "\n",
    "class ExpiringSet: \n",
    "    \"\"\"Set in which items (may) expire after a specified number of seconds.\"\"\"\n",
    "    \n",
    "    def __init__(self, ttl=60):\n",
    "        self._set = {} # actually stored as a dict where values are ttls\n",
    "        self._ttl = ttl # default time to live for items\n",
    "\n",
    "\n",
    "    def __contains__(self, item):\n",
    "        \"\"\"Needs to be here and also not be expired.\"\"\"\n",
    "        \n",
    "        if ttl := self._set.get(item): # it's here, grab the ttl\n",
    "            match ttl:\n",
    "                case n if n > time.time(): # valid\n",
    "                    return True\n",
    "                case _: # expired, so clean it up\n",
    "                    del self._set[item]\n",
    "\n",
    "        # not here, or expired and deleted above...\n",
    "        return False\n",
    "\n",
    "\n",
    "    def __eq__(self, other):\n",
    "        \"\"\"Two ExpiringSets are equal if their keys are equal...\"\"\"\n",
    "        self._cleanup() # delete any expired entries\n",
    "        other._cleanup() # ditto...,\n",
    "        return self._set.keys() == other._set.keys()\n",
    "\n",
    "        \n",
    "    def __len__(self):\n",
    "        \"\"\"Compute len, which may mean removing expired items.\"\"\"\n",
    "        self._cleanup()\n",
    "        \n",
    "        return len(self._set)\n",
    "\n",
    "\n",
    "    def __repr__(self):\n",
    "        \"\"\"Human readable version. We could just ignore expired items,\n",
    "        but we might as well clean them up here.\n",
    "        \"\"\"\n",
    "        self._cleanup()\n",
    "\n",
    "        return f'/{', '.join(self._set.keys())}/'\n",
    "        \n",
    "        \n",
    "    def _cleanup(self):\n",
    "        \"\"\"Delete expired keys.\"\"\"\n",
    "        timestamp = time.time() # get current time\n",
    "        keys_to_del = [] # make a list of keys to del\n",
    "        \n",
    "        for item in self._set: # for each key...\n",
    "            # ...if it has expired\n",
    "            if self._set[item] < timestamp:\n",
    "                keys_to_del.append(item)\n",
    "\n",
    "        # we need to do this in a separate loop cuz we can't modify a\n",
    "        # dict while iterating over it...\n",
    "        for key in keys_to_del:\n",
    "            del self._set[key]\n",
    "\n",
    "            \n",
    "    def add(self, item, ttl=None):\n",
    "        \"\"\"Add an item to the ExpiringSet if it's not already here.\"\"\"\n",
    "        \n",
    "        if item in self._set: # already here, nothing to do\n",
    "            return\n",
    "\n",
    "        # if ttl is specified here, use it\n",
    "        # if not, use default ttl\n",
    "        expires = ttl or self._ttl\n",
    "        \n",
    "        if expires:\n",
    "            expires += int(time.time())\n",
    "        \n",
    "        self._set[item] = expires"
   ]
  },
  {
   "cell_type": "code",
   "execution_count": 2,
   "id": "07dd3191-1e8f-48ee-9855-2ff9b92135c7",
   "metadata": {},
   "outputs": [
    {
     "data": {
      "text/plain": [
       "/1, 2, 3, 4, 5, 6, 7, 8, 9, 10/"
      ]
     },
     "execution_count": 2,
     "metadata": {},
     "output_type": "execute_result"
    }
   ],
   "source": [
    "es = ExpiringSet(ttl=15)\n",
    "for num in range(1, 11):\n",
    "    es.add(str(num), num * 15)\n",
    "\n",
    "es"
   ]
  },
  {
   "cell_type": "code",
   "execution_count": null,
   "id": "3b45a82b-a652-4245-b797-9aec156fd9ec",
   "metadata": {},
   "outputs": [
    {
     "name": "stdout",
     "output_type": "stream",
     "text": [
      "10 /1, 2, 3, 4, 5, 6, 7, 8, 9, 10/\n",
      "9 /2, 3, 4, 5, 6, 7, 8, 9, 10/\n"
     ]
    }
   ],
   "source": [
    "import time \n",
    "for _ in range(10):\n",
    "    print(len(es), es)\n",
    "    time.sleep(15)"
   ]
  },
  {
   "cell_type": "code",
   "execution_count": 32,
   "id": "904b90cd-b47a-4b29-8ac0-8a62237b0e57",
   "metadata": {},
   "outputs": [
    {
     "name": "stdout",
     "output_type": "stream",
     "text": [
      "dict_keys(['thing', 'thing1'])\n",
      "dict_keys([])\n"
     ]
    },
    {
     "data": {
      "text/plain": [
       "False"
      ]
     },
     "execution_count": 32,
     "metadata": {},
     "output_type": "execute_result"
    }
   ],
   "source": [
    "es == es2"
   ]
  },
  {
   "cell_type": "code",
   "execution_count": 86,
   "id": "fc7e83b5-4a72-4b94-9978-447ea876e89e",
   "metadata": {},
   "outputs": [
    {
     "data": {
      "text/plain": [
       "True"
      ]
     },
     "execution_count": 86,
     "metadata": {},
     "output_type": "execute_result"
    }
   ],
   "source": [
    "'thing' in es"
   ]
  },
  {
   "cell_type": "code",
   "execution_count": null,
   "id": "83382e31-8944-43b6-91e3-9e7b213e5389",
   "metadata": {},
   "outputs": [],
   "source": []
  }
 ],
 "metadata": {
  "kernelspec": {
   "display_name": "Python 3 (ipykernel)",
   "language": "python",
   "name": "python3"
  },
  "language_info": {
   "codemirror_mode": {
    "name": "ipython",
    "version": 3
   },
   "file_extension": ".py",
   "mimetype": "text/x-python",
   "name": "python",
   "nbconvert_exporter": "python",
   "pygments_lexer": "ipython3",
   "version": "3.14.0"
  }
 },
 "nbformat": 4,
 "nbformat_minor": 5
}
